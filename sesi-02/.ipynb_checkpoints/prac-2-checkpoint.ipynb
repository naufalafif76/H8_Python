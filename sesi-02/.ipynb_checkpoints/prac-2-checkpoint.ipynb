{
 "cells": [
  {
   "cell_type": "code",
   "execution_count": 1,
   "id": "230797e5",
   "metadata": {},
   "outputs": [],
   "source": [
    "x = 0\n",
    "y = 5"
   ]
  },
  {
   "cell_type": "code",
   "execution_count": 6,
   "id": "47aa920c",
   "metadata": {},
   "outputs": [
    {
     "name": "stdout",
     "output_type": "stream",
     "text": [
      "yes\n",
      "yes\n"
     ]
    }
   ],
   "source": [
    "if x < y:\n",
    "    print('yes')\n",
    "    \n",
    "if y < x:\n",
    "    print('no')"
   ]
  },
  {
   "cell_type": "code",
   "execution_count": 7,
   "id": "4048d0aa",
   "metadata": {},
   "outputs": [
    {
     "name": "stdout",
     "output_type": "stream",
     "text": [
      "no\n"
     ]
    }
   ],
   "source": [
    "if x: # x = type data int dan bernilai 0 maka false\n",
    "    print('yes')\n",
    "    \n",
    "if y: # y = type data int dan tidak bernilai 0 maka true\n",
    "    print('no')"
   ]
  },
  {
   "cell_type": "code",
   "execution_count": 9,
   "id": "f653f023",
   "metadata": {},
   "outputs": [
    {
     "name": "stdout",
     "output_type": "stream",
     "text": [
      "yes\n"
     ]
    }
   ],
   "source": [
    "if 'aul' in 'grault':\n",
    "    print('yes')\n",
    "    \n",
    "if 'quux' in ['foo', 'bar', 'quux']:\n",
    "    print('no')"
   ]
  },
  {
   "cell_type": "code",
   "execution_count": 10,
   "id": "89570110",
   "metadata": {},
   "outputs": [],
   "source": [
    "keyword = 'hello'\n",
    "words = ['freedom stories', 'time', 'stories']\n",
    "\n",
    "if keyword in words:\n",
    "    print('found!')"
   ]
  },
  {
   "cell_type": "code",
   "execution_count": 17,
   "id": "d2fe645f",
   "metadata": {},
   "outputs": [
    {
     "name": "stdout",
     "output_type": "stream",
     "text": [
      "watch\n",
      "drink\n"
     ]
    }
   ],
   "source": [
    "weather = 'nice'\n",
    "\n",
    "if weather == 'windy':\n",
    "    print('Mow')\n",
    "    print('weed')\n",
    "    print('Take')\n",
    "else:\n",
    "    print('watch')\n",
    "    print('drink')"
   ]
  },
  {
   "cell_type": "code",
   "execution_count": 14,
   "id": "ace97066",
   "metadata": {},
   "outputs": [
    {
     "name": "stdout",
     "output_type": "stream",
     "text": [
      "a\n",
      "c\n",
      "d\n",
      "x\n"
     ]
    }
   ],
   "source": [
    "if 'foo' in ['foo', 'baz', 'qux']:\n",
    "    print('a')\n",
    "    \n",
    "    if 10 > 20:\n",
    "        print('b')\n",
    "        \n",
    "    if 10 < 20:\n",
    "        print('c')\n",
    "    \n",
    "    print('d')\n",
    "    \n",
    "print('x')"
   ]
  },
  {
   "cell_type": "code",
   "execution_count": 23,
   "id": "b6d7254e",
   "metadata": {},
   "outputs": [
    {
     "name": "stdout",
     "output_type": "stream",
     "text": [
      "10 is x\n",
      "--------------------\n",
      "x is small\n"
     ]
    }
   ],
   "source": [
    "x = 10\n",
    "print(x, 'is x')\n",
    "print('-' * 20)\n",
    "\n",
    "if x < 50:\n",
    "    print('x is small')\n",
    "else:\n",
    "    print('x is large')"
   ]
  },
  {
   "cell_type": "code",
   "execution_count": 36,
   "id": "6ecc6b10",
   "metadata": {},
   "outputs": [
    {
     "name": "stdout",
     "output_type": "stream",
     "text": [
      "beli majalah\n",
      "sisa uang 10000\n"
     ]
    }
   ],
   "source": [
    "hargaBuku = 20000\n",
    "hargaMajalah = 5000\n",
    "uang = 15000\n",
    "\n",
    "if uang > hargaBuku:\n",
    "    print('beli buku')\n",
    "    uang = uang - hargaBuku\n",
    "elif uang > hargaMajalah:\n",
    "    print('beli majalah')\n",
    "    uang = uang - hargaMajalah\n",
    "else:\n",
    "    print('uang tidak cukup')\n",
    "print('sisa uang', uang)"
   ]
  },
  {
   "cell_type": "code",
   "execution_count": 38,
   "id": "3056062a",
   "metadata": {},
   "outputs": [
    {
     "name": "stdout",
     "output_type": "stream",
     "text": [
      "Hello Hacktiv8\n"
     ]
    }
   ],
   "source": [
    "name = 'Hacktiv8'\n",
    "\n",
    "if name == 'Fred':\n",
    "    print('Hello', name)\n",
    "elif name == 'Hacktiv8':\n",
    "    print('Hello', name)\n",
    "else:\n",
    "    print('nothing to say hello')"
   ]
  },
  {
   "cell_type": "code",
   "execution_count": 41,
   "id": "602bd35d",
   "metadata": {},
   "outputs": [
    {
     "name": "stdout",
     "output_type": "stream",
     "text": [
      "a\n"
     ]
    }
   ],
   "source": [
    "# short circuit evaluation\n",
    "\n",
    "if 'a' in 'bar':\n",
    "    print('a')\n",
    "elif 'b' in 'bar':\n",
    "    print('b')\n",
    "elif 'c' in 'bar':\n",
    "    print('c')"
   ]
  },
  {
   "cell_type": "code",
   "execution_count": 46,
   "id": "f3e9b2d4",
   "metadata": {},
   "outputs": [
    {
     "name": "stdout",
     "output_type": "stream",
     "text": [
      "library\n"
     ]
    }
   ],
   "source": [
    "raining = True\n",
    "\n",
    "if not raining:\n",
    "    print('beach')\n",
    "else:\n",
    "    print('library')\n"
   ]
  },
  {
   "cell_type": "code",
   "execution_count": 44,
   "id": "0b203d7d",
   "metadata": {},
   "outputs": [
    {
     "name": "stdout",
     "output_type": "stream",
     "text": [
      "let's go to beach\n"
     ]
    }
   ],
   "source": [
    "raining = False\n",
    "print(\"let's go to\", 'beach' if not raining else 'library')"
   ]
  },
  {
   "cell_type": "code",
   "execution_count": 49,
   "id": "8a9bfa72",
   "metadata": {},
   "outputs": [
    {
     "name": "stdout",
     "output_type": "stream",
     "text": [
      "teen\n"
     ]
    }
   ],
   "source": [
    "age = 12\n",
    "\n",
    "# true if expression else false\n",
    "s = 'teen' if age < 21 else 'adult'\n",
    "print(s)"
   ]
  },
  {
   "cell_type": "code",
   "execution_count": 50,
   "id": "e3683645",
   "metadata": {},
   "outputs": [
    {
     "data": {
      "text/plain": [
       "'no'"
      ]
     },
     "execution_count": 50,
     "metadata": {},
     "output_type": "execute_result"
    }
   ],
   "source": [
    "'yes' if ('qux' in ['foo', 'bar', 'baz']) else 'no'"
   ]
  },
  {
   "cell_type": "code",
   "execution_count": 51,
   "id": "a56795e1",
   "metadata": {},
   "outputs": [
    {
     "data": {
      "text/plain": [
       "4"
      ]
     },
     "execution_count": 51,
     "metadata": {},
     "output_type": "execute_result"
    }
   ],
   "source": [
    "students = ['aa', 'bb', 'cc', 'dd']\n",
    "len(students)"
   ]
  },
  {
   "cell_type": "markdown",
   "id": "1c0e1ba4",
   "metadata": {},
   "source": [
    "i += 1 || i = i + 1\n",
    "i -= 1 || i = i - 1"
   ]
  },
  {
   "cell_type": "code",
   "execution_count": 55,
   "id": "f77ef81b",
   "metadata": {},
   "outputs": [
    {
     "name": "stdout",
     "output_type": "stream",
     "text": [
      "aa\n",
      "bb\n",
      "cc\n",
      "dd\n"
     ]
    }
   ],
   "source": [
    "i = 0\n",
    "while i < len(students):\n",
    "    print(students[i])\n",
    "    i += 1"
   ]
  },
  {
   "cell_type": "code",
   "execution_count": 57,
   "id": "96767626",
   "metadata": {},
   "outputs": [
    {
     "name": "stdout",
     "output_type": "stream",
     "text": [
      "4\n",
      "3\n",
      "2\n",
      "1\n",
      "0\n"
     ]
    }
   ],
   "source": [
    "n = 5\n",
    "while n > 0:\n",
    "    n -= 1\n",
    "    print(n)"
   ]
  },
  {
   "cell_type": "code",
   "execution_count": 59,
   "id": "84ec6295",
   "metadata": {},
   "outputs": [
    {
     "name": "stdout",
     "output_type": "stream",
     "text": [
      "4\n",
      "3\n",
      "loop ended!\n"
     ]
    }
   ],
   "source": [
    "n = 5\n",
    "while n > 0:\n",
    "    n -= 1\n",
    "    if n == 2:\n",
    "        break # terminated statement\n",
    "    print(n)\n",
    "print('loop ended!')"
   ]
  },
  {
   "cell_type": "code",
   "execution_count": 62,
   "id": "f2485189",
   "metadata": {},
   "outputs": [
    {
     "name": "stdout",
     "output_type": "stream",
     "text": [
      "4\n",
      "3\n",
      "1\n",
      "0\n",
      "loop ended!\n"
     ]
    }
   ],
   "source": [
    "n = 5\n",
    "while n > 0:\n",
    "    n -= 1\n",
    "    if n == 2:\n",
    "        continue # continue to next iterations statement\n",
    "    print(n)\n",
    "print('loop ended!')"
   ]
  },
  {
   "cell_type": "code",
   "execution_count": 63,
   "id": "862798a5",
   "metadata": {},
   "outputs": [
    {
     "name": "stdout",
     "output_type": "stream",
     "text": [
      "4\n",
      "-----\n",
      "3\n",
      "loop ended!\n"
     ]
    }
   ],
   "source": [
    "n = 5\n",
    "while n > 0:\n",
    "    n -= 1\n",
    "    \n",
    "    if n == 2:\n",
    "        break # break statement\n",
    "    \n",
    "    print(n)\n",
    "    \n",
    "    if n == 3:\n",
    "        continue\n",
    "    \n",
    "    print('-' * 5)\n",
    "\n",
    "print('loop ended!')"
   ]
  },
  {
   "cell_type": "code",
   "execution_count": 65,
   "id": "9ab35583",
   "metadata": {},
   "outputs": [
    {
     "name": "stdout",
     "output_type": "stream",
     "text": [
      "4\n",
      "3\n",
      "2\n",
      "1\n",
      "0\n",
      "loop done\n"
     ]
    }
   ],
   "source": [
    "n = 5\n",
    "while n > 0:\n",
    "    n -= 1\n",
    "    print(n)\n",
    "else:\n",
    "    print('loop done')"
   ]
  },
  {
   "cell_type": "code",
   "execution_count": 67,
   "id": "0b9aeed4",
   "metadata": {},
   "outputs": [
    {
     "name": "stdout",
     "output_type": "stream",
     "text": [
      "foo\n",
      "> baz\n",
      "> qux\n",
      "bar\n",
      "> baz\n",
      "> qux\n"
     ]
    }
   ],
   "source": [
    "a = ['foo', 'bar']\n",
    "\n",
    "while len(a):\n",
    "    print(a.pop(0))       # ['foo'], sisa ['bar']\n",
    "    b = ['baz', 'qux']\n",
    "    \n",
    "    while len(b):\n",
    "        print('>', b.pop(0)) # ['baz'], sisa ['qux']"
   ]
  },
  {
   "cell_type": "code",
   "execution_count": 70,
   "id": "d6a6f033",
   "metadata": {},
   "outputs": [
    {
     "name": "stdout",
     "output_type": "stream",
     "text": [
      "i  0\n",
      "j  1\n",
      "j  2\n",
      "will break loop using j counter\n",
      "i  1\n",
      "j  1\n",
      "j  2\n",
      "will break loop using j counter\n",
      "will break loop using i counter\n"
     ]
    }
   ],
   "source": [
    "i = 0\n",
    "while i < 4:\n",
    "    print('i ', i)\n",
    "    \n",
    "    j = 1\n",
    "    while j < 5:\n",
    "        print('j ', j)\n",
    "        if j == 2:\n",
    "            print('will break loop using j counter')\n",
    "            break\n",
    "        j += 1\n",
    "    \n",
    "    if i == 1:\n",
    "        print('will break loop using i counter')\n",
    "        break\n",
    "    i+=1\n"
   ]
  },
  {
   "cell_type": "code",
   "execution_count": 71,
   "id": "54aa76c9",
   "metadata": {},
   "outputs": [
    {
     "name": "stdout",
     "output_type": "stream",
     "text": [
      "0\n",
      "1\n",
      "2\n",
      "3\n",
      "4\n",
      "5\n",
      "6\n",
      "7\n",
      "8\n",
      "9\n"
     ]
    }
   ],
   "source": [
    "# for i = 0 to 9\n",
    "for i in range(10):\n",
    "    print(i)"
   ]
  },
  {
   "cell_type": "code",
   "execution_count": 73,
   "id": "3dc846d7",
   "metadata": {},
   "outputs": [
    {
     "name": "stdout",
     "output_type": "stream",
     "text": [
      "1\n",
      "2\n",
      "3\n",
      "4\n",
      "5\n",
      "6\n",
      "7\n",
      "8\n",
      "9\n"
     ]
    }
   ],
   "source": [
    "# for i = 1 to 9\n",
    "for i in range(1, 10):\n",
    "    print(i)"
   ]
  },
  {
   "cell_type": "code",
   "execution_count": 76,
   "id": "7d644ad4",
   "metadata": {},
   "outputs": [
    {
     "name": "stdout",
     "output_type": "stream",
     "text": [
      "1\n",
      "3\n",
      "5\n",
      "7\n",
      "9\n",
      "11\n",
      "13\n"
     ]
    }
   ],
   "source": [
    "# 1, 3, 5, 7, 9, 11, 13\n",
    "# range(start, end, step) default start = 0 & step = 1\n",
    "for i in range(1, 14, 2):\n",
    "    print(i)"
   ]
  },
  {
   "cell_type": "code",
   "execution_count": 78,
   "id": "904d5a56",
   "metadata": {},
   "outputs": [
    {
     "name": "stdout",
     "output_type": "stream",
     "text": [
      "foo\n",
      "bar\n",
      "baz\n"
     ]
    }
   ],
   "source": [
    "d = {'foo': 1, 'bar': 2, 'baz': 3}\n",
    "for k in d.keys():\n",
    "    print(k)"
   ]
  },
  {
   "cell_type": "code",
   "execution_count": 79,
   "id": "f667ff52",
   "metadata": {},
   "outputs": [
    {
     "name": "stdout",
     "output_type": "stream",
     "text": [
      "1\n",
      "2\n",
      "3\n"
     ]
    }
   ],
   "source": [
    "d = {'foo': 1, 'bar': 2, 'baz': 3}\n",
    "for k in d.values():\n",
    "    print(k)"
   ]
  },
  {
   "cell_type": "code",
   "execution_count": 81,
   "id": "19be2966",
   "metadata": {},
   "outputs": [
    {
     "name": "stdout",
     "output_type": "stream",
     "text": [
      "foo 1\n",
      "bar 2\n",
      "baz 3\n"
     ]
    }
   ],
   "source": [
    "d = {'foo': 1, 'bar': 2, 'baz': 3}\n",
    "for k, v in d.items():\n",
    "    print(k, v)\n",
    "\n",
    "# for k in d.items():\n",
    "#     print(k)"
   ]
  },
  {
   "cell_type": "code",
   "execution_count": 84,
   "id": "325d70b5",
   "metadata": {},
   "outputs": [
    {
     "name": "stdout",
     "output_type": "stream",
     "text": [
      "0\n",
      "1\n",
      "2\n",
      "3\n",
      "4\n",
      "3\n",
      "2\n"
     ]
    }
   ],
   "source": [
    "for n in (0, 1, 2, 3, 4, 3, 2):\n",
    "    print(n)"
   ]
  },
  {
   "cell_type": "code",
   "execution_count": 85,
   "id": "37695781",
   "metadata": {},
   "outputs": [
    {
     "name": "stdout",
     "output_type": "stream",
     "text": [
      "0\n",
      "1\n",
      "2\n",
      "3\n",
      "4\n"
     ]
    }
   ],
   "source": [
    "x = 5\n",
    "\n",
    "for i in range(x):\n",
    "    print(i)"
   ]
  },
  {
   "cell_type": "code",
   "execution_count": 90,
   "id": "7f1976ff",
   "metadata": {},
   "outputs": [
    {
     "name": "stdout",
     "output_type": "stream",
     "text": [
      "foo\n",
      "bar\n",
      "baz\n"
     ]
    }
   ],
   "source": [
    "for i in ['foo', 'bar', 'baz', 'qux']:\n",
    "    if 'u' in i:\n",
    "        break\n",
    "    print(i)"
   ]
  },
  {
   "cell_type": "code",
   "execution_count": 91,
   "id": "cdd12d18",
   "metadata": {},
   "outputs": [
    {
     "name": "stdout",
     "output_type": "stream",
     "text": [
      "foo\n",
      "qux\n"
     ]
    }
   ],
   "source": [
    "for i in ['foo', 'bar', 'baz', 'qux']:\n",
    "    if 'b' in i:\n",
    "        continue\n",
    "    print(i)"
   ]
  },
  {
   "cell_type": "code",
   "execution_count": 92,
   "id": "34ec5591",
   "metadata": {},
   "outputs": [
    {
     "name": "stdout",
     "output_type": "stream",
     "text": [
      "foo\n",
      "bar\n",
      "baz\n",
      "qux\n",
      "done\n"
     ]
    }
   ],
   "source": [
    "for i in ['foo', 'bar', 'baz', 'qux']:\n",
    "    print(i)\n",
    "else:\n",
    "    print('done') # will execute"
   ]
  },
  {
   "cell_type": "code",
   "execution_count": 94,
   "id": "cfa2e138",
   "metadata": {},
   "outputs": [
    {
     "name": "stdout",
     "output_type": "stream",
     "text": [
      "foo\n",
      "bar\n"
     ]
    }
   ],
   "source": [
    "for i in ['foo', 'bar', 'baz', 'qux']:\n",
    "    if 'z' in i:\n",
    "        break\n",
    "    print(i)\n",
    "else:\n",
    "    print('done') # will not execute"
   ]
  },
  {
   "cell_type": "code",
   "execution_count": 96,
   "id": "39bb3f08",
   "metadata": {},
   "outputs": [
    {
     "name": "stdout",
     "output_type": "stream",
     "text": [
      "ketikan temperatur yang ingin dikonversi:45F\n",
      "45 <class 'int'>\n",
      "F\n",
      "26\n"
     ]
    }
   ],
   "source": [
    "temp = input('ketikan temperatur yang ingin dikonversi:')\n",
    "# print(temp)\n",
    "degree = int(temp[:-1])\n",
    "print(degree, type(degree))\n",
    "\n",
    "i_convertion = temp[-1]\n",
    "print(i_convertion)\n",
    "\n",
    "result = 0\n",
    "if i_convertion == \"C\":\n",
    "    result = int(round(9 * degree) / 5 + 32)\n",
    "elif i_convertion == \"F\":\n",
    "    result = int(round(4 - 32) / 5 + 32)\n",
    "\n",
    "print(result)"
   ]
  },
  {
   "cell_type": "code",
   "execution_count": 97,
   "id": "b7fc3710",
   "metadata": {},
   "outputs": [
    {
     "name": "stdout",
     "output_type": "stream",
     "text": [
      "ketikkan karakter =Stop\n",
      "stop\n"
     ]
    }
   ],
   "source": [
    "while True:\n",
    "    msg = input(\"ketikkan karakter = \").lower()\n",
    "    print(msg)\n",
    "    if msg == \"stop\":\n",
    "        break\n"
   ]
  },
  {
   "cell_type": "code",
   "execution_count": null,
   "id": "60340ec3",
   "metadata": {},
   "outputs": [],
   "source": []
  }
 ],
 "metadata": {
  "kernelspec": {
   "display_name": "Python 3 (ipykernel)",
   "language": "python",
   "name": "python3"
  },
  "language_info": {
   "codemirror_mode": {
    "name": "ipython",
    "version": 3
   },
   "file_extension": ".py",
   "mimetype": "text/x-python",
   "name": "python",
   "nbconvert_exporter": "python",
   "pygments_lexer": "ipython3",
   "version": "3.9.12"
  }
 },
 "nbformat": 4,
 "nbformat_minor": 5
}
