{
 "cells": [
  {
   "cell_type": "code",
   "execution_count": 1,
   "id": "1a0022ac",
   "metadata": {
    "ExecuteTime": {
     "end_time": "2022-10-11T03:55:18.129887Z",
     "start_time": "2022-10-11T03:55:16.581729Z"
    }
   },
   "outputs": [],
   "source": [
    "import pandas as pd\n",
    "import numpy as np\n",
    "from scipy import stats"
   ]
  },
  {
   "cell_type": "code",
   "execution_count": 2,
   "id": "6150a923",
   "metadata": {
    "ExecuteTime": {
     "end_time": "2022-10-11T03:55:19.954866Z",
     "start_time": "2022-10-11T03:55:19.617581Z"
    }
   },
   "outputs": [
    {
     "data": {
      "text/html": [
       "<div>\n",
       "<style scoped>\n",
       "    .dataframe tbody tr th:only-of-type {\n",
       "        vertical-align: middle;\n",
       "    }\n",
       "\n",
       "    .dataframe tbody tr th {\n",
       "        vertical-align: top;\n",
       "    }\n",
       "\n",
       "    .dataframe thead th {\n",
       "        text-align: right;\n",
       "    }\n",
       "</style>\n",
       "<table border=\"1\" class=\"dataframe\">\n",
       "  <thead>\n",
       "    <tr style=\"text-align: right;\">\n",
       "      <th></th>\n",
       "      <th>Unnamed: 0</th>\n",
       "      <th>BOROUGH</th>\n",
       "      <th>NEIGHBORHOOD</th>\n",
       "      <th>BUILDING CLASS CATEGORY</th>\n",
       "      <th>TAX CLASS AT PRESENT</th>\n",
       "      <th>BLOCK</th>\n",
       "      <th>LOT</th>\n",
       "      <th>EASE-MENT</th>\n",
       "      <th>BUILDING CLASS AT PRESENT</th>\n",
       "      <th>ADDRESS</th>\n",
       "      <th>...</th>\n",
       "      <th>RESIDENTIAL UNITS</th>\n",
       "      <th>COMMERCIAL UNITS</th>\n",
       "      <th>TOTAL UNITS</th>\n",
       "      <th>LAND SQUARE FEET</th>\n",
       "      <th>GROSS SQUARE FEET</th>\n",
       "      <th>YEAR BUILT</th>\n",
       "      <th>TAX CLASS AT TIME OF SALE</th>\n",
       "      <th>BUILDING CLASS AT TIME OF SALE</th>\n",
       "      <th>SALE PRICE</th>\n",
       "      <th>SALE DATE</th>\n",
       "    </tr>\n",
       "  </thead>\n",
       "  <tbody>\n",
       "    <tr>\n",
       "      <th>0</th>\n",
       "      <td>4</td>\n",
       "      <td>1</td>\n",
       "      <td>ALPHABET CITY</td>\n",
       "      <td>07 RENTALS - WALKUP APARTMENTS</td>\n",
       "      <td>2A</td>\n",
       "      <td>392</td>\n",
       "      <td>6</td>\n",
       "      <td></td>\n",
       "      <td>C2</td>\n",
       "      <td>153 AVENUE B</td>\n",
       "      <td>...</td>\n",
       "      <td>5</td>\n",
       "      <td>0</td>\n",
       "      <td>5</td>\n",
       "      <td>1633</td>\n",
       "      <td>6440</td>\n",
       "      <td>1900</td>\n",
       "      <td>2</td>\n",
       "      <td>C2</td>\n",
       "      <td>6625000</td>\n",
       "      <td>2017-07-19 00:00:00</td>\n",
       "    </tr>\n",
       "    <tr>\n",
       "      <th>1</th>\n",
       "      <td>5</td>\n",
       "      <td>1</td>\n",
       "      <td>ALPHABET CITY</td>\n",
       "      <td>07 RENTALS - WALKUP APARTMENTS</td>\n",
       "      <td>2</td>\n",
       "      <td>399</td>\n",
       "      <td>26</td>\n",
       "      <td></td>\n",
       "      <td>C7</td>\n",
       "      <td>234 EAST 4TH   STREET</td>\n",
       "      <td>...</td>\n",
       "      <td>28</td>\n",
       "      <td>3</td>\n",
       "      <td>31</td>\n",
       "      <td>4616</td>\n",
       "      <td>18690</td>\n",
       "      <td>1900</td>\n",
       "      <td>2</td>\n",
       "      <td>C7</td>\n",
       "      <td>-</td>\n",
       "      <td>2016-12-14 00:00:00</td>\n",
       "    </tr>\n",
       "    <tr>\n",
       "      <th>2</th>\n",
       "      <td>6</td>\n",
       "      <td>1</td>\n",
       "      <td>ALPHABET CITY</td>\n",
       "      <td>07 RENTALS - WALKUP APARTMENTS</td>\n",
       "      <td>2</td>\n",
       "      <td>399</td>\n",
       "      <td>39</td>\n",
       "      <td></td>\n",
       "      <td>C7</td>\n",
       "      <td>197 EAST 3RD   STREET</td>\n",
       "      <td>...</td>\n",
       "      <td>16</td>\n",
       "      <td>1</td>\n",
       "      <td>17</td>\n",
       "      <td>2212</td>\n",
       "      <td>7803</td>\n",
       "      <td>1900</td>\n",
       "      <td>2</td>\n",
       "      <td>C7</td>\n",
       "      <td>-</td>\n",
       "      <td>2016-12-09 00:00:00</td>\n",
       "    </tr>\n",
       "    <tr>\n",
       "      <th>3</th>\n",
       "      <td>7</td>\n",
       "      <td>1</td>\n",
       "      <td>ALPHABET CITY</td>\n",
       "      <td>07 RENTALS - WALKUP APARTMENTS</td>\n",
       "      <td>2B</td>\n",
       "      <td>402</td>\n",
       "      <td>21</td>\n",
       "      <td></td>\n",
       "      <td>C4</td>\n",
       "      <td>154 EAST 7TH STREET</td>\n",
       "      <td>...</td>\n",
       "      <td>10</td>\n",
       "      <td>0</td>\n",
       "      <td>10</td>\n",
       "      <td>2272</td>\n",
       "      <td>6794</td>\n",
       "      <td>1913</td>\n",
       "      <td>2</td>\n",
       "      <td>C4</td>\n",
       "      <td>3936272</td>\n",
       "      <td>2016-09-23 00:00:00</td>\n",
       "    </tr>\n",
       "    <tr>\n",
       "      <th>4</th>\n",
       "      <td>8</td>\n",
       "      <td>1</td>\n",
       "      <td>ALPHABET CITY</td>\n",
       "      <td>07 RENTALS - WALKUP APARTMENTS</td>\n",
       "      <td>2A</td>\n",
       "      <td>404</td>\n",
       "      <td>55</td>\n",
       "      <td></td>\n",
       "      <td>C2</td>\n",
       "      <td>301 EAST 10TH   STREET</td>\n",
       "      <td>...</td>\n",
       "      <td>6</td>\n",
       "      <td>0</td>\n",
       "      <td>6</td>\n",
       "      <td>2369</td>\n",
       "      <td>4615</td>\n",
       "      <td>1900</td>\n",
       "      <td>2</td>\n",
       "      <td>C2</td>\n",
       "      <td>8000000</td>\n",
       "      <td>2016-11-17 00:00:00</td>\n",
       "    </tr>\n",
       "  </tbody>\n",
       "</table>\n",
       "<p>5 rows × 22 columns</p>\n",
       "</div>"
      ],
      "text/plain": [
       "   Unnamed: 0  BOROUGH   NEIGHBORHOOD  \\\n",
       "0           4        1  ALPHABET CITY   \n",
       "1           5        1  ALPHABET CITY   \n",
       "2           6        1  ALPHABET CITY   \n",
       "3           7        1  ALPHABET CITY   \n",
       "4           8        1  ALPHABET CITY   \n",
       "\n",
       "                       BUILDING CLASS CATEGORY TAX CLASS AT PRESENT  BLOCK  \\\n",
       "0  07 RENTALS - WALKUP APARTMENTS                                2A    392   \n",
       "1  07 RENTALS - WALKUP APARTMENTS                                 2    399   \n",
       "2  07 RENTALS - WALKUP APARTMENTS                                 2    399   \n",
       "3  07 RENTALS - WALKUP APARTMENTS                                2B    402   \n",
       "4  07 RENTALS - WALKUP APARTMENTS                                2A    404   \n",
       "\n",
       "   LOT EASE-MENT BUILDING CLASS AT PRESENT                 ADDRESS  ...  \\\n",
       "0    6                                  C2            153 AVENUE B  ...   \n",
       "1   26                                  C7   234 EAST 4TH   STREET  ...   \n",
       "2   39                                  C7   197 EAST 3RD   STREET  ...   \n",
       "3   21                                  C4     154 EAST 7TH STREET  ...   \n",
       "4   55                                  C2  301 EAST 10TH   STREET  ...   \n",
       "\n",
       "  RESIDENTIAL UNITS  COMMERCIAL UNITS  TOTAL UNITS  LAND SQUARE FEET  \\\n",
       "0                 5                 0            5              1633   \n",
       "1                28                 3           31              4616   \n",
       "2                16                 1           17              2212   \n",
       "3                10                 0           10              2272   \n",
       "4                 6                 0            6              2369   \n",
       "\n",
       "   GROSS SQUARE FEET YEAR BUILT TAX CLASS AT TIME OF SALE  \\\n",
       "0               6440       1900                         2   \n",
       "1              18690       1900                         2   \n",
       "2               7803       1900                         2   \n",
       "3               6794       1913                         2   \n",
       "4               4615       1900                         2   \n",
       "\n",
       "   BUILDING CLASS AT TIME OF SALE  SALE PRICE            SALE DATE  \n",
       "0                              C2     6625000  2017-07-19 00:00:00  \n",
       "1                              C7         -    2016-12-14 00:00:00  \n",
       "2                              C7         -    2016-12-09 00:00:00  \n",
       "3                              C4     3936272  2016-09-23 00:00:00  \n",
       "4                              C2     8000000  2016-11-17 00:00:00  \n",
       "\n",
       "[5 rows x 22 columns]"
      ]
     },
     "execution_count": 2,
     "metadata": {},
     "output_type": "execute_result"
    }
   ],
   "source": [
    "df = pd.read_csv('dataset/nyc-rolling-sales.csv')\n",
    "df.head()"
   ]
  },
  {
   "cell_type": "code",
   "execution_count": 3,
   "id": "e8a2e3df",
   "metadata": {
    "ExecuteTime": {
     "end_time": "2022-10-11T03:55:25.322894Z",
     "start_time": "2022-10-11T03:55:25.159331Z"
    }
   },
   "outputs": [
    {
     "name": "stdout",
     "output_type": "stream",
     "text": [
      "<class 'pandas.core.frame.DataFrame'>\n",
      "RangeIndex: 84548 entries, 0 to 84547\n",
      "Data columns (total 22 columns):\n",
      " #   Column                          Non-Null Count  Dtype \n",
      "---  ------                          --------------  ----- \n",
      " 0   Unnamed: 0                      84548 non-null  int64 \n",
      " 1   BOROUGH                         84548 non-null  int64 \n",
      " 2   NEIGHBORHOOD                    84548 non-null  object\n",
      " 3   BUILDING CLASS CATEGORY         84548 non-null  object\n",
      " 4   TAX CLASS AT PRESENT            84548 non-null  object\n",
      " 5   BLOCK                           84548 non-null  int64 \n",
      " 6   LOT                             84548 non-null  int64 \n",
      " 7   EASE-MENT                       84548 non-null  object\n",
      " 8   BUILDING CLASS AT PRESENT       84548 non-null  object\n",
      " 9   ADDRESS                         84548 non-null  object\n",
      " 10  APARTMENT NUMBER                84548 non-null  object\n",
      " 11  ZIP CODE                        84548 non-null  int64 \n",
      " 12  RESIDENTIAL UNITS               84548 non-null  int64 \n",
      " 13  COMMERCIAL UNITS                84548 non-null  int64 \n",
      " 14  TOTAL UNITS                     84548 non-null  int64 \n",
      " 15  LAND SQUARE FEET                84548 non-null  object\n",
      " 16  GROSS SQUARE FEET               84548 non-null  object\n",
      " 17  YEAR BUILT                      84548 non-null  int64 \n",
      " 18  TAX CLASS AT TIME OF SALE       84548 non-null  int64 \n",
      " 19  BUILDING CLASS AT TIME OF SALE  84548 non-null  object\n",
      " 20  SALE PRICE                      84548 non-null  object\n",
      " 21  SALE DATE                       84548 non-null  object\n",
      "dtypes: int64(10), object(12)\n",
      "memory usage: 14.2+ MB\n"
     ]
    }
   ],
   "source": [
    "df.info()"
   ]
  },
  {
   "cell_type": "markdown",
   "id": "78fc18f2",
   "metadata": {},
   "source": [
    "**Pre-processing**"
   ]
  },
  {
   "cell_type": "code",
   "execution_count": 4,
   "id": "baf39a7f",
   "metadata": {
    "ExecuteTime": {
     "end_time": "2022-10-11T03:55:38.908521Z",
     "start_time": "2022-10-11T03:55:38.650685Z"
    }
   },
   "outputs": [],
   "source": [
    "# Data Cleaning\n",
    "df['SALE DATE'] = pd.to_datetime(df['SALE DATE'])\n",
    "df = df.sort_values('SALE DATE')\n",
    "\n",
    "df['LAND SQUARE FEET'] = pd.to_numeric(df['LAND SQUARE FEET'], errors='coerce', downcast='integer')\n",
    "df['GROSS SQUARE FEET'] = pd.to_numeric(df['GROSS SQUARE FEET'], errors='coerce', downcast='integer')\n",
    "df['SALE PRICE'] = pd.to_numeric(df['SALE PRICE'], errors='coerce', downcast='integer')\n",
    "df = df.dropna(subset=['LAND SQUARE FEET', 'GROSS SQUARE FEET', 'SALE PRICE'], inplace=False)\n",
    "\n",
    "# Filter Dataframe\n",
    "df = df[(df['COMMERCIAL UNITS'] > 0) & (df['SALE PRICE'] > 0)]"
   ]
  },
  {
   "cell_type": "code",
   "execution_count": 5,
   "id": "79041e6c",
   "metadata": {
    "ExecuteTime": {
     "end_time": "2022-10-11T03:55:42.223371Z",
     "start_time": "2022-10-11T03:55:42.196411Z"
    }
   },
   "outputs": [
    {
     "name": "stdout",
     "output_type": "stream",
     "text": [
      "<class 'pandas.core.frame.DataFrame'>\n",
      "Int64Index: 2784 entries, 24446 to 1791\n",
      "Data columns (total 22 columns):\n",
      " #   Column                          Non-Null Count  Dtype         \n",
      "---  ------                          --------------  -----         \n",
      " 0   Unnamed: 0                      2784 non-null   int64         \n",
      " 1   BOROUGH                         2784 non-null   int64         \n",
      " 2   NEIGHBORHOOD                    2784 non-null   object        \n",
      " 3   BUILDING CLASS CATEGORY         2784 non-null   object        \n",
      " 4   TAX CLASS AT PRESENT            2784 non-null   object        \n",
      " 5   BLOCK                           2784 non-null   int64         \n",
      " 6   LOT                             2784 non-null   int64         \n",
      " 7   EASE-MENT                       2784 non-null   object        \n",
      " 8   BUILDING CLASS AT PRESENT       2784 non-null   object        \n",
      " 9   ADDRESS                         2784 non-null   object        \n",
      " 10  APARTMENT NUMBER                2784 non-null   object        \n",
      " 11  ZIP CODE                        2784 non-null   int64         \n",
      " 12  RESIDENTIAL UNITS               2784 non-null   int64         \n",
      " 13  COMMERCIAL UNITS                2784 non-null   int64         \n",
      " 14  TOTAL UNITS                     2784 non-null   int64         \n",
      " 15  LAND SQUARE FEET                2784 non-null   float64       \n",
      " 16  GROSS SQUARE FEET               2784 non-null   float64       \n",
      " 17  YEAR BUILT                      2784 non-null   int64         \n",
      " 18  TAX CLASS AT TIME OF SALE       2784 non-null   int64         \n",
      " 19  BUILDING CLASS AT TIME OF SALE  2784 non-null   object        \n",
      " 20  SALE PRICE                      2784 non-null   float64       \n",
      " 21  SALE DATE                       2784 non-null   datetime64[ns]\n",
      "dtypes: datetime64[ns](1), float64(3), int64(10), object(8)\n",
      "memory usage: 500.2+ KB\n"
     ]
    }
   ],
   "source": [
    "df.info()"
   ]
  },
  {
   "cell_type": "markdown",
   "id": "7dfd9562",
   "metadata": {
    "id": "7dfd9562"
   },
   "source": [
    "---\n",
    "## A. Measure of Central Tendency : Mean"
   ]
  },
  {
   "cell_type": "markdown",
   "id": "8df186fc",
   "metadata": {
    "id": "8df186fc"
   },
   "source": [
    "**Question**\n",
    "\n",
    "Perbedaan Mean kolom 'COMMERCIAL UNITS' dari borough 1 dengan 2?"
   ]
  },
  {
   "cell_type": "markdown",
   "id": "ac92d39c",
   "metadata": {},
   "source": [
    "**Pre-processing**"
   ]
  },
  {
   "cell_type": "code",
   "execution_count": 6,
   "id": "4c147c53",
   "metadata": {
    "ExecuteTime": {
     "end_time": "2022-10-11T03:55:52.751570Z",
     "start_time": "2022-10-11T03:55:52.731626Z"
    }
   },
   "outputs": [],
   "source": [
    "b1 = df[df['BOROUGH'] == 1]\n",
    "b2 = df[df['BOROUGH'] == 2]"
   ]
  },
  {
   "cell_type": "markdown",
   "id": "7f60908c",
   "metadata": {
    "id": "7f60908c"
   },
   "source": [
    "**Implement statistical method**"
   ]
  },
  {
   "cell_type": "code",
   "execution_count": 7,
   "id": "9d09cb07",
   "metadata": {
    "ExecuteTime": {
     "end_time": "2022-10-11T03:55:55.645669Z",
     "start_time": "2022-10-11T03:55:55.623763Z"
    },
    "id": "9d09cb07"
   },
   "outputs": [
    {
     "data": {
      "text/plain": [
       "4.622950819672131"
      ]
     },
     "execution_count": 7,
     "metadata": {},
     "output_type": "execute_result"
    }
   ],
   "source": [
    "# Menggunakan library NumPy\n",
    "np.mean(b1['COMMERCIAL UNITS'])"
   ]
  },
  {
   "cell_type": "code",
   "execution_count": 8,
   "id": "255e8a65",
   "metadata": {
    "ExecuteTime": {
     "end_time": "2022-10-11T03:55:56.490370Z",
     "start_time": "2022-10-11T03:55:56.482394Z"
    }
   },
   "outputs": [
    {
     "data": {
      "text/plain": [
       "2.005813953488372"
      ]
     },
     "execution_count": 8,
     "metadata": {},
     "output_type": "execute_result"
    }
   ],
   "source": [
    "# Menggunakan library NumPy\n",
    "np.mean(b2['COMMERCIAL UNITS'])"
   ]
  },
  {
   "cell_type": "markdown",
   "id": "4a193849",
   "metadata": {
    "id": "4a193849"
   },
   "source": [
    "---\n",
    "## B. Measure of Central Tendency : Median"
   ]
  },
  {
   "cell_type": "markdown",
   "id": "1dfd0c69",
   "metadata": {
    "id": "4d31ef2a"
   },
   "source": [
    "**Question**\n",
    "\n",
    "Perbedaan Median kolom 'COMMERCIAL UNITS' dari borough 1 dengan 2?"
   ]
  },
  {
   "cell_type": "markdown",
   "id": "72d257f0",
   "metadata": {
    "id": "ade0039d"
   },
   "source": [
    "**Pre-processing**"
   ]
  },
  {
   "cell_type": "code",
   "execution_count": 9,
   "id": "672924b7",
   "metadata": {
    "ExecuteTime": {
     "end_time": "2022-10-11T03:55:59.092432Z",
     "start_time": "2022-10-11T03:55:59.073489Z"
    }
   },
   "outputs": [],
   "source": [
    "b1 = df[df['BOROUGH'] == 1]\n",
    "b2 = df[df['BOROUGH'] == 2]"
   ]
  },
  {
   "cell_type": "markdown",
   "id": "0b8617f3",
   "metadata": {
    "id": "54184f49"
   },
   "source": [
    "**Implement statistical method**"
   ]
  },
  {
   "cell_type": "code",
   "execution_count": 10,
   "id": "7ee9be78",
   "metadata": {
    "ExecuteTime": {
     "end_time": "2022-10-11T03:56:00.315296Z",
     "start_time": "2022-10-11T03:56:00.301334Z"
    },
    "id": "38f3aa2b"
   },
   "outputs": [
    {
     "data": {
      "text/plain": [
       "2.0"
      ]
     },
     "execution_count": 10,
     "metadata": {},
     "output_type": "execute_result"
    }
   ],
   "source": [
    "# Menggunakan library NumPy\n",
    "np.median(b1['COMMERCIAL UNITS'])"
   ]
  },
  {
   "cell_type": "code",
   "execution_count": 11,
   "id": "f6528278",
   "metadata": {
    "ExecuteTime": {
     "end_time": "2022-10-11T03:56:01.115144Z",
     "start_time": "2022-10-11T03:56:01.106205Z"
    }
   },
   "outputs": [
    {
     "data": {
      "text/plain": [
       "1.0"
      ]
     },
     "execution_count": 11,
     "metadata": {},
     "output_type": "execute_result"
    }
   ],
   "source": [
    "# Menggunakan library NumPy\n",
    "np.median(b2['COMMERCIAL UNITS'])"
   ]
  },
  {
   "cell_type": "markdown",
   "id": "666f8bf6",
   "metadata": {
    "id": "4a193849"
   },
   "source": [
    "---\n",
    "## C. Measure of Central Tendency : Modus"
   ]
  },
  {
   "cell_type": "markdown",
   "id": "57eac1a6",
   "metadata": {
    "id": "4d31ef2a"
   },
   "source": [
    "**Question**\n",
    "\n",
    "Perbedaan Modus kolom 'COMMERCIAL UNITS' dari borough 1 dengan 2?"
   ]
  },
  {
   "cell_type": "markdown",
   "id": "d296f60e",
   "metadata": {
    "id": "ade0039d"
   },
   "source": [
    "**Pre-processing**"
   ]
  },
  {
   "cell_type": "code",
   "execution_count": 12,
   "id": "f9d56b33",
   "metadata": {
    "ExecuteTime": {
     "end_time": "2022-10-11T03:56:03.633422Z",
     "start_time": "2022-10-11T03:56:03.614440Z"
    }
   },
   "outputs": [],
   "source": [
    "b1 = df[df['BOROUGH'] == 1]\n",
    "b2 = df[df['BOROUGH'] == 2]"
   ]
  },
  {
   "cell_type": "markdown",
   "id": "89692b9f",
   "metadata": {
    "id": "54184f49"
   },
   "source": [
    "**Implement statistical method**"
   ]
  },
  {
   "cell_type": "code",
   "execution_count": 13,
   "id": "1f532f3c",
   "metadata": {
    "ExecuteTime": {
     "end_time": "2022-10-11T03:56:05.041403Z",
     "start_time": "2022-10-11T03:56:05.025444Z"
    },
    "id": "38f3aa2b"
   },
   "outputs": [
    {
     "data": {
      "text/plain": [
       "ModeResult(mode=array([2], dtype=int64), count=array([190]))"
      ]
     },
     "execution_count": 13,
     "metadata": {},
     "output_type": "execute_result"
    }
   ],
   "source": [
    "# Menggunakan library SciPy\n",
    "stats.mode(b1['COMMERCIAL UNITS'])"
   ]
  },
  {
   "cell_type": "code",
   "execution_count": 14,
   "id": "897d0a31",
   "metadata": {
    "ExecuteTime": {
     "end_time": "2022-10-11T03:56:06.635859Z",
     "start_time": "2022-10-11T03:56:06.618904Z"
    }
   },
   "outputs": [
    {
     "data": {
      "text/plain": [
       "ModeResult(mode=array([1], dtype=int64), count=array([232]))"
      ]
     },
     "execution_count": 14,
     "metadata": {},
     "output_type": "execute_result"
    }
   ],
   "source": [
    "# Menggunakan library SciPy\n",
    "stats.mode(b2['COMMERCIAL UNITS'])"
   ]
  },
  {
   "cell_type": "markdown",
   "id": "6842075c",
   "metadata": {},
   "source": [
    "---\n",
    "## D. Measure of Spread: Range"
   ]
  },
  {
   "cell_type": "markdown",
   "id": "7221c0cd",
   "metadata": {},
   "source": [
    "**Question**\n",
    "\n",
    "Perbedaan Range kolom 'COMMERCIAL UNITS' dari borough 1 dengan 2?"
   ]
  },
  {
   "cell_type": "markdown",
   "id": "2ab6c963",
   "metadata": {},
   "source": [
    "**Pre-processing**"
   ]
  },
  {
   "cell_type": "code",
   "execution_count": 15,
   "id": "04182f22",
   "metadata": {
    "ExecuteTime": {
     "end_time": "2022-10-11T03:56:09.541558Z",
     "start_time": "2022-10-11T03:56:09.522608Z"
    }
   },
   "outputs": [],
   "source": [
    "b1 = df[df['BOROUGH'] == 1]\n",
    "b2 = df[df['BOROUGH'] == 2]"
   ]
  },
  {
   "cell_type": "markdown",
   "id": "b6d337bf",
   "metadata": {},
   "source": [
    "**Implement statistical method**"
   ]
  },
  {
   "cell_type": "code",
   "execution_count": 16,
   "id": "51be4303",
   "metadata": {
    "ExecuteTime": {
     "end_time": "2022-10-11T03:56:10.700259Z",
     "start_time": "2022-10-11T03:56:10.691286Z"
    }
   },
   "outputs": [
    {
     "data": {
      "text/plain": [
       "317"
      ]
     },
     "execution_count": 16,
     "metadata": {},
     "output_type": "execute_result"
    }
   ],
   "source": [
    "# Menggunakan library NumPy\n",
    "np.ptp(b1['COMMERCIAL UNITS'])"
   ]
  },
  {
   "cell_type": "code",
   "execution_count": 17,
   "id": "c5a1a6da",
   "metadata": {
    "ExecuteTime": {
     "end_time": "2022-10-11T03:56:12.064456Z",
     "start_time": "2022-10-11T03:56:12.044510Z"
    }
   },
   "outputs": [
    {
     "data": {
      "text/plain": [
       "21"
      ]
     },
     "execution_count": 17,
     "metadata": {},
     "output_type": "execute_result"
    }
   ],
   "source": [
    "# Menggunakan library NumPy\n",
    "np.ptp(b2['COMMERCIAL UNITS'])"
   ]
  },
  {
   "cell_type": "markdown",
   "id": "2ade81c7",
   "metadata": {},
   "source": [
    "---\n",
    "## E. Measure of Spread: Variance"
   ]
  },
  {
   "cell_type": "markdown",
   "id": "0bab2d5c",
   "metadata": {},
   "source": [
    "**Question**\n",
    "\n",
    "Perbedaan Variance kolom 'COMMERCIAL UNITS' dari borough 1 dengan 2?"
   ]
  },
  {
   "cell_type": "markdown",
   "id": "7698454f",
   "metadata": {},
   "source": [
    "**Pre-processing**"
   ]
  },
  {
   "cell_type": "code",
   "execution_count": 18,
   "id": "b28777fe",
   "metadata": {
    "ExecuteTime": {
     "end_time": "2022-10-11T03:56:18.791518Z",
     "start_time": "2022-10-11T03:56:18.775563Z"
    }
   },
   "outputs": [],
   "source": [
    "b1 = df[df['BOROUGH'] == 1]\n",
    "b2 = df[df['BOROUGH'] == 2]"
   ]
  },
  {
   "cell_type": "markdown",
   "id": "49185a81",
   "metadata": {},
   "source": [
    "**Implement statistical method**"
   ]
  },
  {
   "cell_type": "code",
   "execution_count": 19,
   "id": "73368640",
   "metadata": {
    "ExecuteTime": {
     "end_time": "2022-10-11T03:56:20.032166Z",
     "start_time": "2022-10-11T03:56:20.010191Z"
    }
   },
   "outputs": [
    {
     "data": {
      "text/plain": [
       "375.09553883364924"
      ]
     },
     "execution_count": 19,
     "metadata": {},
     "output_type": "execute_result"
    }
   ],
   "source": [
    "# Menggunakan library NumPy\n",
    "np.var(b1['COMMERCIAL UNITS'])"
   ]
  },
  {
   "cell_type": "code",
   "execution_count": 20,
   "id": "d3578ade",
   "metadata": {
    "ExecuteTime": {
     "end_time": "2022-10-11T03:56:27.873248Z",
     "start_time": "2022-10-11T03:56:27.863274Z"
    }
   },
   "outputs": [
    {
     "data": {
      "text/plain": [
       "5.837175500270406"
      ]
     },
     "execution_count": 20,
     "metadata": {},
     "output_type": "execute_result"
    }
   ],
   "source": [
    "# Menggunakan library NumPy\n",
    "np.var(b2['COMMERCIAL UNITS'])"
   ]
  },
  {
   "cell_type": "markdown",
   "id": "2058f567",
   "metadata": {},
   "source": [
    "---\n",
    "## F. Measure of Spread: Standard Deviation"
   ]
  },
  {
   "cell_type": "markdown",
   "id": "8618d26b",
   "metadata": {},
   "source": [
    "**Question**\n",
    "\n",
    "Perbedaan Standard Deviation kolom 'COMMERCIAL UNITS' dari borough 1 dengan 2?"
   ]
  },
  {
   "cell_type": "markdown",
   "id": "d354cbc6",
   "metadata": {},
   "source": [
    "**Pre-processing**"
   ]
  },
  {
   "cell_type": "code",
   "execution_count": 21,
   "id": "526ee75c",
   "metadata": {
    "ExecuteTime": {
     "end_time": "2022-10-11T03:56:30.928981Z",
     "start_time": "2022-10-11T03:56:30.911993Z"
    }
   },
   "outputs": [],
   "source": [
    "b1 = df[df['BOROUGH'] == 1]\n",
    "b2 = df[df['BOROUGH'] == 2]"
   ]
  },
  {
   "cell_type": "markdown",
   "id": "767e0977",
   "metadata": {},
   "source": [
    "**Implement statistical method**"
   ]
  },
  {
   "cell_type": "code",
   "execution_count": 22,
   "id": "76db6946",
   "metadata": {
    "ExecuteTime": {
     "end_time": "2022-10-11T03:56:31.928726Z",
     "start_time": "2022-10-11T03:56:31.910740Z"
    }
   },
   "outputs": [
    {
     "data": {
      "text/plain": [
       "19.367383376017763"
      ]
     },
     "execution_count": 22,
     "metadata": {},
     "output_type": "execute_result"
    }
   ],
   "source": [
    "# Menggunakan library NumPy\n",
    "np.std(b1['COMMERCIAL UNITS'])"
   ]
  },
  {
   "cell_type": "code",
   "execution_count": 23,
   "id": "ad34d888",
   "metadata": {
    "ExecuteTime": {
     "end_time": "2022-10-11T03:56:33.664457Z",
     "start_time": "2022-10-11T03:56:33.654486Z"
    }
   },
   "outputs": [
    {
     "data": {
      "text/plain": [
       "2.41602473088965"
      ]
     },
     "execution_count": 23,
     "metadata": {},
     "output_type": "execute_result"
    }
   ],
   "source": [
    "# Menggunakan library NumPy\n",
    "np.std(b2['COMMERCIAL UNITS'])"
   ]
  },
  {
   "cell_type": "markdown",
   "id": "23988f1b",
   "metadata": {},
   "source": [
    "---\n",
    "## G. Probability Distribution"
   ]
  },
  {
   "cell_type": "code",
   "execution_count": 24,
   "id": "bbb30430",
   "metadata": {
    "ExecuteTime": {
     "end_time": "2022-10-11T03:56:47.496562Z",
     "start_time": "2022-10-11T03:56:46.448939Z"
    }
   },
   "outputs": [],
   "source": [
    "import seaborn as sns\n",
    "sns.set(color_codes=True)\n",
    "sns.set(rc={'figure.figsize':(5,5)})"
   ]
  },
  {
   "cell_type": "markdown",
   "id": "d353af3b",
   "metadata": {},
   "source": [
    "**Question**\n",
    "\n",
    "Distribution dari kolom 'BLOCK'?"
   ]
  },
  {
   "cell_type": "markdown",
   "id": "34a7b980",
   "metadata": {},
   "source": [
    "**Implement statistical method**"
   ]
  },
  {
   "cell_type": "code",
   "execution_count": 25,
   "id": "9824fb5f",
   "metadata": {
    "ExecuteTime": {
     "end_time": "2022-10-11T03:57:10.705482Z",
     "start_time": "2022-10-11T03:57:09.805317Z"
    },
    "scrolled": true
   },
   "outputs": [
    {
     "name": "stderr",
     "output_type": "stream",
     "text": [
      "C:\\Users\\death\\anaconda3\\lib\\site-packages\\seaborn\\distributions.py:2619: FutureWarning: `distplot` is a deprecated function and will be removed in a future version. Please adapt your code to use either `displot` (a figure-level function with similar flexibility) or `histplot` (an axes-level function for histograms).\n",
      "  warnings.warn(msg, FutureWarning)\n"
     ]
    },
    {
     "data": {
      "text/plain": [
       "[Text(0.5, 0, 'Distribution'), Text(0, 0.5, 'Frequency')]"
      ]
     },
     "execution_count": 25,
     "metadata": {},
     "output_type": "execute_result"
    },
    {
     "data": {
      "image/png": "[encoded data removed]",
      "text/plain": [
       "<Figure size 360x360 with 1 Axes>"
      ]
     },
     "metadata": {},
     "output_type": "display_data"
    }
   ],
   "source": [
    "ax = sns.distplot(df['BLOCK'],\n",
    "                  bins=100,\n",
    "                  kde=True,\n",
    "                  color='skyblue',\n",
    "                  hist_kws={\"linewidth\": 15, 'alpha':1})\n",
    "ax.set(xlabel='Distribution', ylabel='Frequency')"
   ]
  },
  {
   "cell_type": "markdown",
   "id": "9eac0e12",
   "metadata": {},
   "source": [
    "**Conclusion**\n",
    "\n",
    "Kurva diatas memiliki bentuk positive skewness yang artinya distribusi tersebut memiliki nilai mean lebih besar daripada mode. "
   ]
  },
  {
   "cell_type": "markdown",
   "id": "3e0d3f7a",
   "metadata": {},
   "source": [
    "---\n",
    "## H. Confidence Intervals"
   ]
  },
  {
   "cell_type": "markdown",
   "id": "28a54163",
   "metadata": {},
   "source": [
    "**Question**\n",
    "\n",
    "Berapa Confidence Intervals 'COMMERCIAL UNITS' yang bernilai 1 pada setiap borough?"
   ]
  },
  {
   "cell_type": "code",
   "execution_count": 26,
   "id": "4321174a",
   "metadata": {
    "ExecuteTime": {
     "end_time": "2022-10-11T03:57:35.447853Z",
     "start_time": "2022-10-11T03:57:35.398985Z"
    }
   },
   "outputs": [
    {
     "data": {
      "text/html": [
       "<div>\n",
       "<style scoped>\n",
       "    .dataframe tbody tr th:only-of-type {\n",
       "        vertical-align: middle;\n",
       "    }\n",
       "\n",
       "    .dataframe tbody tr th {\n",
       "        vertical-align: top;\n",
       "    }\n",
       "\n",
       "    .dataframe thead th {\n",
       "        text-align: right;\n",
       "    }\n",
       "</style>\n",
       "<table border=\"1\" class=\"dataframe\">\n",
       "  <thead>\n",
       "    <tr style=\"text-align: right;\">\n",
       "      <th>COMMERCIAL UNITS</th>\n",
       "      <th>1</th>\n",
       "      <th>2</th>\n",
       "      <th>3</th>\n",
       "      <th>4</th>\n",
       "      <th>5</th>\n",
       "      <th>6</th>\n",
       "      <th>7</th>\n",
       "      <th>8</th>\n",
       "      <th>9</th>\n",
       "      <th>10</th>\n",
       "      <th>...</th>\n",
       "      <th>52</th>\n",
       "      <th>55</th>\n",
       "      <th>59</th>\n",
       "      <th>62</th>\n",
       "      <th>126</th>\n",
       "      <th>172</th>\n",
       "      <th>254</th>\n",
       "      <th>318</th>\n",
       "      <th>436</th>\n",
       "      <th>2261</th>\n",
       "    </tr>\n",
       "    <tr>\n",
       "      <th>BOROUGH</th>\n",
       "      <th></th>\n",
       "      <th></th>\n",
       "      <th></th>\n",
       "      <th></th>\n",
       "      <th></th>\n",
       "      <th></th>\n",
       "      <th></th>\n",
       "      <th></th>\n",
       "      <th></th>\n",
       "      <th></th>\n",
       "      <th></th>\n",
       "      <th></th>\n",
       "      <th></th>\n",
       "      <th></th>\n",
       "      <th></th>\n",
       "      <th></th>\n",
       "      <th></th>\n",
       "      <th></th>\n",
       "      <th></th>\n",
       "      <th></th>\n",
       "      <th></th>\n",
       "    </tr>\n",
       "  </thead>\n",
       "  <tbody>\n",
       "    <tr>\n",
       "      <th>1</th>\n",
       "      <td>185</td>\n",
       "      <td>190</td>\n",
       "      <td>22</td>\n",
       "      <td>17</td>\n",
       "      <td>16</td>\n",
       "      <td>13</td>\n",
       "      <td>1</td>\n",
       "      <td>8</td>\n",
       "      <td>4</td>\n",
       "      <td>3</td>\n",
       "      <td>...</td>\n",
       "      <td>1</td>\n",
       "      <td>1</td>\n",
       "      <td>1</td>\n",
       "      <td>1</td>\n",
       "      <td>0</td>\n",
       "      <td>0</td>\n",
       "      <td>1</td>\n",
       "      <td>1</td>\n",
       "      <td>0</td>\n",
       "      <td>0</td>\n",
       "    </tr>\n",
       "    <tr>\n",
       "      <th>2</th>\n",
       "      <td>232</td>\n",
       "      <td>46</td>\n",
       "      <td>18</td>\n",
       "      <td>21</td>\n",
       "      <td>4</td>\n",
       "      <td>9</td>\n",
       "      <td>3</td>\n",
       "      <td>4</td>\n",
       "      <td>2</td>\n",
       "      <td>1</td>\n",
       "      <td>...</td>\n",
       "      <td>0</td>\n",
       "      <td>0</td>\n",
       "      <td>0</td>\n",
       "      <td>0</td>\n",
       "      <td>0</td>\n",
       "      <td>0</td>\n",
       "      <td>0</td>\n",
       "      <td>0</td>\n",
       "      <td>0</td>\n",
       "      <td>0</td>\n",
       "    </tr>\n",
       "    <tr>\n",
       "      <th>3</th>\n",
       "      <td>849</td>\n",
       "      <td>131</td>\n",
       "      <td>56</td>\n",
       "      <td>25</td>\n",
       "      <td>13</td>\n",
       "      <td>7</td>\n",
       "      <td>3</td>\n",
       "      <td>6</td>\n",
       "      <td>2</td>\n",
       "      <td>1</td>\n",
       "      <td>...</td>\n",
       "      <td>0</td>\n",
       "      <td>0</td>\n",
       "      <td>0</td>\n",
       "      <td>0</td>\n",
       "      <td>0</td>\n",
       "      <td>0</td>\n",
       "      <td>0</td>\n",
       "      <td>0</td>\n",
       "      <td>0</td>\n",
       "      <td>0</td>\n",
       "    </tr>\n",
       "    <tr>\n",
       "      <th>4</th>\n",
       "      <td>500</td>\n",
       "      <td>87</td>\n",
       "      <td>26</td>\n",
       "      <td>15</td>\n",
       "      <td>13</td>\n",
       "      <td>11</td>\n",
       "      <td>4</td>\n",
       "      <td>2</td>\n",
       "      <td>3</td>\n",
       "      <td>2</td>\n",
       "      <td>...</td>\n",
       "      <td>0</td>\n",
       "      <td>0</td>\n",
       "      <td>0</td>\n",
       "      <td>0</td>\n",
       "      <td>0</td>\n",
       "      <td>1</td>\n",
       "      <td>0</td>\n",
       "      <td>0</td>\n",
       "      <td>2</td>\n",
       "      <td>1</td>\n",
       "    </tr>\n",
       "    <tr>\n",
       "      <th>5</th>\n",
       "      <td>138</td>\n",
       "      <td>20</td>\n",
       "      <td>8</td>\n",
       "      <td>3</td>\n",
       "      <td>1</td>\n",
       "      <td>0</td>\n",
       "      <td>1</td>\n",
       "      <td>1</td>\n",
       "      <td>0</td>\n",
       "      <td>0</td>\n",
       "      <td>...</td>\n",
       "      <td>0</td>\n",
       "      <td>0</td>\n",
       "      <td>0</td>\n",
       "      <td>0</td>\n",
       "      <td>2</td>\n",
       "      <td>0</td>\n",
       "      <td>0</td>\n",
       "      <td>0</td>\n",
       "      <td>0</td>\n",
       "      <td>0</td>\n",
       "    </tr>\n",
       "  </tbody>\n",
       "</table>\n",
       "<p>5 rows × 40 columns</p>\n",
       "</div>"
      ],
      "text/plain": [
       "COMMERCIAL UNITS  1     2     3     4     5     6     7     8     9     10    \\\n",
       "BOROUGH                                                                        \n",
       "1                  185   190    22    17    16    13     1     8     4     3   \n",
       "2                  232    46    18    21     4     9     3     4     2     1   \n",
       "3                  849   131    56    25    13     7     3     6     2     1   \n",
       "4                  500    87    26    15    13    11     4     2     3     2   \n",
       "5                  138    20     8     3     1     0     1     1     0     0   \n",
       "\n",
       "COMMERCIAL UNITS  ...  52    55    59    62    126   172   254   318   436   \\\n",
       "BOROUGH           ...                                                         \n",
       "1                 ...     1     1     1     1     0     0     1     1     0   \n",
       "2                 ...     0     0     0     0     0     0     0     0     0   \n",
       "3                 ...     0     0     0     0     0     0     0     0     0   \n",
       "4                 ...     0     0     0     0     0     1     0     0     2   \n",
       "5                 ...     0     0     0     0     2     0     0     0     0   \n",
       "\n",
       "COMMERCIAL UNITS  2261  \n",
       "BOROUGH                 \n",
       "1                    0  \n",
       "2                    0  \n",
       "3                    0  \n",
       "4                    1  \n",
       "5                    0  \n",
       "\n",
       "[5 rows x 40 columns]"
      ]
     },
     "execution_count": 26,
     "metadata": {},
     "output_type": "execute_result"
    }
   ],
   "source": [
    "pd.crosstab(df['BOROUGH'], df['COMMERCIAL UNITS'])"
   ]
  },
  {
   "cell_type": "markdown",
   "id": "0822f7a2",
   "metadata": {},
   "source": [
    "**CI (Population Proportion)**"
   ]
  },
  {
   "cell_type": "code",
   "execution_count": 27,
   "id": "a97b23c3",
   "metadata": {
    "ExecuteTime": {
     "end_time": "2022-10-11T03:57:45.088035Z",
     "start_time": "2022-10-11T03:57:45.047145Z"
    }
   },
   "outputs": [
    {
     "data": {
      "text/plain": [
       "(849, 1904)"
      ]
     },
     "execution_count": 27,
     "metadata": {},
     "output_type": "execute_result"
    }
   ],
   "source": [
    "cu3 = 849\n",
    "# n = df3['COMMERCIAL UNITS'].value_counts().sum()\n",
    "n = pd.crosstab(df['BOROUGH'], df['COMMERCIAL UNITS'])[1].sum()\n",
    "cu3, n"
   ]
  },
  {
   "cell_type": "code",
   "execution_count": 28,
   "id": "4a3101f6",
   "metadata": {
    "ExecuteTime": {
     "end_time": "2022-10-11T03:58:09.258799Z",
     "start_time": "2022-10-11T03:58:09.248829Z"
    }
   },
   "outputs": [
    {
     "data": {
      "text/plain": [
       "0.44590336134453784"
      ]
     },
     "execution_count": 28,
     "metadata": {},
     "output_type": "execute_result"
    }
   ],
   "source": [
    "p_cu3 = cu3 / n\n",
    "p_cu3"
   ]
  },
  {
   "cell_type": "code",
   "execution_count": 29,
   "id": "e497df7e",
   "metadata": {
    "ExecuteTime": {
     "end_time": "2022-10-11T03:58:13.296286Z",
     "start_time": "2022-10-11T03:58:13.280295Z"
    }
   },
   "outputs": [
    {
     "data": {
      "text/plain": [
       "0.011391467065044883"
      ]
     },
     "execution_count": 29,
     "metadata": {},
     "output_type": "execute_result"
    }
   ],
   "source": [
    "se_cu3 = np.sqrt(p_cu3 * (1 - p_cu3) / n)\n",
    "se_cu3"
   ]
  },
  {
   "cell_type": "code",
   "execution_count": 30,
   "id": "91f98407",
   "metadata": {
    "ExecuteTime": {
     "end_time": "2022-10-11T03:58:18.508236Z",
     "start_time": "2022-10-11T03:58:18.495272Z"
    }
   },
   "outputs": [
    {
     "data": {
      "text/plain": [
       "(0.42357608589704987, 0.4682306367920258)"
      ]
     },
     "execution_count": 30,
     "metadata": {},
     "output_type": "execute_result"
    }
   ],
   "source": [
    "z_score = 1.96\n",
    "lcb = p_cu3 - z_score * se_cu3 # lower limit of the CI\n",
    "ucb = p_cu3 + z_score * se_cu3 # Upper limit of the CI\n",
    "lcb, ucb"
   ]
  },
  {
   "cell_type": "markdown",
   "id": "11081903",
   "metadata": {},
   "source": [
    "**CI (Mean)**"
   ]
  },
  {
   "cell_type": "code",
   "execution_count": 31,
   "id": "123099e8",
   "metadata": {
    "ExecuteTime": {
     "end_time": "2022-10-11T03:58:29.187811Z",
     "start_time": "2022-10-11T03:58:29.115666Z"
    }
   },
   "outputs": [
    {
     "data": {
      "text/plain": [
       "(380.8, 265.65044701637527, 5)"
      ]
     },
     "execution_count": 31,
     "metadata": {},
     "output_type": "execute_result"
    }
   ],
   "source": [
    "mean_cu3 = np.mean(pd.crosstab(df['BOROUGH'], df['COMMERCIAL UNITS'])[1])\n",
    "sd = np.std(pd.crosstab(df['BOROUGH'], df['COMMERCIAL UNITS'])[1])\n",
    "n = np.size(pd.crosstab(df['BOROUGH'], df['COMMERCIAL UNITS'])[1])\n",
    "\n",
    "mean_cu3, sd, n"
   ]
  },
  {
   "cell_type": "code",
   "execution_count": 32,
   "id": "f889b304",
   "metadata": {
    "ExecuteTime": {
     "end_time": "2022-10-11T03:58:33.585557Z",
     "start_time": "2022-10-11T03:58:33.577579Z"
    }
   },
   "outputs": [
    {
     "data": {
      "text/plain": [
       "118.80249155636425"
      ]
     },
     "execution_count": 32,
     "metadata": {},
     "output_type": "execute_result"
    }
   ],
   "source": [
    "se = sd / np.sqrt(n)\n",
    "se"
   ]
  },
  {
   "cell_type": "code",
   "execution_count": 33,
   "id": "6d686f44",
   "metadata": {
    "ExecuteTime": {
     "end_time": "2022-10-11T03:58:35.633280Z",
     "start_time": "2022-10-11T03:58:35.617323Z"
    }
   },
   "outputs": [
    {
     "data": {
      "text/plain": [
       "(147.9471165495261, 613.652883450474)"
      ]
     },
     "execution_count": 33,
     "metadata": {},
     "output_type": "execute_result"
    }
   ],
   "source": [
    "z_score = 1.96\n",
    "lcb = mean_cu3 - z_score * se # lower limit of the CI\n",
    "ucb = mean_cu3 + z_score * se # Upper limit of the CI\n",
    "lcb, ucb"
   ]
  },
  {
   "cell_type": "markdown",
   "id": "f9f94f11",
   "metadata": {},
   "source": [
    "---\n",
    "## I. Hypothesis Testing"
   ]
  },
  {
   "cell_type": "code",
   "execution_count": 34,
   "id": "d2de942d",
   "metadata": {
    "ExecuteTime": {
     "end_time": "2022-10-11T03:59:15.607593Z",
     "start_time": "2022-10-11T03:59:15.596591Z"
    }
   },
   "outputs": [],
   "source": [
    "import scipy.stats.distributions as dist"
   ]
  },
  {
   "cell_type": "markdown",
   "id": "9942c78b",
   "metadata": {},
   "source": [
    "**Question**\n",
    "\n",
    "Apakah jumlah nilai 'LAND SQUARE FEET' > 'GROSS SQUARE FEET' selalu lebih sedikit dibandingkan kebalikannya di setiap 'BOROUGH'?"
   ]
  },
  {
   "cell_type": "code",
   "execution_count": 35,
   "id": "eda2056b",
   "metadata": {
    "ExecuteTime": {
     "end_time": "2022-10-11T03:59:31.161471Z",
     "start_time": "2022-10-11T03:59:31.115558Z"
    }
   },
   "outputs": [
    {
     "data": {
      "text/html": [
       "<div>\n",
       "<style scoped>\n",
       "    .dataframe tbody tr th:only-of-type {\n",
       "        vertical-align: middle;\n",
       "    }\n",
       "\n",
       "    .dataframe tbody tr th {\n",
       "        vertical-align: top;\n",
       "    }\n",
       "\n",
       "    .dataframe thead th {\n",
       "        text-align: right;\n",
       "    }\n",
       "</style>\n",
       "<table border=\"1\" class=\"dataframe\">\n",
       "  <thead>\n",
       "    <tr style=\"text-align: right;\">\n",
       "      <th></th>\n",
       "      <th>Unnamed: 0</th>\n",
       "      <th>BOROUGH</th>\n",
       "      <th>NEIGHBORHOOD</th>\n",
       "      <th>BUILDING CLASS CATEGORY</th>\n",
       "      <th>TAX CLASS AT PRESENT</th>\n",
       "      <th>BLOCK</th>\n",
       "      <th>LOT</th>\n",
       "      <th>EASE-MENT</th>\n",
       "      <th>BUILDING CLASS AT PRESENT</th>\n",
       "      <th>ADDRESS</th>\n",
       "      <th>...</th>\n",
       "      <th>RESIDENTIAL UNITS</th>\n",
       "      <th>COMMERCIAL UNITS</th>\n",
       "      <th>TOTAL UNITS</th>\n",
       "      <th>LAND SQUARE FEET</th>\n",
       "      <th>GROSS SQUARE FEET</th>\n",
       "      <th>YEAR BUILT</th>\n",
       "      <th>TAX CLASS AT TIME OF SALE</th>\n",
       "      <th>BUILDING CLASS AT TIME OF SALE</th>\n",
       "      <th>SALE PRICE</th>\n",
       "      <th>SALE DATE</th>\n",
       "    </tr>\n",
       "  </thead>\n",
       "  <tbody>\n",
       "    <tr>\n",
       "      <th>24446</th>\n",
       "      <td>6144</td>\n",
       "      <td>2</td>\n",
       "      <td>THROGS NECK</td>\n",
       "      <td>22 STORE BUILDINGS</td>\n",
       "      <td>4</td>\n",
       "      <td>5576</td>\n",
       "      <td>28</td>\n",
       "      <td></td>\n",
       "      <td>K1</td>\n",
       "      <td>3930 EAST TREMONT AVENUE</td>\n",
       "      <td>...</td>\n",
       "      <td>0</td>\n",
       "      <td>1</td>\n",
       "      <td>1</td>\n",
       "      <td>5000.0</td>\n",
       "      <td>1911.0</td>\n",
       "      <td>1934</td>\n",
       "      <td>4</td>\n",
       "      <td>K1</td>\n",
       "      <td>1250000.0</td>\n",
       "      <td>2016-09-01</td>\n",
       "    </tr>\n",
       "    <tr>\n",
       "      <th>74537</th>\n",
       "      <td>25139</td>\n",
       "      <td>4</td>\n",
       "      <td>ST. ALBANS</td>\n",
       "      <td>30 WAREHOUSES</td>\n",
       "      <td>4</td>\n",
       "      <td>12452</td>\n",
       "      <td>53</td>\n",
       "      <td></td>\n",
       "      <td>E1</td>\n",
       "      <td>118-30 MONTAUK STREET</td>\n",
       "      <td>...</td>\n",
       "      <td>0</td>\n",
       "      <td>1</td>\n",
       "      <td>1</td>\n",
       "      <td>7753.0</td>\n",
       "      <td>6170.0</td>\n",
       "      <td>1960</td>\n",
       "      <td>4</td>\n",
       "      <td>E1</td>\n",
       "      <td>1625000.0</td>\n",
       "      <td>2016-09-01</td>\n",
       "    </tr>\n",
       "    <tr>\n",
       "      <th>59982</th>\n",
       "      <td>10584</td>\n",
       "      <td>4</td>\n",
       "      <td>FLUSHING-SOUTH</td>\n",
       "      <td>14 RENTALS - 4-10 UNIT</td>\n",
       "      <td>2A</td>\n",
       "      <td>6905</td>\n",
       "      <td>37</td>\n",
       "      <td></td>\n",
       "      <td>S3</td>\n",
       "      <td>164-10 65 AVE</td>\n",
       "      <td>...</td>\n",
       "      <td>3</td>\n",
       "      <td>1</td>\n",
       "      <td>4</td>\n",
       "      <td>3000.0</td>\n",
       "      <td>2228.0</td>\n",
       "      <td>1931</td>\n",
       "      <td>2</td>\n",
       "      <td>S3</td>\n",
       "      <td>750000.0</td>\n",
       "      <td>2016-09-01</td>\n",
       "    </tr>\n",
       "    <tr>\n",
       "      <th>40563</th>\n",
       "      <td>15212</td>\n",
       "      <td>3</td>\n",
       "      <td>GRAVESEND</td>\n",
       "      <td>22 STORE BUILDINGS</td>\n",
       "      <td>4</td>\n",
       "      <td>6491</td>\n",
       "      <td>11</td>\n",
       "      <td></td>\n",
       "      <td>K6</td>\n",
       "      <td>1608 SHORE PARKWAY</td>\n",
       "      <td>...</td>\n",
       "      <td>0</td>\n",
       "      <td>8</td>\n",
       "      <td>8</td>\n",
       "      <td>970000.0</td>\n",
       "      <td>285471.0</td>\n",
       "      <td>1957</td>\n",
       "      <td>4</td>\n",
       "      <td>K6</td>\n",
       "      <td>224020.0</td>\n",
       "      <td>2016-09-01</td>\n",
       "    </tr>\n",
       "    <tr>\n",
       "      <th>40562</th>\n",
       "      <td>15211</td>\n",
       "      <td>3</td>\n",
       "      <td>GRAVESEND</td>\n",
       "      <td>22 STORE BUILDINGS</td>\n",
       "      <td>4</td>\n",
       "      <td>6491</td>\n",
       "      <td>11</td>\n",
       "      <td></td>\n",
       "      <td>K6</td>\n",
       "      <td>1608 SHORE PARKWAY</td>\n",
       "      <td>...</td>\n",
       "      <td>0</td>\n",
       "      <td>8</td>\n",
       "      <td>8</td>\n",
       "      <td>970000.0</td>\n",
       "      <td>285471.0</td>\n",
       "      <td>1957</td>\n",
       "      <td>4</td>\n",
       "      <td>K6</td>\n",
       "      <td>224020.0</td>\n",
       "      <td>2016-09-01</td>\n",
       "    </tr>\n",
       "    <tr>\n",
       "      <th>...</th>\n",
       "      <td>...</td>\n",
       "      <td>...</td>\n",
       "      <td>...</td>\n",
       "      <td>...</td>\n",
       "      <td>...</td>\n",
       "      <td>...</td>\n",
       "      <td>...</td>\n",
       "      <td>...</td>\n",
       "      <td>...</td>\n",
       "      <td>...</td>\n",
       "      <td>...</td>\n",
       "      <td>...</td>\n",
       "      <td>...</td>\n",
       "      <td>...</td>\n",
       "      <td>...</td>\n",
       "      <td>...</td>\n",
       "      <td>...</td>\n",
       "      <td>...</td>\n",
       "      <td>...</td>\n",
       "      <td>...</td>\n",
       "      <td>...</td>\n",
       "    </tr>\n",
       "    <tr>\n",
       "      <th>31273</th>\n",
       "      <td>5922</td>\n",
       "      <td>3</td>\n",
       "      <td>BROWNSVILLE</td>\n",
       "      <td>22 STORE BUILDINGS</td>\n",
       "      <td>4</td>\n",
       "      <td>3514</td>\n",
       "      <td>40</td>\n",
       "      <td></td>\n",
       "      <td>K1</td>\n",
       "      <td>1522 PITKIN AVENUE</td>\n",
       "      <td>...</td>\n",
       "      <td>0</td>\n",
       "      <td>2</td>\n",
       "      <td>2</td>\n",
       "      <td>2323.0</td>\n",
       "      <td>2300.0</td>\n",
       "      <td>1930</td>\n",
       "      <td>4</td>\n",
       "      <td>K1</td>\n",
       "      <td>925000.0</td>\n",
       "      <td>2017-08-29</td>\n",
       "    </tr>\n",
       "    <tr>\n",
       "      <th>73584</th>\n",
       "      <td>24186</td>\n",
       "      <td>4</td>\n",
       "      <td>SPRINGFIELD GARDENS</td>\n",
       "      <td>01 ONE FAMILY DWELLINGS</td>\n",
       "      <td>1</td>\n",
       "      <td>13022</td>\n",
       "      <td>65</td>\n",
       "      <td></td>\n",
       "      <td>S1</td>\n",
       "      <td>136-09 FARMERS BOULEVARD</td>\n",
       "      <td>...</td>\n",
       "      <td>1</td>\n",
       "      <td>1</td>\n",
       "      <td>2</td>\n",
       "      <td>2814.0</td>\n",
       "      <td>2600.0</td>\n",
       "      <td>1931</td>\n",
       "      <td>1</td>\n",
       "      <td>S1</td>\n",
       "      <td>450000.0</td>\n",
       "      <td>2017-08-29</td>\n",
       "    </tr>\n",
       "    <tr>\n",
       "      <th>21595</th>\n",
       "      <td>3293</td>\n",
       "      <td>2</td>\n",
       "      <td>MORRISANIA/LONGWOOD</td>\n",
       "      <td>22 STORE BUILDINGS</td>\n",
       "      <td>4</td>\n",
       "      <td>2979</td>\n",
       "      <td>4</td>\n",
       "      <td></td>\n",
       "      <td>K1</td>\n",
       "      <td>1212 SOUTHERN BOULEVARD</td>\n",
       "      <td>...</td>\n",
       "      <td>0</td>\n",
       "      <td>1</td>\n",
       "      <td>1</td>\n",
       "      <td>5257.0</td>\n",
       "      <td>3500.0</td>\n",
       "      <td>1925</td>\n",
       "      <td>4</td>\n",
       "      <td>K1</td>\n",
       "      <td>1030000.0</td>\n",
       "      <td>2017-08-30</td>\n",
       "    </tr>\n",
       "    <tr>\n",
       "      <th>54006</th>\n",
       "      <td>4608</td>\n",
       "      <td>4</td>\n",
       "      <td>CORONA</td>\n",
       "      <td>14 RENTALS - 4-10 UNIT</td>\n",
       "      <td>2A</td>\n",
       "      <td>1743</td>\n",
       "      <td>32</td>\n",
       "      <td></td>\n",
       "      <td>S9</td>\n",
       "      <td>102-09 37TH AVENUE</td>\n",
       "      <td>...</td>\n",
       "      <td>2</td>\n",
       "      <td>2</td>\n",
       "      <td>4</td>\n",
       "      <td>2500.0</td>\n",
       "      <td>2100.0</td>\n",
       "      <td>1930</td>\n",
       "      <td>2</td>\n",
       "      <td>S9</td>\n",
       "      <td>950000.0</td>\n",
       "      <td>2017-08-30</td>\n",
       "    </tr>\n",
       "    <tr>\n",
       "      <th>53432</th>\n",
       "      <td>4034</td>\n",
       "      <td>4</td>\n",
       "      <td>CORONA</td>\n",
       "      <td>01 ONE FAMILY DWELLINGS</td>\n",
       "      <td>1</td>\n",
       "      <td>1743</td>\n",
       "      <td>31</td>\n",
       "      <td></td>\n",
       "      <td>S0</td>\n",
       "      <td>102-11 37TH AVENUE</td>\n",
       "      <td>...</td>\n",
       "      <td>1</td>\n",
       "      <td>2</td>\n",
       "      <td>3</td>\n",
       "      <td>2500.0</td>\n",
       "      <td>1245.0</td>\n",
       "      <td>1930</td>\n",
       "      <td>1</td>\n",
       "      <td>S0</td>\n",
       "      <td>950000.0</td>\n",
       "      <td>2017-08-30</td>\n",
       "    </tr>\n",
       "  </tbody>\n",
       "</table>\n",
       "<p>807 rows × 22 columns</p>\n",
       "</div>"
      ],
      "text/plain": [
       "       Unnamed: 0  BOROUGH         NEIGHBORHOOD  \\\n",
       "24446        6144        2          THROGS NECK   \n",
       "74537       25139        4           ST. ALBANS   \n",
       "59982       10584        4       FLUSHING-SOUTH   \n",
       "40563       15212        3            GRAVESEND   \n",
       "40562       15211        3            GRAVESEND   \n",
       "...           ...      ...                  ...   \n",
       "31273        5922        3          BROWNSVILLE   \n",
       "73584       24186        4  SPRINGFIELD GARDENS   \n",
       "21595        3293        2  MORRISANIA/LONGWOOD   \n",
       "54006        4608        4               CORONA   \n",
       "53432        4034        4               CORONA   \n",
       "\n",
       "                           BUILDING CLASS CATEGORY TAX CLASS AT PRESENT  \\\n",
       "24446  22 STORE BUILDINGS                                             4   \n",
       "74537  30 WAREHOUSES                                                  4   \n",
       "59982  14 RENTALS - 4-10 UNIT                                        2A   \n",
       "40563  22 STORE BUILDINGS                                             4   \n",
       "40562  22 STORE BUILDINGS                                             4   \n",
       "...                                            ...                  ...   \n",
       "31273  22 STORE BUILDINGS                                             4   \n",
       "73584  01 ONE FAMILY DWELLINGS                                        1   \n",
       "21595  22 STORE BUILDINGS                                             4   \n",
       "54006  14 RENTALS - 4-10 UNIT                                        2A   \n",
       "53432  01 ONE FAMILY DWELLINGS                                        1   \n",
       "\n",
       "       BLOCK  LOT EASE-MENT BUILDING CLASS AT PRESENT  \\\n",
       "24446   5576   28                                  K1   \n",
       "74537  12452   53                                  E1   \n",
       "59982   6905   37                                  S3   \n",
       "40563   6491   11                                  K6   \n",
       "40562   6491   11                                  K6   \n",
       "...      ...  ...       ...                       ...   \n",
       "31273   3514   40                                  K1   \n",
       "73584  13022   65                                  S1   \n",
       "21595   2979    4                                  K1   \n",
       "54006   1743   32                                  S9   \n",
       "53432   1743   31                                  S0   \n",
       "\n",
       "                        ADDRESS  ... RESIDENTIAL UNITS  COMMERCIAL UNITS  \\\n",
       "24446  3930 EAST TREMONT AVENUE  ...                 0                 1   \n",
       "74537     118-30 MONTAUK STREET  ...                 0                 1   \n",
       "59982             164-10 65 AVE  ...                 3                 1   \n",
       "40563        1608 SHORE PARKWAY  ...                 0                 8   \n",
       "40562        1608 SHORE PARKWAY  ...                 0                 8   \n",
       "...                         ...  ...               ...               ...   \n",
       "31273        1522 PITKIN AVENUE  ...                 0                 2   \n",
       "73584  136-09 FARMERS BOULEVARD  ...                 1                 1   \n",
       "21595   1212 SOUTHERN BOULEVARD  ...                 0                 1   \n",
       "54006        102-09 37TH AVENUE  ...                 2                 2   \n",
       "53432        102-11 37TH AVENUE  ...                 1                 2   \n",
       "\n",
       "       TOTAL UNITS  LAND SQUARE FEET  GROSS SQUARE FEET  YEAR BUILT  \\\n",
       "24446            1            5000.0             1911.0        1934   \n",
       "74537            1            7753.0             6170.0        1960   \n",
       "59982            4            3000.0             2228.0        1931   \n",
       "40563            8          970000.0           285471.0        1957   \n",
       "40562            8          970000.0           285471.0        1957   \n",
       "...            ...               ...                ...         ...   \n",
       "31273            2            2323.0             2300.0        1930   \n",
       "73584            2            2814.0             2600.0        1931   \n",
       "21595            1            5257.0             3500.0        1925   \n",
       "54006            4            2500.0             2100.0        1930   \n",
       "53432            3            2500.0             1245.0        1930   \n",
       "\n",
       "       TAX CLASS AT TIME OF SALE  BUILDING CLASS AT TIME OF SALE  SALE PRICE  \\\n",
       "24446                          4                              K1   1250000.0   \n",
       "74537                          4                              E1   1625000.0   \n",
       "59982                          2                              S3    750000.0   \n",
       "40563                          4                              K6    224020.0   \n",
       "40562                          4                              K6    224020.0   \n",
       "...                          ...                             ...         ...   \n",
       "31273                          4                              K1    925000.0   \n",
       "73584                          1                              S1    450000.0   \n",
       "21595                          4                              K1   1030000.0   \n",
       "54006                          2                              S9    950000.0   \n",
       "53432                          1                              S0    950000.0   \n",
       "\n",
       "       SALE DATE  \n",
       "24446 2016-09-01  \n",
       "74537 2016-09-01  \n",
       "59982 2016-09-01  \n",
       "40563 2016-09-01  \n",
       "40562 2016-09-01  \n",
       "...          ...  \n",
       "31273 2017-08-29  \n",
       "73584 2017-08-29  \n",
       "21595 2017-08-30  \n",
       "54006 2017-08-30  \n",
       "53432 2017-08-30  \n",
       "\n",
       "[807 rows x 22 columns]"
      ]
     },
     "execution_count": 35,
     "metadata": {},
     "output_type": "execute_result"
    }
   ],
   "source": [
    "df_ht = df[df['LAND SQUARE FEET'] > df['GROSS SQUARE FEET']]\n",
    "df_ht"
   ]
  },
  {
   "cell_type": "code",
   "execution_count": 36,
   "id": "0f227bbd",
   "metadata": {
    "ExecuteTime": {
     "end_time": "2022-10-11T03:59:36.468301Z",
     "start_time": "2022-10-11T03:59:36.449350Z"
    }
   },
   "outputs": [
    {
     "data": {
      "text/plain": [
       "0.34572490706319703"
      ]
     },
     "execution_count": 36,
     "metadata": {},
     "output_type": "execute_result"
    }
   ],
   "source": [
    "p0 = len(df_ht[df_ht['BOROUGH'] == 4]) / len(df_ht)\n",
    "p0\n",
    "# p > p0"
   ]
  },
  {
   "cell_type": "code",
   "execution_count": 37,
   "id": "0c14280e",
   "metadata": {
    "ExecuteTime": {
     "end_time": "2022-10-11T03:59:48.085321Z",
     "start_time": "2022-10-11T03:59:48.069363Z"
    }
   },
   "outputs": [
    {
     "data": {
      "text/plain": [
       "0.28987068965517243"
      ]
     },
     "execution_count": 37,
     "metadata": {},
     "output_type": "execute_result"
    }
   ],
   "source": [
    "p_us = len(df_ht) / len(df)\n",
    "p_us"
   ]
  },
  {
   "cell_type": "code",
   "execution_count": 38,
   "id": "72b22cdf",
   "metadata": {
    "ExecuteTime": {
     "end_time": "2022-10-11T04:01:11.395179Z",
     "start_time": "2022-10-11T04:01:11.373239Z"
    }
   },
   "outputs": [
    {
     "data": {
      "text/plain": [
       "0.009013862163296105"
      ]
     },
     "execution_count": 38,
     "metadata": {},
     "output_type": "execute_result"
    }
   ],
   "source": [
    "se = np.sqrt(p0 * (1 - p0) / len(df))\n",
    "se"
   ]
  },
  {
   "cell_type": "code",
   "execution_count": 39,
   "id": "397b28ac",
   "metadata": {
    "ExecuteTime": {
     "end_time": "2022-10-11T04:01:14.362608Z",
     "start_time": "2022-10-11T04:01:14.349607Z"
    }
   },
   "outputs": [
    {
     "data": {
      "text/plain": [
       "-6.196480087687557"
      ]
     },
     "execution_count": 39,
     "metadata": {},
     "output_type": "execute_result"
    }
   ],
   "source": [
    "be = p_us\n",
    "he = p0\n",
    "test_stat = (be - he) / se\n",
    "test_stat"
   ]
  },
  {
   "cell_type": "code",
   "execution_count": 40,
   "id": "fee324d8",
   "metadata": {
    "ExecuteTime": {
     "end_time": "2022-10-11T04:01:19.820692Z",
     "start_time": "2022-10-11T04:01:19.802708Z"
    }
   },
   "outputs": [
    {
     "data": {
      "text/plain": [
       "5.773983053664681e-10"
      ]
     },
     "execution_count": 40,
     "metadata": {},
     "output_type": "execute_result"
    }
   ],
   "source": [
    "pvalue = 2*dist.norm.cdf(-np.abs(test_stat))\n",
    "pvalue"
   ]
  },
  {
   "cell_type": "markdown",
   "id": "70f5295f",
   "metadata": {},
   "source": [
    "**Conclusion**\n",
    "\n",
    "p-value > alpha maka fail to reject the null hypothesis."
   ]
  },
  {
   "cell_type": "code",
   "execution_count": null,
   "id": "67837025",
   "metadata": {},
   "outputs": [],
   "source": []
  }
 ],
 "metadata": {
  "colab": {
   "collapsed_sections": [],
   "provenance": []
  },
  "kernelspec": {
   "display_name": "Python 3 (ipykernel)",
   "language": "python",
   "name": "python3"
  },
  "language_info": {
   "codemirror_mode": {
    "name": "ipython",
    "version": 3
   },
   "file_extension": ".py",
   "mimetype": "text/x-python",
   "name": "python",
   "nbconvert_exporter": "python",
   "pygments_lexer": "ipython3",
   "version": "3.9.12"
  },
  "toc": {
   "base_numbering": 1,
   "nav_menu": {},
   "number_sections": true,
   "sideBar": true,
   "skip_h1_title": false,
   "title_cell": "Table of Contents",
   "title_sidebar": "Contents",
   "toc_cell": false,
   "toc_position": {},
   "toc_section_display": true,
   "toc_window_display": false
  }
 },
 "nbformat": 4,
 "nbformat_minor": 5
}
