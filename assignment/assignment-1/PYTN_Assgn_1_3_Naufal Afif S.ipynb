{
 "cells": [
  {
   "cell_type": "code",
   "execution_count": 1,
   "id": "be5c990c",
   "metadata": {
    "ExecuteTime": {
     "end_time": "2022-09-27T00:19:22.009512Z",
     "start_time": "2022-09-27T00:19:21.088001Z"
    }
   },
   "outputs": [],
   "source": [
    "import numpy as np\n",
    "import pandas as pd"
   ]
  },
  {
   "cell_type": "code",
   "execution_count": 2,
   "id": "5e28f302",
   "metadata": {
    "ExecuteTime": {
     "end_time": "2022-09-27T00:19:34.638199Z",
     "start_time": "2022-09-27T00:19:22.975854Z"
    }
   },
   "outputs": [
    {
     "data": {
      "text/html": [
       "<div>\n",
       "<style scoped>\n",
       "    .dataframe tbody tr th:only-of-type {\n",
       "        vertical-align: middle;\n",
       "    }\n",
       "\n",
       "    .dataframe tbody tr th {\n",
       "        vertical-align: top;\n",
       "    }\n",
       "\n",
       "    .dataframe thead th {\n",
       "        text-align: right;\n",
       "    }\n",
       "</style>\n",
       "<table border=\"1\" class=\"dataframe\">\n",
       "  <thead>\n",
       "    <tr style=\"text-align: right;\">\n",
       "      <th></th>\n",
       "      <th>lsoa_code</th>\n",
       "      <th>borough</th>\n",
       "      <th>major_category</th>\n",
       "      <th>minor_category</th>\n",
       "      <th>value</th>\n",
       "      <th>year</th>\n",
       "      <th>month</th>\n",
       "    </tr>\n",
       "  </thead>\n",
       "  <tbody>\n",
       "    <tr>\n",
       "      <th>0</th>\n",
       "      <td>E01001116</td>\n",
       "      <td>Croydon</td>\n",
       "      <td>Burglary</td>\n",
       "      <td>Burglary in Other Buildings</td>\n",
       "      <td>0</td>\n",
       "      <td>2016</td>\n",
       "      <td>11</td>\n",
       "    </tr>\n",
       "    <tr>\n",
       "      <th>1</th>\n",
       "      <td>E01001646</td>\n",
       "      <td>Greenwich</td>\n",
       "      <td>Violence Against the Person</td>\n",
       "      <td>Other violence</td>\n",
       "      <td>0</td>\n",
       "      <td>2016</td>\n",
       "      <td>11</td>\n",
       "    </tr>\n",
       "    <tr>\n",
       "      <th>2</th>\n",
       "      <td>E01000677</td>\n",
       "      <td>Bromley</td>\n",
       "      <td>Violence Against the Person</td>\n",
       "      <td>Other violence</td>\n",
       "      <td>0</td>\n",
       "      <td>2015</td>\n",
       "      <td>5</td>\n",
       "    </tr>\n",
       "    <tr>\n",
       "      <th>3</th>\n",
       "      <td>E01003774</td>\n",
       "      <td>Redbridge</td>\n",
       "      <td>Burglary</td>\n",
       "      <td>Burglary in Other Buildings</td>\n",
       "      <td>0</td>\n",
       "      <td>2016</td>\n",
       "      <td>3</td>\n",
       "    </tr>\n",
       "    <tr>\n",
       "      <th>4</th>\n",
       "      <td>E01004563</td>\n",
       "      <td>Wandsworth</td>\n",
       "      <td>Robbery</td>\n",
       "      <td>Personal Property</td>\n",
       "      <td>0</td>\n",
       "      <td>2008</td>\n",
       "      <td>6</td>\n",
       "    </tr>\n",
       "  </tbody>\n",
       "</table>\n",
       "</div>"
      ],
      "text/plain": [
       "   lsoa_code     borough               major_category  \\\n",
       "0  E01001116     Croydon                     Burglary   \n",
       "1  E01001646   Greenwich  Violence Against the Person   \n",
       "2  E01000677     Bromley  Violence Against the Person   \n",
       "3  E01003774   Redbridge                     Burglary   \n",
       "4  E01004563  Wandsworth                      Robbery   \n",
       "\n",
       "                minor_category  value  year  month  \n",
       "0  Burglary in Other Buildings      0  2016     11  \n",
       "1               Other violence      0  2016     11  \n",
       "2               Other violence      0  2015      5  \n",
       "3  Burglary in Other Buildings      0  2016      3  \n",
       "4            Personal Property      0  2008      6  "
      ]
     },
     "execution_count": 2,
     "metadata": {},
     "output_type": "execute_result"
    }
   ],
   "source": [
    "df = pd.read_csv('dataset/london_crime_by_lsoa.csv')\n",
    "df.head()"
   ]
  },
  {
   "cell_type": "code",
   "execution_count": 3,
   "id": "d7b74967",
   "metadata": {
    "ExecuteTime": {
     "end_time": "2022-09-27T00:19:39.823190Z",
     "start_time": "2022-09-27T00:19:39.799232Z"
    }
   },
   "outputs": [
    {
     "name": "stdout",
     "output_type": "stream",
     "text": [
      "<class 'pandas.core.frame.DataFrame'>\n",
      "RangeIndex: 13490604 entries, 0 to 13490603\n",
      "Data columns (total 7 columns):\n",
      " #   Column          Dtype \n",
      "---  ------          ----- \n",
      " 0   lsoa_code       object\n",
      " 1   borough         object\n",
      " 2   major_category  object\n",
      " 3   minor_category  object\n",
      " 4   value           int64 \n",
      " 5   year            int64 \n",
      " 6   month           int64 \n",
      "dtypes: int64(3), object(4)\n",
      "memory usage: 720.5+ MB\n"
     ]
    }
   ],
   "source": [
    "df.info()"
   ]
  },
  {
   "cell_type": "code",
   "execution_count": 4,
   "id": "05d91156",
   "metadata": {
    "ExecuteTime": {
     "end_time": "2022-09-27T00:19:42.039999Z",
     "start_time": "2022-09-27T00:19:42.019053Z"
    }
   },
   "outputs": [
    {
     "data": {
      "text/plain": [
       "(13490604, 7)"
      ]
     },
     "execution_count": 4,
     "metadata": {},
     "output_type": "execute_result"
    }
   ],
   "source": [
    "df.shape"
   ]
  },
  {
   "cell_type": "code",
   "execution_count": 5,
   "id": "8dc50058",
   "metadata": {
    "ExecuteTime": {
     "end_time": "2022-09-27T00:19:46.075384Z",
     "start_time": "2022-09-27T00:19:43.189864Z"
    }
   },
   "outputs": [
    {
     "data": {
      "text/plain": [
       "borough         major_category           \n",
       "Croydon         Theft and Handling           176256\n",
       "Barnet          Theft and Handling           171180\n",
       "Ealing          Theft and Handling           160812\n",
       "Bromley         Theft and Handling           156492\n",
       "Lambeth         Theft and Handling           150552\n",
       "                                              ...  \n",
       "City of London  Criminal Damage                1188\n",
       "                Drugs                           756\n",
       "                Robbery                         540\n",
       "                Burglary                        540\n",
       "                Other Notifiable Offences       432\n",
       "Length: 295, dtype: int64"
      ]
     },
     "execution_count": 5,
     "metadata": {},
     "output_type": "execute_result"
    }
   ],
   "source": [
    "df[['borough', 'major_category']].value_counts()"
   ]
  },
  {
   "cell_type": "code",
   "execution_count": 6,
   "id": "4eb1bd32",
   "metadata": {
    "ExecuteTime": {
     "end_time": "2022-09-27T00:19:50.278824Z",
     "start_time": "2022-09-27T00:19:49.438643Z"
    }
   },
   "outputs": [
    {
     "data": {
      "text/html": [
       "<div>\n",
       "<style scoped>\n",
       "    .dataframe tbody tr th:only-of-type {\n",
       "        vertical-align: middle;\n",
       "    }\n",
       "\n",
       "    .dataframe tbody tr th {\n",
       "        vertical-align: top;\n",
       "    }\n",
       "\n",
       "    .dataframe thead th {\n",
       "        text-align: right;\n",
       "    }\n",
       "</style>\n",
       "<table border=\"1\" class=\"dataframe\">\n",
       "  <thead>\n",
       "    <tr style=\"text-align: right;\">\n",
       "      <th></th>\n",
       "      <th>lsoa_code</th>\n",
       "      <th>borough</th>\n",
       "      <th>major_category</th>\n",
       "      <th>minor_category</th>\n",
       "      <th>value</th>\n",
       "      <th>year</th>\n",
       "      <th>month</th>\n",
       "    </tr>\n",
       "  </thead>\n",
       "  <tbody>\n",
       "    <tr>\n",
       "      <th>215</th>\n",
       "      <td>E01003790</td>\n",
       "      <td>Redbridge</td>\n",
       "      <td>Violence Against the Person</td>\n",
       "      <td>Assault with Injury</td>\n",
       "      <td>2</td>\n",
       "      <td>2015</td>\n",
       "      <td>12</td>\n",
       "    </tr>\n",
       "    <tr>\n",
       "      <th>2148</th>\n",
       "      <td>E01003674</td>\n",
       "      <td>Redbridge</td>\n",
       "      <td>Violence Against the Person</td>\n",
       "      <td>Harassment</td>\n",
       "      <td>3</td>\n",
       "      <td>2015</td>\n",
       "      <td>12</td>\n",
       "    </tr>\n",
       "    <tr>\n",
       "      <th>2630</th>\n",
       "      <td>E01003769</td>\n",
       "      <td>Redbridge</td>\n",
       "      <td>Violence Against the Person</td>\n",
       "      <td>Wounding/GBH</td>\n",
       "      <td>1</td>\n",
       "      <td>2015</td>\n",
       "      <td>8</td>\n",
       "    </tr>\n",
       "    <tr>\n",
       "      <th>7179</th>\n",
       "      <td>E01003778</td>\n",
       "      <td>Redbridge</td>\n",
       "      <td>Theft and Handling</td>\n",
       "      <td>Theft From Motor Vehicle</td>\n",
       "      <td>1</td>\n",
       "      <td>2015</td>\n",
       "      <td>3</td>\n",
       "    </tr>\n",
       "    <tr>\n",
       "      <th>8451</th>\n",
       "      <td>E01003741</td>\n",
       "      <td>Redbridge</td>\n",
       "      <td>Violence Against the Person</td>\n",
       "      <td>Common Assault</td>\n",
       "      <td>1</td>\n",
       "      <td>2015</td>\n",
       "      <td>3</td>\n",
       "    </tr>\n",
       "  </tbody>\n",
       "</table>\n",
       "</div>"
      ],
      "text/plain": [
       "      lsoa_code    borough               major_category  \\\n",
       "215   E01003790  Redbridge  Violence Against the Person   \n",
       "2148  E01003674  Redbridge  Violence Against the Person   \n",
       "2630  E01003769  Redbridge  Violence Against the Person   \n",
       "7179  E01003778  Redbridge           Theft and Handling   \n",
       "8451  E01003741  Redbridge  Violence Against the Person   \n",
       "\n",
       "                minor_category  value  year  month  \n",
       "215        Assault with Injury      2  2015     12  \n",
       "2148                Harassment      3  2015     12  \n",
       "2630              Wounding/GBH      1  2015      8  \n",
       "7179  Theft From Motor Vehicle      1  2015      3  \n",
       "8451            Common Assault      1  2015      3  "
      ]
     },
     "execution_count": 6,
     "metadata": {},
     "output_type": "execute_result"
    }
   ],
   "source": [
    "# Filter crime yang terjadi di wilayah Redbridge pada tahun 2015\n",
    "\n",
    "df_rb = df[(df['borough'] == 'Redbridge') & (df['year'] == 2015) & (df['value'] > 0)]\n",
    "df_rb.head()"
   ]
  },
  {
   "cell_type": "code",
   "execution_count": 7,
   "id": "5dcd2a02",
   "metadata": {
    "ExecuteTime": {
     "end_time": "2022-09-27T00:19:52.088860Z",
     "start_time": "2022-09-27T00:19:52.054954Z"
    }
   },
   "outputs": [
    {
     "name": "stdout",
     "output_type": "stream",
     "text": [
      "<class 'pandas.core.frame.DataFrame'>\n",
      "Int64Index: 11382 entries, 215 to 13486721\n",
      "Data columns (total 7 columns):\n",
      " #   Column          Non-Null Count  Dtype \n",
      "---  ------          --------------  ----- \n",
      " 0   lsoa_code       11382 non-null  object\n",
      " 1   borough         11382 non-null  object\n",
      " 2   major_category  11382 non-null  object\n",
      " 3   minor_category  11382 non-null  object\n",
      " 4   value           11382 non-null  int64 \n",
      " 5   year            11382 non-null  int64 \n",
      " 6   month           11382 non-null  int64 \n",
      "dtypes: int64(3), object(4)\n",
      "memory usage: 711.4+ KB\n"
     ]
    }
   ],
   "source": [
    "df_rb.info()"
   ]
  },
  {
   "cell_type": "code",
   "execution_count": 8,
   "id": "1ce37bf8",
   "metadata": {
    "ExecuteTime": {
     "end_time": "2022-09-27T00:19:54.449975Z",
     "start_time": "2022-09-27T00:19:54.432987Z"
    }
   },
   "outputs": [
    {
     "data": {
      "text/plain": [
       "(11382, 7)"
      ]
     },
     "execution_count": 8,
     "metadata": {},
     "output_type": "execute_result"
    }
   ],
   "source": [
    "df_rb.shape"
   ]
  },
  {
   "cell_type": "code",
   "execution_count": 9,
   "id": "fe96b5e7",
   "metadata": {
    "ExecuteTime": {
     "end_time": "2022-09-27T00:19:55.761405Z",
     "start_time": "2022-09-27T00:19:55.740461Z"
    }
   },
   "outputs": [
    {
     "data": {
      "text/plain": [
       "lsoa_code         0\n",
       "borough           0\n",
       "major_category    0\n",
       "minor_category    0\n",
       "value             0\n",
       "year              0\n",
       "month             0\n",
       "dtype: int64"
      ]
     },
     "execution_count": 9,
     "metadata": {},
     "output_type": "execute_result"
    }
   ],
   "source": [
    "df_rb.isnull().sum()"
   ]
  },
  {
   "cell_type": "code",
   "execution_count": 10,
   "id": "206f0926",
   "metadata": {
    "ExecuteTime": {
     "end_time": "2022-09-27T00:19:57.542255Z",
     "start_time": "2022-09-27T00:19:57.529257Z"
    }
   },
   "outputs": [
    {
     "data": {
      "text/plain": [
       "Theft and Handling             3631\n",
       "Violence Against the Person    3491\n",
       "Burglary                       1412\n",
       "Criminal Damage                1283\n",
       "Drugs                           767\n",
       "Robbery                         464\n",
       "Other Notifiable Offences       334\n",
       "Name: major_category, dtype: int64"
      ]
     },
     "execution_count": 10,
     "metadata": {},
     "output_type": "execute_result"
    }
   ],
   "source": [
    "df_rb['major_category'].value_counts()"
   ]
  },
  {
   "cell_type": "code",
   "execution_count": 11,
   "id": "41b57588",
   "metadata": {
    "ExecuteTime": {
     "end_time": "2022-09-27T00:19:59.776847Z",
     "start_time": "2022-09-27T00:19:59.765874Z"
    }
   },
   "outputs": [
    {
     "data": {
      "text/plain": [
       "array(['Violence Against the Person', 'Theft and Handling', 'Burglary',\n",
       "       'Criminal Damage', 'Robbery', 'Drugs', 'Other Notifiable Offences'],\n",
       "      dtype=object)"
      ]
     },
     "execution_count": 11,
     "metadata": {},
     "output_type": "execute_result"
    }
   ],
   "source": [
    "df_rb['major_category'].unique()"
   ]
  },
  {
   "cell_type": "code",
   "execution_count": 12,
   "id": "27d30e02",
   "metadata": {
    "ExecuteTime": {
     "end_time": "2022-09-27T00:20:02.449427Z",
     "start_time": "2022-09-27T00:20:02.253769Z"
    }
   },
   "outputs": [
    {
     "name": "stdout",
     "output_type": "stream",
     "text": [
      "[251, 252, 202, 177, 155, 166, 147, 130, 167, 168, 205, 225]\n",
      "[122, 115, 157, 132, 118, 140, 156, 113, 129, 153, 142, 150]\n",
      "[127, 106, 100, 87, 98, 110, 99, 103, 123, 100, 99, 120]\n",
      "[31, 38, 35, 42, 26, 33, 36, 28, 42, 25, 30, 31]\n",
      "[59, 37, 58, 49, 46, 67, 52, 52, 70, 68, 46, 53]\n",
      "[578, 514, 597, 557, 552, 597, 563, 532, 511, 601, 635, 569]\n",
      "[413, 407, 499, 429, 465, 589, 550, 472, 484, 529, 532, 524]\n"
     ]
    }
   ],
   "source": [
    "list_vlc = []\n",
    "list_brg = []\n",
    "list_th = []\n",
    "list_dmg = []\n",
    "list_drg = []\n",
    "list_rob = []\n",
    "list_other = []\n",
    "\n",
    "for i in df_rb['major_category'].unique():\n",
    "    for j in range(1, 13):\n",
    "        if i == 'Violence Against the Person':\n",
    "            list_vlc.append(df_rb[(df_rb['major_category'] == i) & (df_rb['month'] == j)]['value'].sum())\n",
    "        if i == 'Burglary':\n",
    "            list_brg.append(df_rb[(df_rb['major_category'] == i) & (df_rb['month'] == j)]['value'].sum())\n",
    "        if i == 'Theft and Handling':\n",
    "            list_th.append(df_rb[(df_rb['major_category'] == i) & (df_rb['month'] == j)]['value'].sum())\n",
    "        if i == 'Criminal Damage':\n",
    "            list_dmg.append(df_rb[(df_rb['major_category'] == i) & (df_rb['month'] == j)]['value'].sum())\n",
    "        if i == 'Drugs':\n",
    "            list_drg.append(df_rb[(df_rb['major_category'] == i) & (df_rb['month'] == j)]['value'].sum())\n",
    "        if i == 'Robbery':\n",
    "            list_rob.append(df_rb[(df_rb['major_category'] == i) & (df_rb['month'] == j)]['value'].sum())\n",
    "        if i == 'Other Notifiable Offences':\n",
    "            list_other.append(df_rb[(df_rb['major_category'] == i) & (df_rb['month'] == j)]['value'].sum())\n",
    "\n",
    "print(list_brg)\n",
    "print(list_dmg)\n",
    "print(list_drg)\n",
    "print(list_other)\n",
    "print(list_rob)\n",
    "print(list_th)\n",
    "print(list_vlc)"
   ]
  },
  {
   "cell_type": "code",
   "execution_count": 13,
   "id": "44ba55b2",
   "metadata": {
    "ExecuteTime": {
     "end_time": "2022-09-27T00:20:19.918844Z",
     "start_time": "2022-09-27T00:20:19.885932Z"
    }
   },
   "outputs": [
    {
     "data": {
      "text/html": [
       "<div>\n",
       "<style scoped>\n",
       "    .dataframe tbody tr th:only-of-type {\n",
       "        vertical-align: middle;\n",
       "    }\n",
       "\n",
       "    .dataframe tbody tr th {\n",
       "        vertical-align: top;\n",
       "    }\n",
       "\n",
       "    .dataframe thead th {\n",
       "        text-align: right;\n",
       "    }\n",
       "</style>\n",
       "<table border=\"1\" class=\"dataframe\">\n",
       "  <thead>\n",
       "    <tr style=\"text-align: right;\">\n",
       "      <th></th>\n",
       "      <th>Violence Against the Person</th>\n",
       "      <th>Theft and Handling</th>\n",
       "      <th>Burglary</th>\n",
       "      <th>Criminal Damage</th>\n",
       "      <th>Robbery</th>\n",
       "      <th>Drugs</th>\n",
       "      <th>Other Notifiable Offences</th>\n",
       "    </tr>\n",
       "  </thead>\n",
       "  <tbody>\n",
       "    <tr>\n",
       "      <th>1</th>\n",
       "      <td>413</td>\n",
       "      <td>578</td>\n",
       "      <td>251</td>\n",
       "      <td>122</td>\n",
       "      <td>59</td>\n",
       "      <td>127</td>\n",
       "      <td>31</td>\n",
       "    </tr>\n",
       "    <tr>\n",
       "      <th>2</th>\n",
       "      <td>407</td>\n",
       "      <td>514</td>\n",
       "      <td>252</td>\n",
       "      <td>115</td>\n",
       "      <td>37</td>\n",
       "      <td>106</td>\n",
       "      <td>38</td>\n",
       "    </tr>\n",
       "    <tr>\n",
       "      <th>3</th>\n",
       "      <td>499</td>\n",
       "      <td>597</td>\n",
       "      <td>202</td>\n",
       "      <td>157</td>\n",
       "      <td>58</td>\n",
       "      <td>100</td>\n",
       "      <td>35</td>\n",
       "    </tr>\n",
       "    <tr>\n",
       "      <th>4</th>\n",
       "      <td>429</td>\n",
       "      <td>557</td>\n",
       "      <td>177</td>\n",
       "      <td>132</td>\n",
       "      <td>49</td>\n",
       "      <td>87</td>\n",
       "      <td>42</td>\n",
       "    </tr>\n",
       "    <tr>\n",
       "      <th>5</th>\n",
       "      <td>465</td>\n",
       "      <td>552</td>\n",
       "      <td>155</td>\n",
       "      <td>118</td>\n",
       "      <td>46</td>\n",
       "      <td>98</td>\n",
       "      <td>26</td>\n",
       "    </tr>\n",
       "    <tr>\n",
       "      <th>6</th>\n",
       "      <td>589</td>\n",
       "      <td>597</td>\n",
       "      <td>166</td>\n",
       "      <td>140</td>\n",
       "      <td>67</td>\n",
       "      <td>110</td>\n",
       "      <td>33</td>\n",
       "    </tr>\n",
       "    <tr>\n",
       "      <th>7</th>\n",
       "      <td>550</td>\n",
       "      <td>563</td>\n",
       "      <td>147</td>\n",
       "      <td>156</td>\n",
       "      <td>52</td>\n",
       "      <td>99</td>\n",
       "      <td>36</td>\n",
       "    </tr>\n",
       "    <tr>\n",
       "      <th>8</th>\n",
       "      <td>472</td>\n",
       "      <td>532</td>\n",
       "      <td>130</td>\n",
       "      <td>113</td>\n",
       "      <td>52</td>\n",
       "      <td>103</td>\n",
       "      <td>28</td>\n",
       "    </tr>\n",
       "    <tr>\n",
       "      <th>9</th>\n",
       "      <td>484</td>\n",
       "      <td>511</td>\n",
       "      <td>167</td>\n",
       "      <td>129</td>\n",
       "      <td>70</td>\n",
       "      <td>123</td>\n",
       "      <td>42</td>\n",
       "    </tr>\n",
       "    <tr>\n",
       "      <th>10</th>\n",
       "      <td>529</td>\n",
       "      <td>601</td>\n",
       "      <td>168</td>\n",
       "      <td>153</td>\n",
       "      <td>68</td>\n",
       "      <td>100</td>\n",
       "      <td>25</td>\n",
       "    </tr>\n",
       "    <tr>\n",
       "      <th>11</th>\n",
       "      <td>532</td>\n",
       "      <td>635</td>\n",
       "      <td>205</td>\n",
       "      <td>142</td>\n",
       "      <td>46</td>\n",
       "      <td>99</td>\n",
       "      <td>30</td>\n",
       "    </tr>\n",
       "    <tr>\n",
       "      <th>12</th>\n",
       "      <td>524</td>\n",
       "      <td>569</td>\n",
       "      <td>225</td>\n",
       "      <td>150</td>\n",
       "      <td>53</td>\n",
       "      <td>120</td>\n",
       "      <td>31</td>\n",
       "    </tr>\n",
       "  </tbody>\n",
       "</table>\n",
       "</div>"
      ],
      "text/plain": [
       "    Violence Against the Person  Theft and Handling  Burglary  \\\n",
       "1                           413                 578       251   \n",
       "2                           407                 514       252   \n",
       "3                           499                 597       202   \n",
       "4                           429                 557       177   \n",
       "5                           465                 552       155   \n",
       "6                           589                 597       166   \n",
       "7                           550                 563       147   \n",
       "8                           472                 532       130   \n",
       "9                           484                 511       167   \n",
       "10                          529                 601       168   \n",
       "11                          532                 635       205   \n",
       "12                          524                 569       225   \n",
       "\n",
       "    Criminal Damage  Robbery  Drugs  Other Notifiable Offences  \n",
       "1               122       59    127                         31  \n",
       "2               115       37    106                         38  \n",
       "3               157       58    100                         35  \n",
       "4               132       49     87                         42  \n",
       "5               118       46     98                         26  \n",
       "6               140       67    110                         33  \n",
       "7               156       52     99                         36  \n",
       "8               113       52    103                         28  \n",
       "9               129       70    123                         42  \n",
       "10              153       68    100                         25  \n",
       "11              142       46     99                         30  \n",
       "12              150       53    120                         31  "
      ]
     },
     "execution_count": 13,
     "metadata": {},
     "output_type": "execute_result"
    }
   ],
   "source": [
    "df_redb = pd.DataFrame({\"Violence Against the Person\": list_vlc,\n",
    "                        \"Theft and Handling\": list_th,\n",
    "                        \"Burglary\": list_brg,\n",
    "                        \"Criminal Damage\": list_dmg,\n",
    "                        \"Robbery\": list_rob,\n",
    "                        \"Drugs\": list_drg,\n",
    "                        \"Other Notifiable Offences\": list_other\n",
    "                  }, index=range(1, 13))\n",
    "\n",
    "df_redb"
   ]
  },
  {
   "cell_type": "code",
   "execution_count": 14,
   "id": "b3eb70b9",
   "metadata": {
    "ExecuteTime": {
     "end_time": "2022-09-27T00:20:23.246305Z",
     "start_time": "2022-09-27T00:20:22.223218Z"
    }
   },
   "outputs": [],
   "source": [
    "import matplotlib as mpl\n",
    "import matplotlib.pyplot as plt\n",
    "mpl.style.use(['ggplot'])"
   ]
  },
  {
   "cell_type": "markdown",
   "id": "0ae81a6f",
   "metadata": {},
   "source": [
    "---\n",
    "# A. Area Plot"
   ]
  },
  {
   "cell_type": "markdown",
   "id": "a3ee16de",
   "metadata": {},
   "source": [
    "**Create Visualization**"
   ]
  },
  {
   "cell_type": "code",
   "execution_count": 15,
   "id": "84228997",
   "metadata": {
    "ExecuteTime": {
     "end_time": "2022-09-27T00:20:30.418742Z",
     "start_time": "2022-09-27T00:20:29.994635Z"
    }
   },
   "outputs": [
    {
     "data": {
      "image/png": "[encoded data removed]",
      "text/plain": [
       "<Figure size 864x504 with 1 Axes>"
      ]
     },
     "metadata": {},
     "output_type": "display_data"
    }
   ],
   "source": [
    "df_redb.plot(kind='area',\n",
    "             stacked=False,\n",
    "             alpha=0.4,\n",
    "             figsize=(12, 7)\n",
    "            )\n",
    "\n",
    "plt.title('Area Plot of Crime in Redbridge (2015)')\n",
    "plt.ylabel('Value')\n",
    "plt.xlabel('Month')\n",
    "\n",
    "plt.show()"
   ]
  },
  {
   "cell_type": "markdown",
   "id": "726ae44e",
   "metadata": {},
   "source": [
    "**Conclusion**\n",
    "\n",
    "~~~\n",
    "Crime yang paling sering terjadi setiap bulan di wilayah redbrige pada tahun 2015 adalah Theft and Handling\n",
    "~~~"
   ]
  },
  {
   "cell_type": "markdown",
   "id": "01c8a9de",
   "metadata": {},
   "source": [
    "---\n",
    "# B. Histogram"
   ]
  },
  {
   "cell_type": "markdown",
   "id": "f3fd0491",
   "metadata": {},
   "source": [
    "**Create Visualization**"
   ]
  },
  {
   "cell_type": "code",
   "execution_count": 16,
   "id": "4820319b",
   "metadata": {
    "ExecuteTime": {
     "end_time": "2022-09-27T00:20:39.935240Z",
     "start_time": "2022-09-27T00:20:39.535359Z"
    }
   },
   "outputs": [
    {
     "data": {
      "image/png": "[encoded data removed]",
      "text/plain": [
       "<Figure size 864x432 with 1 Axes>"
      ]
     },
     "metadata": {},
     "output_type": "display_data"
    }
   ],
   "source": [
    "count, bin_edges = np.histogram(df_redb)\n",
    "\n",
    "df_redb.plot(kind='hist',\n",
    "             figsize=(12, 6),\n",
    "             bins=15,\n",
    "             alpha=0.6,\n",
    "             stacked=False,\n",
    "             xticks=bin_edges\n",
    "            )\n",
    "\n",
    "plt.title('Histogram of Crime in Redbridge (2015)')\n",
    "plt.ylabel('Month')\n",
    "plt.xlabel('Value')\n",
    "\n",
    "plt.show()"
   ]
  },
  {
   "cell_type": "markdown",
   "id": "fe480ee2",
   "metadata": {},
   "source": [
    "**Conclusion**\n",
    "~~~\n",
    "Pada plot di atas, sumbu x menunjukkan kisaran value/jumlah crime dalam interval 25-635. Sumbu y mewakili waktu dalam satuan month/bulan.\n",
    "~~~"
   ]
  },
  {
   "cell_type": "markdown",
   "id": "7b51bb6c",
   "metadata": {},
   "source": [
    "---\n",
    "# C. Bar Charts"
   ]
  },
  {
   "cell_type": "markdown",
   "id": "492e8e89",
   "metadata": {},
   "source": [
    "**Create Visualization**"
   ]
  },
  {
   "cell_type": "code",
   "execution_count": 17,
   "id": "a3025b78",
   "metadata": {
    "ExecuteTime": {
     "end_time": "2022-09-27T00:20:46.637024Z",
     "start_time": "2022-09-27T00:20:46.420810Z"
    }
   },
   "outputs": [
    {
     "data": {
      "image/png": "[encoded data removed]",
      "text/plain": [
       "<Figure size 864x432 with 1 Axes>"
      ]
     },
     "metadata": {},
     "output_type": "display_data"
    }
   ],
   "source": [
    "df_redb['Burglary'].plot(kind='bar',\n",
    "             figsize=(12, 6),\n",
    "            )\n",
    "\n",
    "plt.title('Bar Chart of Burglary Crime in Redbridge (2015)')\n",
    "plt.ylabel('Month')\n",
    "plt.xlabel('Value')\n",
    "plt.xticks(rotation='horizontal')\n",
    "\n",
    "plt.show()"
   ]
  },
  {
   "cell_type": "markdown",
   "id": "cf5af3f2",
   "metadata": {},
   "source": [
    "**Conclusion**\n",
    "~~~\n",
    "Pada plot di atas jumlah crime Burglary di Redbridge (2015) yang paling banyak dilaporkan terjadi pada bulan ke-2 dan yang paling sedikit dilaporkan terjadi pada bulan ke-8.\n",
    "~~~"
   ]
  },
  {
   "cell_type": "markdown",
   "id": "5d777e0e",
   "metadata": {},
   "source": [
    "---\n",
    "# D. Pie Charts"
   ]
  },
  {
   "cell_type": "markdown",
   "id": "c798ad01",
   "metadata": {},
   "source": [
    "**Pre-processing**"
   ]
  },
  {
   "cell_type": "code",
   "execution_count": 18,
   "id": "4f63650e",
   "metadata": {
    "ExecuteTime": {
     "end_time": "2022-09-27T00:20:55.024966Z",
     "start_time": "2022-09-27T00:20:55.003023Z"
    }
   },
   "outputs": [
    {
     "name": "stdout",
     "output_type": "stream",
     "text": [
      "[5893, 6806, 2245, 1627, 657, 1272, 397]\n"
     ]
    }
   ],
   "source": [
    "list_total = []\n",
    "\n",
    "for i in df_redb.columns:\n",
    "    list_total.append(df_redb[i].sum())\n",
    "\n",
    "print(list_total)"
   ]
  },
  {
   "cell_type": "code",
   "execution_count": 19,
   "id": "bea7dd70",
   "metadata": {
    "ExecuteTime": {
     "end_time": "2022-09-27T00:20:56.887731Z",
     "start_time": "2022-09-27T00:20:56.871773Z"
    }
   },
   "outputs": [
    {
     "data": {
      "text/html": [
       "<div>\n",
       "<style scoped>\n",
       "    .dataframe tbody tr th:only-of-type {\n",
       "        vertical-align: middle;\n",
       "    }\n",
       "\n",
       "    .dataframe tbody tr th {\n",
       "        vertical-align: top;\n",
       "    }\n",
       "\n",
       "    .dataframe thead th {\n",
       "        text-align: right;\n",
       "    }\n",
       "</style>\n",
       "<table border=\"1\" class=\"dataframe\">\n",
       "  <thead>\n",
       "    <tr style=\"text-align: right;\">\n",
       "      <th></th>\n",
       "      <th>total</th>\n",
       "    </tr>\n",
       "  </thead>\n",
       "  <tbody>\n",
       "    <tr>\n",
       "      <th>Violence Against the Person</th>\n",
       "      <td>5893</td>\n",
       "    </tr>\n",
       "    <tr>\n",
       "      <th>Theft and Handling</th>\n",
       "      <td>6806</td>\n",
       "    </tr>\n",
       "    <tr>\n",
       "      <th>Burglary</th>\n",
       "      <td>2245</td>\n",
       "    </tr>\n",
       "    <tr>\n",
       "      <th>Criminal Damage</th>\n",
       "      <td>1627</td>\n",
       "    </tr>\n",
       "    <tr>\n",
       "      <th>Robbery</th>\n",
       "      <td>657</td>\n",
       "    </tr>\n",
       "    <tr>\n",
       "      <th>Drugs</th>\n",
       "      <td>1272</td>\n",
       "    </tr>\n",
       "    <tr>\n",
       "      <th>Other Notifiable Offences</th>\n",
       "      <td>397</td>\n",
       "    </tr>\n",
       "  </tbody>\n",
       "</table>\n",
       "</div>"
      ],
      "text/plain": [
       "                             total\n",
       "Violence Against the Person   5893\n",
       "Theft and Handling            6806\n",
       "Burglary                      2245\n",
       "Criminal Damage               1627\n",
       "Robbery                        657\n",
       "Drugs                         1272\n",
       "Other Notifiable Offences      397"
      ]
     },
     "execution_count": 19,
     "metadata": {},
     "output_type": "execute_result"
    }
   ],
   "source": [
    "df_pie = pd.DataFrame({\"total\": list_total,\n",
    "                  }, index=df_redb.columns)\n",
    "\n",
    "df_pie"
   ]
  },
  {
   "cell_type": "markdown",
   "id": "739b9cc1",
   "metadata": {},
   "source": [
    "**Create Visualization**"
   ]
  },
  {
   "cell_type": "code",
   "execution_count": 20,
   "id": "d51d2f4b",
   "metadata": {
    "ExecuteTime": {
     "end_time": "2022-09-27T00:21:01.074846Z",
     "start_time": "2022-09-27T00:21:00.864411Z"
    }
   },
   "outputs": [
    {
     "data": {
      "image/png": "[encoded data removed]",
      "text/plain": [
       "<Figure size 1008x432 with 1 Axes>"
      ]
     },
     "metadata": {},
     "output_type": "display_data"
    }
   ],
   "source": [
    "df_pie['total'].plot(kind='pie',\n",
    "                       figsize=(14, 6),\n",
    "                       autopct='%1.1f%%',\n",
    "                       startangle=0,\n",
    "                       shadow=True,\n",
    "                       labels=None,\n",
    "                       pctdistance=1.12,\n",
    "                       explode=[0, 0, 0, 0, 0.1, 0.1, 0.1]\n",
    "                      )\n",
    "\n",
    "plt.title('Pie Chart of Crime in Redbridge (2015)')\n",
    "plt.axis('equal') \n",
    "plt.legend(labels=df_pie.index, loc='upper right')\n",
    "\n",
    "plt.show()"
   ]
  },
  {
   "cell_type": "markdown",
   "id": "03429106",
   "metadata": {},
   "source": [
    "**Conclusion**\n",
    "~~~\n",
    "Jumlah crime yang paling banyak dilaporkan di wilayah Redbridge pada tahun 2015 adalah Theft and Handling. \n",
    "~~~"
   ]
  },
  {
   "cell_type": "markdown",
   "id": "33d0b456",
   "metadata": {},
   "source": [
    "---\n",
    "# E. Box Plot"
   ]
  },
  {
   "cell_type": "markdown",
   "id": "30779ee3",
   "metadata": {},
   "source": [
    "**Pre-processing**"
   ]
  },
  {
   "cell_type": "code",
   "execution_count": 21,
   "id": "2b35be67",
   "metadata": {
    "ExecuteTime": {
     "end_time": "2022-09-27T00:21:06.137255Z",
     "start_time": "2022-09-27T00:21:06.113314Z"
    }
   },
   "outputs": [
    {
     "data": {
      "text/html": [
       "<div>\n",
       "<style scoped>\n",
       "    .dataframe tbody tr th:only-of-type {\n",
       "        vertical-align: middle;\n",
       "    }\n",
       "\n",
       "    .dataframe tbody tr th {\n",
       "        vertical-align: top;\n",
       "    }\n",
       "\n",
       "    .dataframe thead th {\n",
       "        text-align: right;\n",
       "    }\n",
       "</style>\n",
       "<table border=\"1\" class=\"dataframe\">\n",
       "  <thead>\n",
       "    <tr style=\"text-align: right;\">\n",
       "      <th></th>\n",
       "      <th>1</th>\n",
       "      <th>2</th>\n",
       "      <th>3</th>\n",
       "      <th>4</th>\n",
       "      <th>5</th>\n",
       "      <th>6</th>\n",
       "      <th>7</th>\n",
       "      <th>8</th>\n",
       "      <th>9</th>\n",
       "      <th>10</th>\n",
       "      <th>11</th>\n",
       "      <th>12</th>\n",
       "    </tr>\n",
       "  </thead>\n",
       "  <tbody>\n",
       "    <tr>\n",
       "      <th>Violence Against the Person</th>\n",
       "      <td>413</td>\n",
       "      <td>407</td>\n",
       "      <td>499</td>\n",
       "      <td>429</td>\n",
       "      <td>465</td>\n",
       "      <td>589</td>\n",
       "      <td>550</td>\n",
       "      <td>472</td>\n",
       "      <td>484</td>\n",
       "      <td>529</td>\n",
       "      <td>532</td>\n",
       "      <td>524</td>\n",
       "    </tr>\n",
       "    <tr>\n",
       "      <th>Theft and Handling</th>\n",
       "      <td>578</td>\n",
       "      <td>514</td>\n",
       "      <td>597</td>\n",
       "      <td>557</td>\n",
       "      <td>552</td>\n",
       "      <td>597</td>\n",
       "      <td>563</td>\n",
       "      <td>532</td>\n",
       "      <td>511</td>\n",
       "      <td>601</td>\n",
       "      <td>635</td>\n",
       "      <td>569</td>\n",
       "    </tr>\n",
       "    <tr>\n",
       "      <th>Burglary</th>\n",
       "      <td>251</td>\n",
       "      <td>252</td>\n",
       "      <td>202</td>\n",
       "      <td>177</td>\n",
       "      <td>155</td>\n",
       "      <td>166</td>\n",
       "      <td>147</td>\n",
       "      <td>130</td>\n",
       "      <td>167</td>\n",
       "      <td>168</td>\n",
       "      <td>205</td>\n",
       "      <td>225</td>\n",
       "    </tr>\n",
       "    <tr>\n",
       "      <th>Criminal Damage</th>\n",
       "      <td>122</td>\n",
       "      <td>115</td>\n",
       "      <td>157</td>\n",
       "      <td>132</td>\n",
       "      <td>118</td>\n",
       "      <td>140</td>\n",
       "      <td>156</td>\n",
       "      <td>113</td>\n",
       "      <td>129</td>\n",
       "      <td>153</td>\n",
       "      <td>142</td>\n",
       "      <td>150</td>\n",
       "    </tr>\n",
       "    <tr>\n",
       "      <th>Robbery</th>\n",
       "      <td>59</td>\n",
       "      <td>37</td>\n",
       "      <td>58</td>\n",
       "      <td>49</td>\n",
       "      <td>46</td>\n",
       "      <td>67</td>\n",
       "      <td>52</td>\n",
       "      <td>52</td>\n",
       "      <td>70</td>\n",
       "      <td>68</td>\n",
       "      <td>46</td>\n",
       "      <td>53</td>\n",
       "    </tr>\n",
       "    <tr>\n",
       "      <th>Drugs</th>\n",
       "      <td>127</td>\n",
       "      <td>106</td>\n",
       "      <td>100</td>\n",
       "      <td>87</td>\n",
       "      <td>98</td>\n",
       "      <td>110</td>\n",
       "      <td>99</td>\n",
       "      <td>103</td>\n",
       "      <td>123</td>\n",
       "      <td>100</td>\n",
       "      <td>99</td>\n",
       "      <td>120</td>\n",
       "    </tr>\n",
       "    <tr>\n",
       "      <th>Other Notifiable Offences</th>\n",
       "      <td>31</td>\n",
       "      <td>38</td>\n",
       "      <td>35</td>\n",
       "      <td>42</td>\n",
       "      <td>26</td>\n",
       "      <td>33</td>\n",
       "      <td>36</td>\n",
       "      <td>28</td>\n",
       "      <td>42</td>\n",
       "      <td>25</td>\n",
       "      <td>30</td>\n",
       "      <td>31</td>\n",
       "    </tr>\n",
       "  </tbody>\n",
       "</table>\n",
       "</div>"
      ],
      "text/plain": [
       "                              1    2    3    4    5    6    7    8    9    10  \\\n",
       "Violence Against the Person  413  407  499  429  465  589  550  472  484  529   \n",
       "Theft and Handling           578  514  597  557  552  597  563  532  511  601   \n",
       "Burglary                     251  252  202  177  155  166  147  130  167  168   \n",
       "Criminal Damage              122  115  157  132  118  140  156  113  129  153   \n",
       "Robbery                       59   37   58   49   46   67   52   52   70   68   \n",
       "Drugs                        127  106  100   87   98  110   99  103  123  100   \n",
       "Other Notifiable Offences     31   38   35   42   26   33   36   28   42   25   \n",
       "\n",
       "                              11   12  \n",
       "Violence Against the Person  532  524  \n",
       "Theft and Handling           635  569  \n",
       "Burglary                     205  225  \n",
       "Criminal Damage              142  150  \n",
       "Robbery                       46   53  \n",
       "Drugs                         99  120  \n",
       "Other Notifiable Offences     30   31  "
      ]
     },
     "execution_count": 21,
     "metadata": {},
     "output_type": "execute_result"
    }
   ],
   "source": [
    "df_box = df_redb.transpose()\n",
    "df_box"
   ]
  },
  {
   "cell_type": "code",
   "execution_count": 22,
   "id": "55752bbf",
   "metadata": {
    "ExecuteTime": {
     "end_time": "2022-09-27T00:21:08.667794Z",
     "start_time": "2022-09-27T00:21:08.603387Z"
    }
   },
   "outputs": [
    {
     "data": {
      "text/html": [
       "<div>\n",
       "<style scoped>\n",
       "    .dataframe tbody tr th:only-of-type {\n",
       "        vertical-align: middle;\n",
       "    }\n",
       "\n",
       "    .dataframe tbody tr th {\n",
       "        vertical-align: top;\n",
       "    }\n",
       "\n",
       "    .dataframe thead th {\n",
       "        text-align: right;\n",
       "    }\n",
       "</style>\n",
       "<table border=\"1\" class=\"dataframe\">\n",
       "  <thead>\n",
       "    <tr style=\"text-align: right;\">\n",
       "      <th></th>\n",
       "      <th>1</th>\n",
       "      <th>2</th>\n",
       "      <th>3</th>\n",
       "      <th>4</th>\n",
       "      <th>5</th>\n",
       "      <th>6</th>\n",
       "      <th>7</th>\n",
       "      <th>8</th>\n",
       "      <th>9</th>\n",
       "      <th>10</th>\n",
       "      <th>11</th>\n",
       "      <th>12</th>\n",
       "    </tr>\n",
       "  </thead>\n",
       "  <tbody>\n",
       "    <tr>\n",
       "      <th>count</th>\n",
       "      <td>7.000000</td>\n",
       "      <td>7.000000</td>\n",
       "      <td>7.000000</td>\n",
       "      <td>7.000000</td>\n",
       "      <td>7.000000</td>\n",
       "      <td>7.000000</td>\n",
       "      <td>7.000000</td>\n",
       "      <td>7.000000</td>\n",
       "      <td>7.000000</td>\n",
       "      <td>7.000000</td>\n",
       "      <td>7.000000</td>\n",
       "      <td>7.000000</td>\n",
       "    </tr>\n",
       "    <tr>\n",
       "      <th>mean</th>\n",
       "      <td>225.857143</td>\n",
       "      <td>209.857143</td>\n",
       "      <td>235.428571</td>\n",
       "      <td>210.428571</td>\n",
       "      <td>208.571429</td>\n",
       "      <td>243.142857</td>\n",
       "      <td>229.000000</td>\n",
       "      <td>204.285714</td>\n",
       "      <td>218.000000</td>\n",
       "      <td>234.857143</td>\n",
       "      <td>241.285714</td>\n",
       "      <td>238.857143</td>\n",
       "    </tr>\n",
       "    <tr>\n",
       "      <th>std</th>\n",
       "      <td>202.496443</td>\n",
       "      <td>188.123566</td>\n",
       "      <td>222.660322</td>\n",
       "      <td>201.996582</td>\n",
       "      <td>210.855288</td>\n",
       "      <td>243.014011</td>\n",
       "      <td>228.081857</td>\n",
       "      <td>207.141429</td>\n",
       "      <td>195.376559</td>\n",
       "      <td>231.595501</td>\n",
       "      <td>242.804252</td>\n",
       "      <td>219.948046</td>\n",
       "    </tr>\n",
       "    <tr>\n",
       "      <th>min</th>\n",
       "      <td>31.000000</td>\n",
       "      <td>37.000000</td>\n",
       "      <td>35.000000</td>\n",
       "      <td>42.000000</td>\n",
       "      <td>26.000000</td>\n",
       "      <td>33.000000</td>\n",
       "      <td>36.000000</td>\n",
       "      <td>28.000000</td>\n",
       "      <td>42.000000</td>\n",
       "      <td>25.000000</td>\n",
       "      <td>30.000000</td>\n",
       "      <td>31.000000</td>\n",
       "    </tr>\n",
       "    <tr>\n",
       "      <th>25%</th>\n",
       "      <td>90.500000</td>\n",
       "      <td>72.000000</td>\n",
       "      <td>79.000000</td>\n",
       "      <td>68.000000</td>\n",
       "      <td>72.000000</td>\n",
       "      <td>88.500000</td>\n",
       "      <td>75.500000</td>\n",
       "      <td>77.500000</td>\n",
       "      <td>96.500000</td>\n",
       "      <td>84.000000</td>\n",
       "      <td>72.500000</td>\n",
       "      <td>86.500000</td>\n",
       "    </tr>\n",
       "    <tr>\n",
       "      <th>50%</th>\n",
       "      <td>127.000000</td>\n",
       "      <td>115.000000</td>\n",
       "      <td>157.000000</td>\n",
       "      <td>132.000000</td>\n",
       "      <td>118.000000</td>\n",
       "      <td>140.000000</td>\n",
       "      <td>147.000000</td>\n",
       "      <td>113.000000</td>\n",
       "      <td>129.000000</td>\n",
       "      <td>153.000000</td>\n",
       "      <td>142.000000</td>\n",
       "      <td>150.000000</td>\n",
       "    </tr>\n",
       "    <tr>\n",
       "      <th>75%</th>\n",
       "      <td>332.000000</td>\n",
       "      <td>329.500000</td>\n",
       "      <td>350.500000</td>\n",
       "      <td>303.000000</td>\n",
       "      <td>310.000000</td>\n",
       "      <td>377.500000</td>\n",
       "      <td>353.000000</td>\n",
       "      <td>301.000000</td>\n",
       "      <td>325.500000</td>\n",
       "      <td>348.500000</td>\n",
       "      <td>368.500000</td>\n",
       "      <td>374.500000</td>\n",
       "    </tr>\n",
       "    <tr>\n",
       "      <th>max</th>\n",
       "      <td>578.000000</td>\n",
       "      <td>514.000000</td>\n",
       "      <td>597.000000</td>\n",
       "      <td>557.000000</td>\n",
       "      <td>552.000000</td>\n",
       "      <td>597.000000</td>\n",
       "      <td>563.000000</td>\n",
       "      <td>532.000000</td>\n",
       "      <td>511.000000</td>\n",
       "      <td>601.000000</td>\n",
       "      <td>635.000000</td>\n",
       "      <td>569.000000</td>\n",
       "    </tr>\n",
       "  </tbody>\n",
       "</table>\n",
       "</div>"
      ],
      "text/plain": [
       "               1           2           3           4           5           6   \\\n",
       "count    7.000000    7.000000    7.000000    7.000000    7.000000    7.000000   \n",
       "mean   225.857143  209.857143  235.428571  210.428571  208.571429  243.142857   \n",
       "std    202.496443  188.123566  222.660322  201.996582  210.855288  243.014011   \n",
       "min     31.000000   37.000000   35.000000   42.000000   26.000000   33.000000   \n",
       "25%     90.500000   72.000000   79.000000   68.000000   72.000000   88.500000   \n",
       "50%    127.000000  115.000000  157.000000  132.000000  118.000000  140.000000   \n",
       "75%    332.000000  329.500000  350.500000  303.000000  310.000000  377.500000   \n",
       "max    578.000000  514.000000  597.000000  557.000000  552.000000  597.000000   \n",
       "\n",
       "               7           8           9           10          11          12  \n",
       "count    7.000000    7.000000    7.000000    7.000000    7.000000    7.000000  \n",
       "mean   229.000000  204.285714  218.000000  234.857143  241.285714  238.857143  \n",
       "std    228.081857  207.141429  195.376559  231.595501  242.804252  219.948046  \n",
       "min     36.000000   28.000000   42.000000   25.000000   30.000000   31.000000  \n",
       "25%     75.500000   77.500000   96.500000   84.000000   72.500000   86.500000  \n",
       "50%    147.000000  113.000000  129.000000  153.000000  142.000000  150.000000  \n",
       "75%    353.000000  301.000000  325.500000  348.500000  368.500000  374.500000  \n",
       "max    563.000000  532.000000  511.000000  601.000000  635.000000  569.000000  "
      ]
     },
     "execution_count": 22,
     "metadata": {},
     "output_type": "execute_result"
    }
   ],
   "source": [
    "df_box.describe()"
   ]
  },
  {
   "cell_type": "markdown",
   "id": "5e89801d",
   "metadata": {},
   "source": [
    "**Create Visualization**"
   ]
  },
  {
   "cell_type": "code",
   "execution_count": 23,
   "id": "493e7415",
   "metadata": {
    "ExecuteTime": {
     "end_time": "2022-09-27T00:21:12.684667Z",
     "start_time": "2022-09-27T00:21:12.408701Z"
    }
   },
   "outputs": [
    {
     "data": {
      "image/png": "[encoded data removed]",
      "text/plain": [
       "<Figure size 864x432 with 1 Axes>"
      ]
     },
     "metadata": {},
     "output_type": "display_data"
    }
   ],
   "source": [
    "df_box.plot(kind='box', figsize=(12, 6))\n",
    "\n",
    "plt.title('Box Plot of Crime in Redbridge (2015)')\n",
    "\n",
    "plt.show()"
   ]
  },
  {
   "cell_type": "code",
   "execution_count": 24,
   "id": "88dc01d2",
   "metadata": {
    "ExecuteTime": {
     "end_time": "2022-09-27T00:21:15.855206Z",
     "start_time": "2022-09-27T00:21:15.831271Z"
    }
   },
   "outputs": [
    {
     "data": {
      "text/plain": [
       "[]"
      ]
     },
     "execution_count": 24,
     "metadata": {},
     "output_type": "execute_result"
    }
   ],
   "source": [
    "list_outlr = []\n",
    "\n",
    "for i in range(1, 13):\n",
    "    q1 = np.percentile(df_box[i], 25)\n",
    "    q3 = np.percentile(df_box[i], 75)\n",
    "    iqr = q3 - q1\n",
    "    outlr = q3 + (1.5 * iqr)\n",
    "    for j in range(0, 7):\n",
    "        if df_box[i].unique()[j] > outlr:\n",
    "            list_outlr.append(i)\n",
    "\n",
    "list_outlr"
   ]
  },
  {
   "cell_type": "markdown",
   "id": "68fd8c2e",
   "metadata": {},
   "source": [
    "**Conclusion**\n",
    "~~~\n",
    "Pada Plot di atas tidak terdapat outliers pada data setiap bulannya.\n",
    "~~~"
   ]
  },
  {
   "cell_type": "markdown",
   "id": "d565701a",
   "metadata": {},
   "source": [
    "---\n",
    "# F. Scatter Plot"
   ]
  },
  {
   "cell_type": "markdown",
   "id": "718cc61f",
   "metadata": {},
   "source": [
    "**Pre-processing**"
   ]
  },
  {
   "cell_type": "code",
   "execution_count": 25,
   "id": "fdc5d9f2",
   "metadata": {
    "ExecuteTime": {
     "end_time": "2022-09-27T00:21:22.461528Z",
     "start_time": "2022-09-27T00:21:21.811647Z"
    }
   },
   "outputs": [
    {
     "name": "stderr",
     "output_type": "stream",
     "text": [
      "C:\\Users\\death\\AppData\\Local\\Temp\\ipykernel_11488\\982297392.py:2: SettingWithCopyWarning: \n",
      "A value is trying to be set on a copy of a slice from a DataFrame.\n",
      "Try using .loc[row_indexer,col_indexer] = value instead\n",
      "\n",
      "See the caveats in the documentation: https://pandas.pydata.org/pandas-docs/stable/user_guide/indexing.html#returning-a-view-versus-a-copy\n",
      "  df_scatt['month'] = df_scatt.index.values\n"
     ]
    },
    {
     "data": {
      "text/html": [
       "<div>\n",
       "<style scoped>\n",
       "    .dataframe tbody tr th:only-of-type {\n",
       "        vertical-align: middle;\n",
       "    }\n",
       "\n",
       "    .dataframe tbody tr th {\n",
       "        vertical-align: top;\n",
       "    }\n",
       "\n",
       "    .dataframe thead th {\n",
       "        text-align: right;\n",
       "    }\n",
       "</style>\n",
       "<table border=\"1\" class=\"dataframe\">\n",
       "  <thead>\n",
       "    <tr style=\"text-align: right;\">\n",
       "      <th></th>\n",
       "      <th>Burglary</th>\n",
       "      <th>month</th>\n",
       "    </tr>\n",
       "  </thead>\n",
       "  <tbody>\n",
       "    <tr>\n",
       "      <th>1</th>\n",
       "      <td>251</td>\n",
       "      <td>1</td>\n",
       "    </tr>\n",
       "    <tr>\n",
       "      <th>2</th>\n",
       "      <td>252</td>\n",
       "      <td>2</td>\n",
       "    </tr>\n",
       "    <tr>\n",
       "      <th>3</th>\n",
       "      <td>202</td>\n",
       "      <td>3</td>\n",
       "    </tr>\n",
       "    <tr>\n",
       "      <th>4</th>\n",
       "      <td>177</td>\n",
       "      <td>4</td>\n",
       "    </tr>\n",
       "    <tr>\n",
       "      <th>5</th>\n",
       "      <td>155</td>\n",
       "      <td>5</td>\n",
       "    </tr>\n",
       "    <tr>\n",
       "      <th>6</th>\n",
       "      <td>166</td>\n",
       "      <td>6</td>\n",
       "    </tr>\n",
       "    <tr>\n",
       "      <th>7</th>\n",
       "      <td>147</td>\n",
       "      <td>7</td>\n",
       "    </tr>\n",
       "    <tr>\n",
       "      <th>8</th>\n",
       "      <td>130</td>\n",
       "      <td>8</td>\n",
       "    </tr>\n",
       "    <tr>\n",
       "      <th>9</th>\n",
       "      <td>167</td>\n",
       "      <td>9</td>\n",
       "    </tr>\n",
       "    <tr>\n",
       "      <th>10</th>\n",
       "      <td>168</td>\n",
       "      <td>10</td>\n",
       "    </tr>\n",
       "    <tr>\n",
       "      <th>11</th>\n",
       "      <td>205</td>\n",
       "      <td>11</td>\n",
       "    </tr>\n",
       "    <tr>\n",
       "      <th>12</th>\n",
       "      <td>225</td>\n",
       "      <td>12</td>\n",
       "    </tr>\n",
       "  </tbody>\n",
       "</table>\n",
       "</div>"
      ],
      "text/plain": [
       "    Burglary  month\n",
       "1        251      1\n",
       "2        252      2\n",
       "3        202      3\n",
       "4        177      4\n",
       "5        155      5\n",
       "6        166      6\n",
       "7        147      7\n",
       "8        130      8\n",
       "9        167      9\n",
       "10       168     10\n",
       "11       205     11\n",
       "12       225     12"
      ]
     },
     "execution_count": 25,
     "metadata": {},
     "output_type": "execute_result"
    }
   ],
   "source": [
    "df_scatt = df_redb[['Burglary']]\n",
    "df_scatt['month'] = df_scatt.index.values\n",
    "df_scatt.reset_index()\n",
    "df_scatt"
   ]
  },
  {
   "cell_type": "markdown",
   "id": "892d335e",
   "metadata": {},
   "source": [
    "**Create Visualization**"
   ]
  },
  {
   "cell_type": "code",
   "execution_count": 26,
   "id": "59ae6c95",
   "metadata": {
    "ExecuteTime": {
     "end_time": "2022-09-27T00:21:28.334167Z",
     "start_time": "2022-09-27T00:21:28.166581Z"
    }
   },
   "outputs": [
    {
     "data": {
      "image/png": "[encoded data removed]",
      "text/plain": [
       "<Figure size 864x432 with 1 Axes>"
      ]
     },
     "metadata": {},
     "output_type": "display_data"
    }
   ],
   "source": [
    "df_scatt.plot(kind='scatter',\n",
    "             x='month',\n",
    "             y='Burglary',\n",
    "             figsize=(12, 6)\n",
    "            )\n",
    "\n",
    "plt.title('Scatter Plot of Burglary Crime in Redbridge (2015)')\n",
    "plt.ylabel('Month')\n",
    "plt.xlabel('Value')\n",
    "\n",
    "plt.show()"
   ]
  },
  {
   "cell_type": "markdown",
   "id": "15f4eb42",
   "metadata": {},
   "source": [
    "**Conclusion**\n",
    "```\n",
    "Pada plot di atas jumlah crime Burglary di Redbridge (2015) pada bulan ke-2 sampai ke-5 mengalami penurunan dan ketika bulan ke-6 mengalami kenaikan namun akhirnya jumlahnya turun kembali sampai bulan ke-8. Setelah bulan ke-9 dan seterusnya jumlahnya terus meningkat.\n",
    "```"
   ]
  },
  {
   "cell_type": "markdown",
   "id": "7dc832d5",
   "metadata": {},
   "source": [
    "---\n",
    "# G. Word Clouds"
   ]
  },
  {
   "cell_type": "code",
   "execution_count": 27,
   "id": "ecdb7b5c",
   "metadata": {
    "ExecuteTime": {
     "end_time": "2022-09-27T00:21:33.589866Z",
     "start_time": "2022-09-27T00:21:33.531946Z"
    }
   },
   "outputs": [],
   "source": [
    "from wordcloud import WordCloud"
   ]
  },
  {
   "cell_type": "markdown",
   "id": "fccfe3d5",
   "metadata": {},
   "source": [
    "**Pre-processing**"
   ]
  },
  {
   "cell_type": "code",
   "execution_count": 28,
   "id": "42fc2517",
   "metadata": {
    "ExecuteTime": {
     "end_time": "2022-09-27T00:21:37.341068Z",
     "start_time": "2022-09-27T00:21:37.327107Z"
    }
   },
   "outputs": [
    {
     "data": {
      "text/html": [
       "<div>\n",
       "<style scoped>\n",
       "    .dataframe tbody tr th:only-of-type {\n",
       "        vertical-align: middle;\n",
       "    }\n",
       "\n",
       "    .dataframe tbody tr th {\n",
       "        vertical-align: top;\n",
       "    }\n",
       "\n",
       "    .dataframe thead th {\n",
       "        text-align: right;\n",
       "    }\n",
       "</style>\n",
       "<table border=\"1\" class=\"dataframe\">\n",
       "  <thead>\n",
       "    <tr style=\"text-align: right;\">\n",
       "      <th></th>\n",
       "      <th>total</th>\n",
       "    </tr>\n",
       "  </thead>\n",
       "  <tbody>\n",
       "    <tr>\n",
       "      <th>Violence Against the Person</th>\n",
       "      <td>5893</td>\n",
       "    </tr>\n",
       "    <tr>\n",
       "      <th>Theft and Handling</th>\n",
       "      <td>6806</td>\n",
       "    </tr>\n",
       "    <tr>\n",
       "      <th>Burglary</th>\n",
       "      <td>2245</td>\n",
       "    </tr>\n",
       "    <tr>\n",
       "      <th>Criminal Damage</th>\n",
       "      <td>1627</td>\n",
       "    </tr>\n",
       "    <tr>\n",
       "      <th>Robbery</th>\n",
       "      <td>657</td>\n",
       "    </tr>\n",
       "    <tr>\n",
       "      <th>Drugs</th>\n",
       "      <td>1272</td>\n",
       "    </tr>\n",
       "    <tr>\n",
       "      <th>Other Notifiable Offences</th>\n",
       "      <td>397</td>\n",
       "    </tr>\n",
       "  </tbody>\n",
       "</table>\n",
       "</div>"
      ],
      "text/plain": [
       "                             total\n",
       "Violence Against the Person   5893\n",
       "Theft and Handling            6806\n",
       "Burglary                      2245\n",
       "Criminal Damage               1627\n",
       "Robbery                        657\n",
       "Drugs                         1272\n",
       "Other Notifiable Offences      397"
      ]
     },
     "execution_count": 28,
     "metadata": {},
     "output_type": "execute_result"
    }
   ],
   "source": [
    "df_wordcl = df_pie\n",
    "df_wordcl"
   ]
  },
  {
   "cell_type": "code",
   "execution_count": 29,
   "id": "ec278320",
   "metadata": {
    "ExecuteTime": {
     "end_time": "2022-09-27T00:21:40.104845Z",
     "start_time": "2022-09-27T00:21:40.093839Z"
    }
   },
   "outputs": [
    {
     "data": {
      "text/plain": [
       "array(['Violence Against the Person', 'Theft and Handling', 'Burglary',\n",
       "       'Criminal Damage', 'Robbery', 'Drugs', 'Other Notifiable Offences'],\n",
       "      dtype=object)"
      ]
     },
     "execution_count": 29,
     "metadata": {},
     "output_type": "execute_result"
    }
   ],
   "source": [
    "df_wordcl.index.values"
   ]
  },
  {
   "cell_type": "code",
   "execution_count": 30,
   "id": "3f0fdb1f",
   "metadata": {
    "ExecuteTime": {
     "end_time": "2022-09-27T00:21:45.134927Z",
     "start_time": "2022-09-27T00:21:45.118969Z"
    }
   },
   "outputs": [
    {
     "data": {
      "text/plain": [
       "18897"
      ]
     },
     "execution_count": 30,
     "metadata": {},
     "output_type": "execute_result"
    }
   ],
   "source": [
    "total_crime = df_wordcl['total'].sum()\n",
    "total_crime"
   ]
  },
  {
   "cell_type": "code",
   "execution_count": 31,
   "id": "bd8e3db3",
   "metadata": {
    "ExecuteTime": {
     "end_time": "2022-09-27T00:21:47.588891Z",
     "start_time": "2022-09-27T00:21:47.573932Z"
    }
   },
   "outputs": [
    {
     "data": {
      "text/plain": [
       "'Violence-Against-the-Person Violence-Against-the-Person Violence-Against-the-Person Violence-Against-the-Person Violence-Against-the-Person Violence-Against-the-Person Violence-Against-the-Person Violence-Against-the-Person Violence-Against-the-Person Violence-Against-the-Person Violence-Against-the-Person Violence-Against-the-Person Violence-Against-the-Person Violence-Against-the-Person Violence-Against-the-Person Violence-Against-the-Person Violence-Against-the-Person Violence-Against-the-Person Theft-and-Handling Theft-and-Handling Theft-and-Handling Theft-and-Handling Theft-and-Handling Theft-and-Handling Theft-and-Handling Theft-and-Handling Theft-and-Handling Theft-and-Handling Theft-and-Handling Theft-and-Handling Theft-and-Handling Theft-and-Handling Theft-and-Handling Theft-and-Handling Theft-and-Handling Theft-and-Handling Theft-and-Handling Theft-and-Handling Theft-and-Handling Burglary Burglary Burglary Burglary Burglary Burglary Burglary Criminal-Damage Criminal-Damage Criminal-Damage Criminal-Damage Criminal-Damage Robbery Robbery Drugs Drugs Drugs Drugs Other-Notifiable-Offences '"
      ]
     },
     "execution_count": 31,
     "metadata": {},
     "output_type": "execute_result"
    }
   ],
   "source": [
    "max_words = 60\n",
    "word_string = ''\n",
    "\n",
    "for i in df_wordcl.index.values:\n",
    "    repeat_num_times = int(df_wordcl.loc[i, 'total'] / float(total_crime) * max_words)\n",
    "#     word_string = word_string + ((i.replace(' ', '_') + ' ') * repeat_num_times)\n",
    "    word_string = word_string + ((i.replace(' ', '-') + ' ') * repeat_num_times)\n",
    "\n",
    "word_string"
   ]
  },
  {
   "cell_type": "markdown",
   "id": "1bc855cb",
   "metadata": {},
   "source": [
    "**Create Visualization**"
   ]
  },
  {
   "cell_type": "code",
   "execution_count": 32,
   "id": "3da3d417",
   "metadata": {
    "ExecuteTime": {
     "end_time": "2022-09-27T00:21:53.482272Z",
     "start_time": "2022-09-27T00:21:53.267022Z"
    }
   },
   "outputs": [],
   "source": [
    "wordcloud = WordCloud(background_color='white',\n",
    "                      width=1280,\n",
    "                      height=760,\n",
    "                      max_font_size=200\n",
    "                     ).generate(word_string)"
   ]
  },
  {
   "cell_type": "code",
   "execution_count": 33,
   "id": "b83ede57",
   "metadata": {
    "ExecuteTime": {
     "end_time": "2022-09-27T00:21:56.708877Z",
     "start_time": "2022-09-27T00:21:56.445059Z"
    }
   },
   "outputs": [
    {
     "data": {
      "image/png": "[encoded data removed]",
      "text/plain": [
       "<Figure size 864x576 with 1 Axes>"
      ]
     },
     "metadata": {},
     "output_type": "display_data"
    }
   ],
   "source": [
    "# fig = plt.figure()\n",
    "# fig.set_figwidth(12)\n",
    "# fig.set_figheight(14)\n",
    "\n",
    "plt.figure(figsize=(12, 8))\n",
    "plt.imshow(wordcloud, interpolation='bilinear')\n",
    "plt.axis('off')\n",
    "plt.show()"
   ]
  },
  {
   "cell_type": "markdown",
   "id": "ff54b370",
   "metadata": {},
   "source": [
    "**Conclusion**\n",
    "~~~\n",
    "Berdasarkan word cloud di atas, crime yang sering terjadi diantaranya Handling Theft (Theft and Handling), Person Violence (Violence Against the Person) dan Burglary.\n",
    "~~~"
   ]
  },
  {
   "cell_type": "markdown",
   "id": "66542446",
   "metadata": {},
   "source": [
    "..."
   ]
  },
  {
   "cell_type": "code",
   "execution_count": null,
   "id": "e2ce5f85",
   "metadata": {},
   "outputs": [],
   "source": []
  }
 ],
 "metadata": {
  "colab": {
   "provenance": []
  },
  "kernelspec": {
   "display_name": "Python 3 (ipykernel)",
   "language": "python",
   "name": "python3"
  },
  "language_info": {
   "codemirror_mode": {
    "name": "ipython",
    "version": 3
   },
   "file_extension": ".py",
   "mimetype": "text/x-python",
   "name": "python",
   "nbconvert_exporter": "python",
   "pygments_lexer": "ipython3",
   "version": "3.9.12"
  },
  "toc": {
   "base_numbering": 1,
   "nav_menu": {},
   "number_sections": true,
   "sideBar": true,
   "skip_h1_title": false,
   "title_cell": "Table of Contents",
   "title_sidebar": "Contents",
   "toc_cell": false,
   "toc_position": {},
   "toc_section_display": true,
   "toc_window_display": false
  }
 },
 "nbformat": 4,
 "nbformat_minor": 5
}
