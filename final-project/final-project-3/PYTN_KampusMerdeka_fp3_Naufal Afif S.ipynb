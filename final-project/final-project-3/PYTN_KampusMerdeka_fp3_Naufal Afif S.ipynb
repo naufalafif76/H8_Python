{
 "cells": [
  {
   "cell_type": "markdown",
   "id": "f3060e85",
   "metadata": {},
   "source": [
    "Final Project 3 - Ensemble\n",
    "\n",
    "Anggota Kelompok:\n",
    "* Rizqi Meidianto Kresna M - PYTN-KS09-010\n",
    "* Naufal Afif S - PYTN-KS09-015\n",
    "* Berlian Safri Prakoso - PYTN-KS09-016\n"
   ]
  },
  {
   "cell_type": "markdown",
   "id": "0a66065d",
   "metadata": {},
   "source": [
    "## Latar Belakang"
   ]
  },
  {
   "cell_type": "markdown",
   "id": "2cc840d2",
   "metadata": {},
   "source": [
    "**Dataset**\n",
    "\n",
    "Dataset yang digunakan dalam pembuatan model bersumber dari https://www.kaggle.com/datasets/andrewmvd/heart-failure-clinical-data\n",
    "\n",
    "Dataset ini berisikan 13 feature perilaku dari 299 pasien."
   ]
  },
  {
   "cell_type": "markdown",
   "id": "79b41e43",
   "metadata": {},
   "source": [
    "**Objective yang ingin dicapai**\n",
    "\n",
    "* Melakukan klasifikasi kematian pasien akibat gagal jantung\n",
    "* Mengetahui akurasi yang optimal untuk memprediksi kemungkinan kematian pasien akibat gagal jantung"
   ]
  },
  {
   "cell_type": "markdown",
   "id": "7441595a",
   "metadata": {},
   "source": [
    "## Import Libraries"
   ]
  },
  {
   "cell_type": "code",
   "execution_count": 1,
   "id": "84192ea6",
   "metadata": {
    "ExecuteTime": {
     "end_time": "2022-12-02T00:12:37.582879Z",
     "start_time": "2022-12-02T00:12:35.047787Z"
    }
   },
   "outputs": [],
   "source": [
    "import pandas as pd\n",
    "import numpy as np\n",
    "import seaborn as sns\n",
    "import matplotlib.pyplot as plt\n",
    "%matplotlib inline\n",
    "\n",
    "from sklearn.preprocessing import LabelEncoder\n",
    "from sklearn.preprocessing import normalize, StandardScaler\n",
    "from sklearn.model_selection import train_test_split\n",
    "from sklearn.ensemble import RandomForestClassifier\n",
    "from sklearn.ensemble import GradientBoostingClassifier\n",
    "from sklearn import tree\n",
    "from sklearn.metrics import accuracy_score, confusion_matrix, mean_squared_error\n",
    "\n",
    "import pickle"
   ]
  },
  {
   "cell_type": "markdown",
   "id": "94307fe7",
   "metadata": {},
   "source": [
    "## Data Loading"
   ]
  },
  {
   "cell_type": "code",
   "execution_count": 2,
   "id": "d51a173c",
   "metadata": {
    "ExecuteTime": {
     "end_time": "2022-12-02T00:12:40.141758Z",
     "start_time": "2022-12-02T00:12:40.105878Z"
    }
   },
   "outputs": [
    {
     "data": {
      "text/html": [
       "<div>\n",
       "<style scoped>\n",
       "    .dataframe tbody tr th:only-of-type {\n",
       "        vertical-align: middle;\n",
       "    }\n",
       "\n",
       "    .dataframe tbody tr th {\n",
       "        vertical-align: top;\n",
       "    }\n",
       "\n",
       "    .dataframe thead th {\n",
       "        text-align: right;\n",
       "    }\n",
       "</style>\n",
       "<table border=\"1\" class=\"dataframe\">\n",
       "  <thead>\n",
       "    <tr style=\"text-align: right;\">\n",
       "      <th></th>\n",
       "      <th>age</th>\n",
       "      <th>anaemia</th>\n",
       "      <th>creatinine_phosphokinase</th>\n",
       "      <th>diabetes</th>\n",
       "      <th>ejection_fraction</th>\n",
       "      <th>high_blood_pressure</th>\n",
       "      <th>platelets</th>\n",
       "      <th>serum_creatinine</th>\n",
       "      <th>serum_sodium</th>\n",
       "      <th>sex</th>\n",
       "      <th>smoking</th>\n",
       "      <th>time</th>\n",
       "      <th>DEATH_EVENT</th>\n",
       "    </tr>\n",
       "  </thead>\n",
       "  <tbody>\n",
       "    <tr>\n",
       "      <th>0</th>\n",
       "      <td>75.0</td>\n",
       "      <td>0</td>\n",
       "      <td>582</td>\n",
       "      <td>0</td>\n",
       "      <td>20</td>\n",
       "      <td>1</td>\n",
       "      <td>265000.00</td>\n",
       "      <td>1.9</td>\n",
       "      <td>130</td>\n",
       "      <td>1</td>\n",
       "      <td>0</td>\n",
       "      <td>4</td>\n",
       "      <td>1</td>\n",
       "    </tr>\n",
       "    <tr>\n",
       "      <th>1</th>\n",
       "      <td>55.0</td>\n",
       "      <td>0</td>\n",
       "      <td>7861</td>\n",
       "      <td>0</td>\n",
       "      <td>38</td>\n",
       "      <td>0</td>\n",
       "      <td>263358.03</td>\n",
       "      <td>1.1</td>\n",
       "      <td>136</td>\n",
       "      <td>1</td>\n",
       "      <td>0</td>\n",
       "      <td>6</td>\n",
       "      <td>1</td>\n",
       "    </tr>\n",
       "    <tr>\n",
       "      <th>2</th>\n",
       "      <td>65.0</td>\n",
       "      <td>0</td>\n",
       "      <td>146</td>\n",
       "      <td>0</td>\n",
       "      <td>20</td>\n",
       "      <td>0</td>\n",
       "      <td>162000.00</td>\n",
       "      <td>1.3</td>\n",
       "      <td>129</td>\n",
       "      <td>1</td>\n",
       "      <td>1</td>\n",
       "      <td>7</td>\n",
       "      <td>1</td>\n",
       "    </tr>\n",
       "    <tr>\n",
       "      <th>3</th>\n",
       "      <td>50.0</td>\n",
       "      <td>1</td>\n",
       "      <td>111</td>\n",
       "      <td>0</td>\n",
       "      <td>20</td>\n",
       "      <td>0</td>\n",
       "      <td>210000.00</td>\n",
       "      <td>1.9</td>\n",
       "      <td>137</td>\n",
       "      <td>1</td>\n",
       "      <td>0</td>\n",
       "      <td>7</td>\n",
       "      <td>1</td>\n",
       "    </tr>\n",
       "    <tr>\n",
       "      <th>4</th>\n",
       "      <td>65.0</td>\n",
       "      <td>1</td>\n",
       "      <td>160</td>\n",
       "      <td>1</td>\n",
       "      <td>20</td>\n",
       "      <td>0</td>\n",
       "      <td>327000.00</td>\n",
       "      <td>2.7</td>\n",
       "      <td>116</td>\n",
       "      <td>0</td>\n",
       "      <td>0</td>\n",
       "      <td>8</td>\n",
       "      <td>1</td>\n",
       "    </tr>\n",
       "  </tbody>\n",
       "</table>\n",
       "</div>"
      ],
      "text/plain": [
       "    age  anaemia  creatinine_phosphokinase  diabetes  ejection_fraction  \\\n",
       "0  75.0        0                       582         0                 20   \n",
       "1  55.0        0                      7861         0                 38   \n",
       "2  65.0        0                       146         0                 20   \n",
       "3  50.0        1                       111         0                 20   \n",
       "4  65.0        1                       160         1                 20   \n",
       "\n",
       "   high_blood_pressure  platelets  serum_creatinine  serum_sodium  sex  \\\n",
       "0                    1  265000.00               1.9           130    1   \n",
       "1                    0  263358.03               1.1           136    1   \n",
       "2                    0  162000.00               1.3           129    1   \n",
       "3                    0  210000.00               1.9           137    1   \n",
       "4                    0  327000.00               2.7           116    0   \n",
       "\n",
       "   smoking  time  DEATH_EVENT  \n",
       "0        0     4            1  \n",
       "1        0     6            1  \n",
       "2        1     7            1  \n",
       "3        0     7            1  \n",
       "4        0     8            1  "
      ]
     },
     "execution_count": 2,
     "metadata": {},
     "output_type": "execute_result"
    }
   ],
   "source": [
    "df = pd.read_csv('dataset/heart_failure_clinical_records_dataset.csv')\n",
    "df.head()"
   ]
  },
  {
   "cell_type": "code",
   "execution_count": 3,
   "id": "c688a352",
   "metadata": {
    "ExecuteTime": {
     "end_time": "2022-12-02T00:12:41.493545Z",
     "start_time": "2022-12-02T00:12:41.464591Z"
    }
   },
   "outputs": [
    {
     "name": "stdout",
     "output_type": "stream",
     "text": [
      "<class 'pandas.core.frame.DataFrame'>\n",
      "RangeIndex: 299 entries, 0 to 298\n",
      "Data columns (total 13 columns):\n",
      " #   Column                    Non-Null Count  Dtype  \n",
      "---  ------                    --------------  -----  \n",
      " 0   age                       299 non-null    float64\n",
      " 1   anaemia                   299 non-null    int64  \n",
      " 2   creatinine_phosphokinase  299 non-null    int64  \n",
      " 3   diabetes                  299 non-null    int64  \n",
      " 4   ejection_fraction         299 non-null    int64  \n",
      " 5   high_blood_pressure       299 non-null    int64  \n",
      " 6   platelets                 299 non-null    float64\n",
      " 7   serum_creatinine          299 non-null    float64\n",
      " 8   serum_sodium              299 non-null    int64  \n",
      " 9   sex                       299 non-null    int64  \n",
      " 10  smoking                   299 non-null    int64  \n",
      " 11  time                      299 non-null    int64  \n",
      " 12  DEATH_EVENT               299 non-null    int64  \n",
      "dtypes: float64(3), int64(10)\n",
      "memory usage: 30.5 KB\n"
     ]
    }
   ],
   "source": [
    "df.info()"
   ]
  },
  {
   "cell_type": "markdown",
   "id": "892972f7",
   "metadata": {},
   "source": [
    "Dataset memiliki tipe data float dan int. Selain itu, tidak terdapat missing value disetiap featurenya."
   ]
  },
  {
   "cell_type": "code",
   "execution_count": 4,
   "id": "c0a47b81",
   "metadata": {
    "ExecuteTime": {
     "end_time": "2022-12-02T00:12:42.798543Z",
     "start_time": "2022-12-02T00:12:42.783582Z"
    }
   },
   "outputs": [
    {
     "data": {
      "text/plain": [
       "age                         0\n",
       "anaemia                     0\n",
       "creatinine_phosphokinase    0\n",
       "diabetes                    0\n",
       "ejection_fraction           0\n",
       "high_blood_pressure         0\n",
       "platelets                   0\n",
       "serum_creatinine            0\n",
       "serum_sodium                0\n",
       "sex                         0\n",
       "smoking                     0\n",
       "time                        0\n",
       "DEATH_EVENT                 0\n",
       "dtype: int64"
      ]
     },
     "execution_count": 4,
     "metadata": {},
     "output_type": "execute_result"
    }
   ],
   "source": [
    "df.isnull().sum()"
   ]
  },
  {
   "cell_type": "code",
   "execution_count": 5,
   "id": "08bd38f0",
   "metadata": {
    "ExecuteTime": {
     "end_time": "2022-12-02T00:12:43.394621Z",
     "start_time": "2022-12-02T00:12:43.374675Z"
    }
   },
   "outputs": [
    {
     "data": {
      "text/plain": [
       "Index(['age', 'anaemia', 'creatinine_phosphokinase', 'diabetes',\n",
       "       'ejection_fraction', 'high_blood_pressure', 'platelets',\n",
       "       'serum_creatinine', 'serum_sodium', 'sex', 'smoking', 'time',\n",
       "       'DEATH_EVENT'],\n",
       "      dtype='object')"
      ]
     },
     "execution_count": 5,
     "metadata": {},
     "output_type": "execute_result"
    }
   ],
   "source": [
    "df.columns"
   ]
  },
  {
   "cell_type": "code",
   "execution_count": 6,
   "id": "44a5c2a5",
   "metadata": {
    "ExecuteTime": {
     "end_time": "2022-12-02T00:12:44.224220Z",
     "start_time": "2022-12-02T00:12:44.201768Z"
    }
   },
   "outputs": [
    {
     "name": "stdout",
     "output_type": "stream",
     "text": [
      "age : 47\n",
      "anaemia : 2\n",
      "creatinine_phosphokinase : 208\n",
      "diabetes : 2\n",
      "ejection_fraction : 17\n",
      "high_blood_pressure : 2\n",
      "platelets : 176\n",
      "serum_creatinine : 40\n",
      "serum_sodium : 27\n",
      "sex : 2\n",
      "smoking : 2\n",
      "time : 148\n",
      "DEATH_EVENT : 2\n"
     ]
    }
   ],
   "source": [
    "for col in df.columns:\n",
    "    print(col, ':', df[col].nunique())"
   ]
  },
  {
   "cell_type": "markdown",
   "id": "3069925f",
   "metadata": {
    "ExecuteTime": {
     "end_time": "2022-11-30T04:13:01.518484Z",
     "start_time": "2022-11-30T04:13:01.505654Z"
    }
   },
   "source": [
    "## Data Cleaning"
   ]
  },
  {
   "cell_type": "code",
   "execution_count": 7,
   "id": "d2747a8b",
   "metadata": {
    "ExecuteTime": {
     "end_time": "2022-12-02T00:12:45.579890Z",
     "start_time": "2022-12-02T00:12:45.570914Z"
    }
   },
   "outputs": [],
   "source": [
    "# Mengubah data type pada feature 'age' dan 'platelets'\n",
    "df['age'] = df['age'].astype(int)\n",
    "df['platelets'] = df['platelets'].astype(int)"
   ]
  },
  {
   "cell_type": "code",
   "execution_count": 8,
   "id": "338ad499",
   "metadata": {
    "ExecuteTime": {
     "end_time": "2022-12-02T00:12:46.290289Z",
     "start_time": "2022-12-02T00:12:46.270343Z"
    }
   },
   "outputs": [],
   "source": [
    "# Menghapus feature 'serum_creatinine'\n",
    "df = df.drop(['serum_creatinine'], axis=1, inplace=False)"
   ]
  },
  {
   "cell_type": "code",
   "execution_count": 9,
   "id": "12998f94",
   "metadata": {
    "ExecuteTime": {
     "end_time": "2022-12-02T00:12:46.742221Z",
     "start_time": "2022-12-02T00:12:46.716292Z"
    }
   },
   "outputs": [
    {
     "data": {
      "text/plain": [
       "0"
      ]
     },
     "execution_count": 9,
     "metadata": {},
     "output_type": "execute_result"
    }
   ],
   "source": [
    "df.duplicated().sum()"
   ]
  },
  {
   "cell_type": "markdown",
   "id": "6444065e",
   "metadata": {},
   "source": [
    "## Data Exploration"
   ]
  },
  {
   "cell_type": "code",
   "execution_count": 10,
   "id": "11e3e5c2",
   "metadata": {
    "ExecuteTime": {
     "end_time": "2022-12-02T00:12:48.137877Z",
     "start_time": "2022-12-02T00:12:48.083022Z"
    }
   },
   "outputs": [
    {
     "data": {
      "text/html": [
       "<div>\n",
       "<style scoped>\n",
       "    .dataframe tbody tr th:only-of-type {\n",
       "        vertical-align: middle;\n",
       "    }\n",
       "\n",
       "    .dataframe tbody tr th {\n",
       "        vertical-align: top;\n",
       "    }\n",
       "\n",
       "    .dataframe thead th {\n",
       "        text-align: right;\n",
       "    }\n",
       "</style>\n",
       "<table border=\"1\" class=\"dataframe\">\n",
       "  <thead>\n",
       "    <tr style=\"text-align: right;\">\n",
       "      <th></th>\n",
       "      <th>age</th>\n",
       "      <th>anaemia</th>\n",
       "      <th>creatinine_phosphokinase</th>\n",
       "      <th>diabetes</th>\n",
       "      <th>ejection_fraction</th>\n",
       "      <th>high_blood_pressure</th>\n",
       "      <th>platelets</th>\n",
       "      <th>serum_sodium</th>\n",
       "      <th>sex</th>\n",
       "      <th>smoking</th>\n",
       "      <th>time</th>\n",
       "      <th>DEATH_EVENT</th>\n",
       "    </tr>\n",
       "  </thead>\n",
       "  <tbody>\n",
       "    <tr>\n",
       "      <th>count</th>\n",
       "      <td>299.000000</td>\n",
       "      <td>299.000000</td>\n",
       "      <td>299.000000</td>\n",
       "      <td>299.000000</td>\n",
       "      <td>299.000000</td>\n",
       "      <td>299.000000</td>\n",
       "      <td>299.000000</td>\n",
       "      <td>299.000000</td>\n",
       "      <td>299.000000</td>\n",
       "      <td>299.00000</td>\n",
       "      <td>299.000000</td>\n",
       "      <td>299.00000</td>\n",
       "    </tr>\n",
       "    <tr>\n",
       "      <th>mean</th>\n",
       "      <td>60.829431</td>\n",
       "      <td>0.431438</td>\n",
       "      <td>581.839465</td>\n",
       "      <td>0.418060</td>\n",
       "      <td>38.083612</td>\n",
       "      <td>0.351171</td>\n",
       "      <td>263358.026756</td>\n",
       "      <td>136.625418</td>\n",
       "      <td>0.648829</td>\n",
       "      <td>0.32107</td>\n",
       "      <td>130.260870</td>\n",
       "      <td>0.32107</td>\n",
       "    </tr>\n",
       "    <tr>\n",
       "      <th>std</th>\n",
       "      <td>11.894997</td>\n",
       "      <td>0.496107</td>\n",
       "      <td>970.287881</td>\n",
       "      <td>0.494067</td>\n",
       "      <td>11.834841</td>\n",
       "      <td>0.478136</td>\n",
       "      <td>97804.236869</td>\n",
       "      <td>4.412477</td>\n",
       "      <td>0.478136</td>\n",
       "      <td>0.46767</td>\n",
       "      <td>77.614208</td>\n",
       "      <td>0.46767</td>\n",
       "    </tr>\n",
       "    <tr>\n",
       "      <th>min</th>\n",
       "      <td>40.000000</td>\n",
       "      <td>0.000000</td>\n",
       "      <td>23.000000</td>\n",
       "      <td>0.000000</td>\n",
       "      <td>14.000000</td>\n",
       "      <td>0.000000</td>\n",
       "      <td>25100.000000</td>\n",
       "      <td>113.000000</td>\n",
       "      <td>0.000000</td>\n",
       "      <td>0.00000</td>\n",
       "      <td>4.000000</td>\n",
       "      <td>0.00000</td>\n",
       "    </tr>\n",
       "    <tr>\n",
       "      <th>25%</th>\n",
       "      <td>51.000000</td>\n",
       "      <td>0.000000</td>\n",
       "      <td>116.500000</td>\n",
       "      <td>0.000000</td>\n",
       "      <td>30.000000</td>\n",
       "      <td>0.000000</td>\n",
       "      <td>212500.000000</td>\n",
       "      <td>134.000000</td>\n",
       "      <td>0.000000</td>\n",
       "      <td>0.00000</td>\n",
       "      <td>73.000000</td>\n",
       "      <td>0.00000</td>\n",
       "    </tr>\n",
       "    <tr>\n",
       "      <th>50%</th>\n",
       "      <td>60.000000</td>\n",
       "      <td>0.000000</td>\n",
       "      <td>250.000000</td>\n",
       "      <td>0.000000</td>\n",
       "      <td>38.000000</td>\n",
       "      <td>0.000000</td>\n",
       "      <td>262000.000000</td>\n",
       "      <td>137.000000</td>\n",
       "      <td>1.000000</td>\n",
       "      <td>0.00000</td>\n",
       "      <td>115.000000</td>\n",
       "      <td>0.00000</td>\n",
       "    </tr>\n",
       "    <tr>\n",
       "      <th>75%</th>\n",
       "      <td>70.000000</td>\n",
       "      <td>1.000000</td>\n",
       "      <td>582.000000</td>\n",
       "      <td>1.000000</td>\n",
       "      <td>45.000000</td>\n",
       "      <td>1.000000</td>\n",
       "      <td>303500.000000</td>\n",
       "      <td>140.000000</td>\n",
       "      <td>1.000000</td>\n",
       "      <td>1.00000</td>\n",
       "      <td>203.000000</td>\n",
       "      <td>1.00000</td>\n",
       "    </tr>\n",
       "    <tr>\n",
       "      <th>max</th>\n",
       "      <td>95.000000</td>\n",
       "      <td>1.000000</td>\n",
       "      <td>7861.000000</td>\n",
       "      <td>1.000000</td>\n",
       "      <td>80.000000</td>\n",
       "      <td>1.000000</td>\n",
       "      <td>850000.000000</td>\n",
       "      <td>148.000000</td>\n",
       "      <td>1.000000</td>\n",
       "      <td>1.00000</td>\n",
       "      <td>285.000000</td>\n",
       "      <td>1.00000</td>\n",
       "    </tr>\n",
       "  </tbody>\n",
       "</table>\n",
       "</div>"
      ],
      "text/plain": [
       "              age     anaemia  creatinine_phosphokinase    diabetes  \\\n",
       "count  299.000000  299.000000                299.000000  299.000000   \n",
       "mean    60.829431    0.431438                581.839465    0.418060   \n",
       "std     11.894997    0.496107                970.287881    0.494067   \n",
       "min     40.000000    0.000000                 23.000000    0.000000   \n",
       "25%     51.000000    0.000000                116.500000    0.000000   \n",
       "50%     60.000000    0.000000                250.000000    0.000000   \n",
       "75%     70.000000    1.000000                582.000000    1.000000   \n",
       "max     95.000000    1.000000               7861.000000    1.000000   \n",
       "\n",
       "       ejection_fraction  high_blood_pressure      platelets  serum_sodium  \\\n",
       "count         299.000000           299.000000     299.000000    299.000000   \n",
       "mean           38.083612             0.351171  263358.026756    136.625418   \n",
       "std            11.834841             0.478136   97804.236869      4.412477   \n",
       "min            14.000000             0.000000   25100.000000    113.000000   \n",
       "25%            30.000000             0.000000  212500.000000    134.000000   \n",
       "50%            38.000000             0.000000  262000.000000    137.000000   \n",
       "75%            45.000000             1.000000  303500.000000    140.000000   \n",
       "max            80.000000             1.000000  850000.000000    148.000000   \n",
       "\n",
       "              sex    smoking        time  DEATH_EVENT  \n",
       "count  299.000000  299.00000  299.000000    299.00000  \n",
       "mean     0.648829    0.32107  130.260870      0.32107  \n",
       "std      0.478136    0.46767   77.614208      0.46767  \n",
       "min      0.000000    0.00000    4.000000      0.00000  \n",
       "25%      0.000000    0.00000   73.000000      0.00000  \n",
       "50%      1.000000    0.00000  115.000000      0.00000  \n",
       "75%      1.000000    1.00000  203.000000      1.00000  \n",
       "max      1.000000    1.00000  285.000000      1.00000  "
      ]
     },
     "execution_count": 10,
     "metadata": {},
     "output_type": "execute_result"
    }
   ],
   "source": [
    "df.describe()"
   ]
  },
  {
   "cell_type": "code",
   "execution_count": 11,
   "id": "a6571bda",
   "metadata": {
    "ExecuteTime": {
     "end_time": "2022-12-02T00:12:48.720069Z",
     "start_time": "2022-12-02T00:12:48.684132Z"
    }
   },
   "outputs": [
    {
     "data": {
      "text/html": [
       "<div>\n",
       "<style scoped>\n",
       "    .dataframe tbody tr th:only-of-type {\n",
       "        vertical-align: middle;\n",
       "    }\n",
       "\n",
       "    .dataframe tbody tr th {\n",
       "        vertical-align: top;\n",
       "    }\n",
       "\n",
       "    .dataframe thead th {\n",
       "        text-align: right;\n",
       "    }\n",
       "</style>\n",
       "<table border=\"1\" class=\"dataframe\">\n",
       "  <thead>\n",
       "    <tr style=\"text-align: right;\">\n",
       "      <th></th>\n",
       "      <th>age</th>\n",
       "      <th>anaemia</th>\n",
       "      <th>creatinine_phosphokinase</th>\n",
       "      <th>diabetes</th>\n",
       "      <th>ejection_fraction</th>\n",
       "      <th>high_blood_pressure</th>\n",
       "      <th>platelets</th>\n",
       "      <th>serum_sodium</th>\n",
       "      <th>sex</th>\n",
       "      <th>smoking</th>\n",
       "      <th>time</th>\n",
       "      <th>DEATH_EVENT</th>\n",
       "    </tr>\n",
       "  </thead>\n",
       "  <tbody>\n",
       "    <tr>\n",
       "      <th>age</th>\n",
       "      <td>1.000000</td>\n",
       "      <td>0.087574</td>\n",
       "      <td>-0.081406</td>\n",
       "      <td>-0.101454</td>\n",
       "      <td>0.060195</td>\n",
       "      <td>0.093170</td>\n",
       "      <td>-0.052475</td>\n",
       "      <td>-0.045912</td>\n",
       "      <td>0.065546</td>\n",
       "      <td>0.018926</td>\n",
       "      <td>-0.224265</td>\n",
       "      <td>0.253581</td>\n",
       "    </tr>\n",
       "    <tr>\n",
       "      <th>anaemia</th>\n",
       "      <td>0.087574</td>\n",
       "      <td>1.000000</td>\n",
       "      <td>-0.190741</td>\n",
       "      <td>-0.012729</td>\n",
       "      <td>0.031557</td>\n",
       "      <td>0.038182</td>\n",
       "      <td>-0.043786</td>\n",
       "      <td>0.041882</td>\n",
       "      <td>-0.094769</td>\n",
       "      <td>-0.107290</td>\n",
       "      <td>-0.141414</td>\n",
       "      <td>0.066270</td>\n",
       "    </tr>\n",
       "    <tr>\n",
       "      <th>creatinine_phosphokinase</th>\n",
       "      <td>-0.081406</td>\n",
       "      <td>-0.190741</td>\n",
       "      <td>1.000000</td>\n",
       "      <td>-0.009639</td>\n",
       "      <td>-0.044080</td>\n",
       "      <td>-0.070590</td>\n",
       "      <td>0.024463</td>\n",
       "      <td>0.059550</td>\n",
       "      <td>0.079791</td>\n",
       "      <td>0.002421</td>\n",
       "      <td>-0.009346</td>\n",
       "      <td>0.062728</td>\n",
       "    </tr>\n",
       "    <tr>\n",
       "      <th>diabetes</th>\n",
       "      <td>-0.101454</td>\n",
       "      <td>-0.012729</td>\n",
       "      <td>-0.009639</td>\n",
       "      <td>1.000000</td>\n",
       "      <td>-0.004850</td>\n",
       "      <td>-0.012732</td>\n",
       "      <td>0.092193</td>\n",
       "      <td>-0.089551</td>\n",
       "      <td>-0.157730</td>\n",
       "      <td>-0.147173</td>\n",
       "      <td>0.033726</td>\n",
       "      <td>-0.001943</td>\n",
       "    </tr>\n",
       "    <tr>\n",
       "      <th>ejection_fraction</th>\n",
       "      <td>0.060195</td>\n",
       "      <td>0.031557</td>\n",
       "      <td>-0.044080</td>\n",
       "      <td>-0.004850</td>\n",
       "      <td>1.000000</td>\n",
       "      <td>0.024445</td>\n",
       "      <td>0.072177</td>\n",
       "      <td>0.175902</td>\n",
       "      <td>-0.148386</td>\n",
       "      <td>-0.067315</td>\n",
       "      <td>0.041729</td>\n",
       "      <td>-0.268603</td>\n",
       "    </tr>\n",
       "    <tr>\n",
       "      <th>high_blood_pressure</th>\n",
       "      <td>0.093170</td>\n",
       "      <td>0.038182</td>\n",
       "      <td>-0.070590</td>\n",
       "      <td>-0.012732</td>\n",
       "      <td>0.024445</td>\n",
       "      <td>1.000000</td>\n",
       "      <td>0.049963</td>\n",
       "      <td>0.037109</td>\n",
       "      <td>-0.104615</td>\n",
       "      <td>-0.055711</td>\n",
       "      <td>-0.196439</td>\n",
       "      <td>0.079351</td>\n",
       "    </tr>\n",
       "    <tr>\n",
       "      <th>platelets</th>\n",
       "      <td>-0.052475</td>\n",
       "      <td>-0.043786</td>\n",
       "      <td>0.024463</td>\n",
       "      <td>0.092193</td>\n",
       "      <td>0.072177</td>\n",
       "      <td>0.049963</td>\n",
       "      <td>1.000000</td>\n",
       "      <td>0.062125</td>\n",
       "      <td>-0.125120</td>\n",
       "      <td>0.028234</td>\n",
       "      <td>0.010514</td>\n",
       "      <td>-0.049139</td>\n",
       "    </tr>\n",
       "    <tr>\n",
       "      <th>serum_sodium</th>\n",
       "      <td>-0.045912</td>\n",
       "      <td>0.041882</td>\n",
       "      <td>0.059550</td>\n",
       "      <td>-0.089551</td>\n",
       "      <td>0.175902</td>\n",
       "      <td>0.037109</td>\n",
       "      <td>0.062125</td>\n",
       "      <td>1.000000</td>\n",
       "      <td>-0.027566</td>\n",
       "      <td>0.004813</td>\n",
       "      <td>0.087640</td>\n",
       "      <td>-0.195204</td>\n",
       "    </tr>\n",
       "    <tr>\n",
       "      <th>sex</th>\n",
       "      <td>0.065546</td>\n",
       "      <td>-0.094769</td>\n",
       "      <td>0.079791</td>\n",
       "      <td>-0.157730</td>\n",
       "      <td>-0.148386</td>\n",
       "      <td>-0.104615</td>\n",
       "      <td>-0.125120</td>\n",
       "      <td>-0.027566</td>\n",
       "      <td>1.000000</td>\n",
       "      <td>0.445892</td>\n",
       "      <td>-0.015608</td>\n",
       "      <td>-0.004316</td>\n",
       "    </tr>\n",
       "    <tr>\n",
       "      <th>smoking</th>\n",
       "      <td>0.018926</td>\n",
       "      <td>-0.107290</td>\n",
       "      <td>0.002421</td>\n",
       "      <td>-0.147173</td>\n",
       "      <td>-0.067315</td>\n",
       "      <td>-0.055711</td>\n",
       "      <td>0.028234</td>\n",
       "      <td>0.004813</td>\n",
       "      <td>0.445892</td>\n",
       "      <td>1.000000</td>\n",
       "      <td>-0.022839</td>\n",
       "      <td>-0.012623</td>\n",
       "    </tr>\n",
       "    <tr>\n",
       "      <th>time</th>\n",
       "      <td>-0.224265</td>\n",
       "      <td>-0.141414</td>\n",
       "      <td>-0.009346</td>\n",
       "      <td>0.033726</td>\n",
       "      <td>0.041729</td>\n",
       "      <td>-0.196439</td>\n",
       "      <td>0.010514</td>\n",
       "      <td>0.087640</td>\n",
       "      <td>-0.015608</td>\n",
       "      <td>-0.022839</td>\n",
       "      <td>1.000000</td>\n",
       "      <td>-0.526964</td>\n",
       "    </tr>\n",
       "    <tr>\n",
       "      <th>DEATH_EVENT</th>\n",
       "      <td>0.253581</td>\n",
       "      <td>0.066270</td>\n",
       "      <td>0.062728</td>\n",
       "      <td>-0.001943</td>\n",
       "      <td>-0.268603</td>\n",
       "      <td>0.079351</td>\n",
       "      <td>-0.049139</td>\n",
       "      <td>-0.195204</td>\n",
       "      <td>-0.004316</td>\n",
       "      <td>-0.012623</td>\n",
       "      <td>-0.526964</td>\n",
       "      <td>1.000000</td>\n",
       "    </tr>\n",
       "  </tbody>\n",
       "</table>\n",
       "</div>"
      ],
      "text/plain": [
       "                               age   anaemia  creatinine_phosphokinase  \\\n",
       "age                       1.000000  0.087574                 -0.081406   \n",
       "anaemia                   0.087574  1.000000                 -0.190741   \n",
       "creatinine_phosphokinase -0.081406 -0.190741                  1.000000   \n",
       "diabetes                 -0.101454 -0.012729                 -0.009639   \n",
       "ejection_fraction         0.060195  0.031557                 -0.044080   \n",
       "high_blood_pressure       0.093170  0.038182                 -0.070590   \n",
       "platelets                -0.052475 -0.043786                  0.024463   \n",
       "serum_sodium             -0.045912  0.041882                  0.059550   \n",
       "sex                       0.065546 -0.094769                  0.079791   \n",
       "smoking                   0.018926 -0.107290                  0.002421   \n",
       "time                     -0.224265 -0.141414                 -0.009346   \n",
       "DEATH_EVENT               0.253581  0.066270                  0.062728   \n",
       "\n",
       "                          diabetes  ejection_fraction  high_blood_pressure  \\\n",
       "age                      -0.101454           0.060195             0.093170   \n",
       "anaemia                  -0.012729           0.031557             0.038182   \n",
       "creatinine_phosphokinase -0.009639          -0.044080            -0.070590   \n",
       "diabetes                  1.000000          -0.004850            -0.012732   \n",
       "ejection_fraction        -0.004850           1.000000             0.024445   \n",
       "high_blood_pressure      -0.012732           0.024445             1.000000   \n",
       "platelets                 0.092193           0.072177             0.049963   \n",
       "serum_sodium             -0.089551           0.175902             0.037109   \n",
       "sex                      -0.157730          -0.148386            -0.104615   \n",
       "smoking                  -0.147173          -0.067315            -0.055711   \n",
       "time                      0.033726           0.041729            -0.196439   \n",
       "DEATH_EVENT              -0.001943          -0.268603             0.079351   \n",
       "\n",
       "                          platelets  serum_sodium       sex   smoking  \\\n",
       "age                       -0.052475     -0.045912  0.065546  0.018926   \n",
       "anaemia                   -0.043786      0.041882 -0.094769 -0.107290   \n",
       "creatinine_phosphokinase   0.024463      0.059550  0.079791  0.002421   \n",
       "diabetes                   0.092193     -0.089551 -0.157730 -0.147173   \n",
       "ejection_fraction          0.072177      0.175902 -0.148386 -0.067315   \n",
       "high_blood_pressure        0.049963      0.037109 -0.104615 -0.055711   \n",
       "platelets                  1.000000      0.062125 -0.125120  0.028234   \n",
       "serum_sodium               0.062125      1.000000 -0.027566  0.004813   \n",
       "sex                       -0.125120     -0.027566  1.000000  0.445892   \n",
       "smoking                    0.028234      0.004813  0.445892  1.000000   \n",
       "time                       0.010514      0.087640 -0.015608 -0.022839   \n",
       "DEATH_EVENT               -0.049139     -0.195204 -0.004316 -0.012623   \n",
       "\n",
       "                              time  DEATH_EVENT  \n",
       "age                      -0.224265     0.253581  \n",
       "anaemia                  -0.141414     0.066270  \n",
       "creatinine_phosphokinase -0.009346     0.062728  \n",
       "diabetes                  0.033726    -0.001943  \n",
       "ejection_fraction         0.041729    -0.268603  \n",
       "high_blood_pressure      -0.196439     0.079351  \n",
       "platelets                 0.010514    -0.049139  \n",
       "serum_sodium              0.087640    -0.195204  \n",
       "sex                      -0.015608    -0.004316  \n",
       "smoking                  -0.022839    -0.012623  \n",
       "time                      1.000000    -0.526964  \n",
       "DEATH_EVENT              -0.526964     1.000000  "
      ]
     },
     "execution_count": 11,
     "metadata": {},
     "output_type": "execute_result"
    }
   ],
   "source": [
    "df.corr()"
   ]
  },
  {
   "cell_type": "code",
   "execution_count": 12,
   "id": "d645efdc",
   "metadata": {
    "ExecuteTime": {
     "end_time": "2022-12-02T00:12:53.002164Z",
     "start_time": "2022-12-02T00:12:51.378273Z"
    }
   },
   "outputs": [
    {
     "data": {
      "image/png": "[encoded data removed]",
      "text/plain": [
       "<Figure size 1440x1296 with 12 Axes>"
      ]
     },
     "metadata": {
      "needs_background": "light"
     },
     "output_type": "display_data"
    }
   ],
   "source": [
    "df.hist(bins=10, figsize=(20, 18))\n",
    "plt.show()"
   ]
  },
  {
   "cell_type": "markdown",
   "id": "04957dd5",
   "metadata": {},
   "source": [
    "## Data Preprocessing"
   ]
  },
  {
   "cell_type": "code",
   "execution_count": 13,
   "id": "85968e7d",
   "metadata": {
    "ExecuteTime": {
     "end_time": "2022-12-02T00:12:55.291678Z",
     "start_time": "2022-12-02T00:12:55.285691Z"
    }
   },
   "outputs": [],
   "source": [
    "# Memisahkan feature independent dan dependent\n",
    "X = df.drop(['DEATH_EVENT'], axis=1)\n",
    "y = df['DEATH_EVENT']"
   ]
  },
  {
   "cell_type": "markdown",
   "id": "d911bd44",
   "metadata": {
    "ExecuteTime": {
     "end_time": "2022-11-30T04:19:49.711465Z",
     "start_time": "2022-11-30T04:19:49.700528Z"
    }
   },
   "source": [
    "**Data Scaling**"
   ]
  },
  {
   "cell_type": "code",
   "execution_count": 14,
   "id": "938f02d9",
   "metadata": {
    "ExecuteTime": {
     "end_time": "2022-12-02T00:12:56.077551Z",
     "start_time": "2022-12-02T00:12:56.065585Z"
    }
   },
   "outputs": [],
   "source": [
    "# Melakukan penskalaan data\n",
    "sclr = StandardScaler()\n",
    "sclr_X = sclr.fit_transform(X)"
   ]
  },
  {
   "cell_type": "code",
   "execution_count": 15,
   "id": "cdf86b5e",
   "metadata": {
    "ExecuteTime": {
     "end_time": "2022-12-02T00:12:57.112372Z",
     "start_time": "2022-12-02T00:12:57.089467Z"
    }
   },
   "outputs": [
    {
     "data": {
      "text/html": [
       "<div>\n",
       "<style scoped>\n",
       "    .dataframe tbody tr th:only-of-type {\n",
       "        vertical-align: middle;\n",
       "    }\n",
       "\n",
       "    .dataframe tbody tr th {\n",
       "        vertical-align: top;\n",
       "    }\n",
       "\n",
       "    .dataframe thead th {\n",
       "        text-align: right;\n",
       "    }\n",
       "</style>\n",
       "<table border=\"1\" class=\"dataframe\">\n",
       "  <thead>\n",
       "    <tr style=\"text-align: right;\">\n",
       "      <th></th>\n",
       "      <th>age</th>\n",
       "      <th>anaemia</th>\n",
       "      <th>creatinine_phosphokinase</th>\n",
       "      <th>diabetes</th>\n",
       "      <th>ejection_fraction</th>\n",
       "      <th>high_blood_pressure</th>\n",
       "      <th>platelets</th>\n",
       "      <th>serum_sodium</th>\n",
       "      <th>sex</th>\n",
       "      <th>smoking</th>\n",
       "      <th>time</th>\n",
       "    </tr>\n",
       "  </thead>\n",
       "  <tbody>\n",
       "    <tr>\n",
       "      <th>0</th>\n",
       "      <td>1.193302</td>\n",
       "      <td>-0.871105</td>\n",
       "      <td>0.000166</td>\n",
       "      <td>-0.847579</td>\n",
       "      <td>-1.530560</td>\n",
       "      <td>1.359272</td>\n",
       "      <td>1.681651e-02</td>\n",
       "      <td>-1.504036</td>\n",
       "      <td>0.735688</td>\n",
       "      <td>-0.687682</td>\n",
       "      <td>-1.629502</td>\n",
       "    </tr>\n",
       "    <tr>\n",
       "      <th>1</th>\n",
       "      <td>-0.490896</td>\n",
       "      <td>-0.871105</td>\n",
       "      <td>7.514640</td>\n",
       "      <td>-0.847579</td>\n",
       "      <td>-0.007077</td>\n",
       "      <td>-0.735688</td>\n",
       "      <td>-2.740240e-07</td>\n",
       "      <td>-0.141976</td>\n",
       "      <td>0.735688</td>\n",
       "      <td>-0.687682</td>\n",
       "      <td>-1.603691</td>\n",
       "    </tr>\n",
       "    <tr>\n",
       "      <th>2</th>\n",
       "      <td>0.351203</td>\n",
       "      <td>-0.871105</td>\n",
       "      <td>-0.449939</td>\n",
       "      <td>-0.847579</td>\n",
       "      <td>-1.530560</td>\n",
       "      <td>-0.735688</td>\n",
       "      <td>-1.038073e+00</td>\n",
       "      <td>-1.731046</td>\n",
       "      <td>0.735688</td>\n",
       "      <td>1.454161</td>\n",
       "      <td>-1.590785</td>\n",
       "    </tr>\n",
       "    <tr>\n",
       "      <th>3</th>\n",
       "      <td>-0.911945</td>\n",
       "      <td>1.147968</td>\n",
       "      <td>-0.486071</td>\n",
       "      <td>-0.847579</td>\n",
       "      <td>-1.530560</td>\n",
       "      <td>-0.735688</td>\n",
       "      <td>-5.464741e-01</td>\n",
       "      <td>0.085034</td>\n",
       "      <td>0.735688</td>\n",
       "      <td>-0.687682</td>\n",
       "      <td>-1.590785</td>\n",
       "    </tr>\n",
       "    <tr>\n",
       "      <th>4</th>\n",
       "      <td>0.351203</td>\n",
       "      <td>1.147968</td>\n",
       "      <td>-0.435486</td>\n",
       "      <td>1.179830</td>\n",
       "      <td>-1.530560</td>\n",
       "      <td>-0.735688</td>\n",
       "      <td>6.517986e-01</td>\n",
       "      <td>-4.682176</td>\n",
       "      <td>-1.359272</td>\n",
       "      <td>-0.687682</td>\n",
       "      <td>-1.577879</td>\n",
       "    </tr>\n",
       "  </tbody>\n",
       "</table>\n",
       "</div>"
      ],
      "text/plain": [
       "        age   anaemia  creatinine_phosphokinase  diabetes  ejection_fraction  \\\n",
       "0  1.193302 -0.871105                  0.000166 -0.847579          -1.530560   \n",
       "1 -0.490896 -0.871105                  7.514640 -0.847579          -0.007077   \n",
       "2  0.351203 -0.871105                 -0.449939 -0.847579          -1.530560   \n",
       "3 -0.911945  1.147968                 -0.486071 -0.847579          -1.530560   \n",
       "4  0.351203  1.147968                 -0.435486  1.179830          -1.530560   \n",
       "\n",
       "   high_blood_pressure     platelets  serum_sodium       sex   smoking  \\\n",
       "0             1.359272  1.681651e-02     -1.504036  0.735688 -0.687682   \n",
       "1            -0.735688 -2.740240e-07     -0.141976  0.735688 -0.687682   \n",
       "2            -0.735688 -1.038073e+00     -1.731046  0.735688  1.454161   \n",
       "3            -0.735688 -5.464741e-01      0.085034  0.735688 -0.687682   \n",
       "4            -0.735688  6.517986e-01     -4.682176 -1.359272 -0.687682   \n",
       "\n",
       "       time  \n",
       "0 -1.629502  \n",
       "1 -1.603691  \n",
       "2 -1.590785  \n",
       "3 -1.590785  \n",
       "4 -1.577879  "
      ]
     },
     "execution_count": 15,
     "metadata": {},
     "output_type": "execute_result"
    }
   ],
   "source": [
    "feat_cols = ['age', 'anaemia', 'creatinine_phosphokinase', 'diabetes', 'ejection_fraction', 'high_blood_pressure', 'platelets', 'serum_sodium', 'sex', 'smoking', 'time']\n",
    "X = pd.DataFrame(sclr_X, columns=feat_cols)\n",
    "X.head()"
   ]
  },
  {
   "cell_type": "markdown",
   "id": "d674ee83",
   "metadata": {},
   "source": [
    "**Data Split**"
   ]
  },
  {
   "cell_type": "code",
   "execution_count": 16,
   "id": "0efab71f",
   "metadata": {
    "ExecuteTime": {
     "end_time": "2022-12-02T00:12:59.077292Z",
     "start_time": "2022-12-02T00:12:59.056350Z"
    }
   },
   "outputs": [],
   "source": [
    "# Memisahkan data train dan test\n",
    "X_train, X_test, y_train, y_test = train_test_split(X, y, test_size=0.2, random_state=0)"
   ]
  },
  {
   "cell_type": "markdown",
   "id": "9abd8f45",
   "metadata": {},
   "source": [
    "## Model Defining"
   ]
  },
  {
   "cell_type": "markdown",
   "id": "512e762a",
   "metadata": {},
   "source": [
    "**Random Forest**"
   ]
  },
  {
   "cell_type": "code",
   "execution_count": 17,
   "id": "759aa7d8",
   "metadata": {
    "ExecuteTime": {
     "end_time": "2022-12-02T00:13:01.117208Z",
     "start_time": "2022-12-02T00:13:01.107202Z"
    }
   },
   "outputs": [],
   "source": [
    "# Menggunakan criterion='entropy' dan n_estimators=80\n",
    "modelRF = RandomForestClassifier(criterion='entropy', n_estimators=80)"
   ]
  },
  {
   "cell_type": "markdown",
   "id": "8ba4345a",
   "metadata": {},
   "source": [
    "**Boosting**"
   ]
  },
  {
   "cell_type": "code",
   "execution_count": 18,
   "id": "f36664fe",
   "metadata": {
    "ExecuteTime": {
     "end_time": "2022-12-02T00:13:02.427074Z",
     "start_time": "2022-12-02T00:13:02.408089Z"
    }
   },
   "outputs": [],
   "source": [
    "# Menggunakan n_estimators=80\n",
    "modelB = GradientBoostingClassifier(n_estimators=80)"
   ]
  },
  {
   "cell_type": "markdown",
   "id": "77645eb2",
   "metadata": {},
   "source": [
    "## Model Training"
   ]
  },
  {
   "cell_type": "markdown",
   "id": "4aec31a9",
   "metadata": {},
   "source": [
    "**Random Forest**"
   ]
  },
  {
   "cell_type": "code",
   "execution_count": 19,
   "id": "7eeb0b1a",
   "metadata": {
    "ExecuteTime": {
     "end_time": "2022-12-02T00:13:03.724558Z",
     "start_time": "2022-12-02T00:13:03.592731Z"
    },
    "scrolled": false
   },
   "outputs": [
    {
     "data": {
      "text/plain": [
       "RandomForestClassifier(criterion='entropy', n_estimators=80)"
      ]
     },
     "execution_count": 19,
     "metadata": {},
     "output_type": "execute_result"
    }
   ],
   "source": [
    "modelRF.fit(X_train, y_train)"
   ]
  },
  {
   "cell_type": "markdown",
   "id": "c21d3a7f",
   "metadata": {},
   "source": [
    "**Boosting**"
   ]
  },
  {
   "cell_type": "code",
   "execution_count": 20,
   "id": "7fef7ca8",
   "metadata": {
    "ExecuteTime": {
     "end_time": "2022-12-02T00:13:05.497875Z",
     "start_time": "2022-12-02T00:13:05.401438Z"
    },
    "scrolled": false
   },
   "outputs": [
    {
     "data": {
      "text/plain": [
       "GradientBoostingClassifier(n_estimators=80)"
      ]
     },
     "execution_count": 20,
     "metadata": {},
     "output_type": "execute_result"
    }
   ],
   "source": [
    "modelB.fit(X_train, y_train)"
   ]
  },
  {
   "cell_type": "markdown",
   "id": "e0e5cac8",
   "metadata": {},
   "source": [
    "## Model Testing"
   ]
  },
  {
   "cell_type": "markdown",
   "id": "3945abff",
   "metadata": {},
   "source": [
    "Melakukan test pada model dan melihat tingkat error dari hasil prediksi model"
   ]
  },
  {
   "cell_type": "markdown",
   "id": "5f696481",
   "metadata": {},
   "source": [
    "**Random Forest**"
   ]
  },
  {
   "cell_type": "code",
   "execution_count": 21,
   "id": "26e3d661",
   "metadata": {
    "ExecuteTime": {
     "end_time": "2022-12-02T00:13:08.432443Z",
     "start_time": "2022-12-02T00:13:08.402487Z"
    }
   },
   "outputs": [
    {
     "name": "stdout",
     "output_type": "stream",
     "text": [
      "[[35  2]\n",
      " [ 9 14]]\n"
     ]
    }
   ],
   "source": [
    "predRF = modelRF.predict(X_test)\n",
    "accurRF = accuracy_score(y_test, predRF)\n",
    "mseRF = mean_squared_error(predRF, y_test)\n",
    "rmseRF = np.sqrt(mean_squared_error(predRF, y_test))\n",
    "matrixRF = confusion_matrix(y_test, predRF)\n",
    "\n",
    "print(matrixRF)"
   ]
  },
  {
   "cell_type": "markdown",
   "id": "9651112e",
   "metadata": {},
   "source": [
    "**Boosting**"
   ]
  },
  {
   "cell_type": "code",
   "execution_count": 22,
   "id": "a76f8989",
   "metadata": {
    "ExecuteTime": {
     "end_time": "2022-12-02T00:13:12.473871Z",
     "start_time": "2022-12-02T00:13:12.456916Z"
    }
   },
   "outputs": [
    {
     "name": "stdout",
     "output_type": "stream",
     "text": [
      "[[33  4]\n",
      " [ 6 17]]\n"
     ]
    }
   ],
   "source": [
    "predB = modelB.predict(X_test)\n",
    "accurB = accuracy_score(y_test, predB)\n",
    "mseB = mean_squared_error(predB, y_test)\n",
    "rmseB = np.sqrt(mean_squared_error(predB, y_test))\n",
    "matrixB = confusion_matrix(y_test, predB)\n",
    "\n",
    "print(matrixB)"
   ]
  },
  {
   "cell_type": "markdown",
   "id": "e65de0ab",
   "metadata": {},
   "source": [
    "**Visualization**"
   ]
  },
  {
   "cell_type": "code",
   "execution_count": 23,
   "id": "68e3e337",
   "metadata": {
    "ExecuteTime": {
     "end_time": "2022-12-02T00:13:19.383658Z",
     "start_time": "2022-12-02T00:13:15.038013Z"
    },
    "scrolled": false
   },
   "outputs": [
    {
     "data": {
      "image/png": "[encoded data removed]",
      "text/plain": [
       "<Figure size 1440x1296 with 1 Axes>"
      ]
     },
     "metadata": {
      "needs_background": "light"
     },
     "output_type": "display_data"
    }
   ],
   "source": [
    "plt.figure(figsize=(20, 18))\n",
    "# estimators ke-8\n",
    "for i in range(int(len(modelRF.estimators_) / 10)):\n",
    "    tree.plot_tree(modelRF.estimators_[i], filled=True)"
   ]
  },
  {
   "cell_type": "markdown",
   "id": "82955838",
   "metadata": {},
   "source": [
    "**Comparison**"
   ]
  },
  {
   "cell_type": "markdown",
   "id": "1fd9aa26",
   "metadata": {},
   "source": [
    "Membandingkan akurasi dan tingkat error model"
   ]
  },
  {
   "cell_type": "code",
   "execution_count": 24,
   "id": "4b6f9587",
   "metadata": {
    "ExecuteTime": {
     "end_time": "2022-12-02T00:13:24.960294Z",
     "start_time": "2022-12-02T00:13:24.933230Z"
    }
   },
   "outputs": [
    {
     "data": {
      "text/html": [
       "<div>\n",
       "<style scoped>\n",
       "    .dataframe tbody tr th:only-of-type {\n",
       "        vertical-align: middle;\n",
       "    }\n",
       "\n",
       "    .dataframe tbody tr th {\n",
       "        vertical-align: top;\n",
       "    }\n",
       "\n",
       "    .dataframe thead th {\n",
       "        text-align: right;\n",
       "    }\n",
       "</style>\n",
       "<table border=\"1\" class=\"dataframe\">\n",
       "  <thead>\n",
       "    <tr style=\"text-align: right;\">\n",
       "      <th></th>\n",
       "      <th>Random Forest</th>\n",
       "      <th>Boosting</th>\n",
       "    </tr>\n",
       "  </thead>\n",
       "  <tbody>\n",
       "    <tr>\n",
       "      <th>Accuracy Score</th>\n",
       "      <td>0.816667</td>\n",
       "      <td>0.833333</td>\n",
       "    </tr>\n",
       "    <tr>\n",
       "      <th>MSE Score</th>\n",
       "      <td>0.183333</td>\n",
       "      <td>0.166667</td>\n",
       "    </tr>\n",
       "    <tr>\n",
       "      <th>RMSE Score</th>\n",
       "      <td>0.428174</td>\n",
       "      <td>0.408248</td>\n",
       "    </tr>\n",
       "  </tbody>\n",
       "</table>\n",
       "</div>"
      ],
      "text/plain": [
       "                Random Forest  Boosting\n",
       "Accuracy Score       0.816667  0.833333\n",
       "MSE Score            0.183333  0.166667\n",
       "RMSE Score           0.428174  0.408248"
      ]
     },
     "execution_count": 24,
     "metadata": {},
     "output_type": "execute_result"
    }
   ],
   "source": [
    "modelSlc = pd.DataFrame(data={'Random Forest': [accurRF, mseRF, rmseRF],\n",
    "                              'Boosting': [accurB, mseB, rmseB]},\n",
    "                       index=['Accuracy Score', 'MSE Score', 'RMSE Score'])\n",
    "modelSlc"
   ]
  },
  {
   "cell_type": "markdown",
   "id": "c50c0d0d",
   "metadata": {},
   "source": [
    "## Model Inference"
   ]
  },
  {
   "cell_type": "code",
   "execution_count": 25,
   "id": "6c56c6de",
   "metadata": {
    "ExecuteTime": {
     "end_time": "2022-12-02T00:13:28.511878Z",
     "start_time": "2022-12-02T00:13:28.489935Z"
    }
   },
   "outputs": [
    {
     "data": {
      "text/html": [
       "<div>\n",
       "<style scoped>\n",
       "    .dataframe tbody tr th:only-of-type {\n",
       "        vertical-align: middle;\n",
       "    }\n",
       "\n",
       "    .dataframe tbody tr th {\n",
       "        vertical-align: top;\n",
       "    }\n",
       "\n",
       "    .dataframe thead th {\n",
       "        text-align: right;\n",
       "    }\n",
       "</style>\n",
       "<table border=\"1\" class=\"dataframe\">\n",
       "  <thead>\n",
       "    <tr style=\"text-align: right;\">\n",
       "      <th></th>\n",
       "      <th>age</th>\n",
       "      <th>anaemia</th>\n",
       "      <th>creatinine_phosphokinase</th>\n",
       "      <th>diabetes</th>\n",
       "      <th>ejection_fraction</th>\n",
       "      <th>high_blood_pressure</th>\n",
       "      <th>platelets</th>\n",
       "      <th>serum_sodium</th>\n",
       "      <th>sex</th>\n",
       "      <th>smoking</th>\n",
       "      <th>time</th>\n",
       "    </tr>\n",
       "  </thead>\n",
       "  <tbody>\n",
       "    <tr>\n",
       "      <th>0</th>\n",
       "      <td>65</td>\n",
       "      <td>1</td>\n",
       "      <td>76</td>\n",
       "      <td>0</td>\n",
       "      <td>25</td>\n",
       "      <td>0</td>\n",
       "      <td>276000</td>\n",
       "      <td>137</td>\n",
       "      <td>0</td>\n",
       "      <td>0</td>\n",
       "      <td>16</td>\n",
       "    </tr>\n",
       "    <tr>\n",
       "      <th>1</th>\n",
       "      <td>75</td>\n",
       "      <td>1</td>\n",
       "      <td>146</td>\n",
       "      <td>1</td>\n",
       "      <td>20</td>\n",
       "      <td>1</td>\n",
       "      <td>327000</td>\n",
       "      <td>129</td>\n",
       "      <td>1</td>\n",
       "      <td>0</td>\n",
       "      <td>20</td>\n",
       "    </tr>\n",
       "  </tbody>\n",
       "</table>\n",
       "</div>"
      ],
      "text/plain": [
       "   age  anaemia  creatinine_phosphokinase  diabetes  ejection_fraction  \\\n",
       "0   65        1                        76         0                 25   \n",
       "1   75        1                       146         1                 20   \n",
       "\n",
       "   high_blood_pressure  platelets  serum_sodium  sex  smoking  time  \n",
       "0                    0     276000           137    0        0    16  \n",
       "1                    1     327000           129    1        0    20  "
      ]
     },
     "execution_count": 25,
     "metadata": {},
     "output_type": "execute_result"
    }
   ],
   "source": [
    "X_inf = pd.DataFrame(data={'age': [65, 75], 'anaemia': [1, 1], 'creatinine_phosphokinase': [76, 146], \n",
    "                           'diabetes': [0, 1], 'ejection_fraction': [25, 20], 'high_blood_pressure': [0, 1], \n",
    "                           'platelets': [276000, 327000], 'serum_sodium': [137, 129], 'sex': [0, 1], \n",
    "                           'smoking': [0, 0], 'time': [16, 20]})\n",
    "\n",
    "X_inf"
   ]
  },
  {
   "cell_type": "code",
   "execution_count": 26,
   "id": "f3881b0e",
   "metadata": {
    "ExecuteTime": {
     "end_time": "2022-12-02T00:13:31.069174Z",
     "start_time": "2022-12-02T00:13:31.059201Z"
    }
   },
   "outputs": [],
   "source": [
    "sclr_inf = sclr.transform(X_inf)"
   ]
  },
  {
   "cell_type": "code",
   "execution_count": 27,
   "id": "f1fbb638",
   "metadata": {
    "ExecuteTime": {
     "end_time": "2022-12-02T00:13:31.916265Z",
     "start_time": "2022-12-02T00:13:31.891301Z"
    }
   },
   "outputs": [
    {
     "data": {
      "text/html": [
       "<div>\n",
       "<style scoped>\n",
       "    .dataframe tbody tr th:only-of-type {\n",
       "        vertical-align: middle;\n",
       "    }\n",
       "\n",
       "    .dataframe tbody tr th {\n",
       "        vertical-align: top;\n",
       "    }\n",
       "\n",
       "    .dataframe thead th {\n",
       "        text-align: right;\n",
       "    }\n",
       "</style>\n",
       "<table border=\"1\" class=\"dataframe\">\n",
       "  <thead>\n",
       "    <tr style=\"text-align: right;\">\n",
       "      <th></th>\n",
       "      <th>age</th>\n",
       "      <th>anaemia</th>\n",
       "      <th>creatinine_phosphokinase</th>\n",
       "      <th>diabetes</th>\n",
       "      <th>ejection_fraction</th>\n",
       "      <th>high_blood_pressure</th>\n",
       "      <th>platelets</th>\n",
       "      <th>serum_sodium</th>\n",
       "      <th>sex</th>\n",
       "      <th>smoking</th>\n",
       "      <th>time</th>\n",
       "    </tr>\n",
       "  </thead>\n",
       "  <tbody>\n",
       "    <tr>\n",
       "      <th>0</th>\n",
       "      <td>0.351203</td>\n",
       "      <td>1.147968</td>\n",
       "      <td>-0.522203</td>\n",
       "      <td>-0.847579</td>\n",
       "      <td>-1.10737</td>\n",
       "      <td>-0.735688</td>\n",
       "      <td>0.129475</td>\n",
       "      <td>0.085034</td>\n",
       "      <td>-1.359272</td>\n",
       "      <td>-0.687682</td>\n",
       "      <td>-1.474632</td>\n",
       "    </tr>\n",
       "    <tr>\n",
       "      <th>1</th>\n",
       "      <td>1.193302</td>\n",
       "      <td>1.147968</td>\n",
       "      <td>-0.449939</td>\n",
       "      <td>1.179830</td>\n",
       "      <td>-1.53056</td>\n",
       "      <td>1.359272</td>\n",
       "      <td>0.651799</td>\n",
       "      <td>-1.731046</td>\n",
       "      <td>0.735688</td>\n",
       "      <td>-0.687682</td>\n",
       "      <td>-1.423009</td>\n",
       "    </tr>\n",
       "  </tbody>\n",
       "</table>\n",
       "</div>"
      ],
      "text/plain": [
       "        age   anaemia  creatinine_phosphokinase  diabetes  ejection_fraction  \\\n",
       "0  0.351203  1.147968                 -0.522203 -0.847579           -1.10737   \n",
       "1  1.193302  1.147968                 -0.449939  1.179830           -1.53056   \n",
       "\n",
       "   high_blood_pressure  platelets  serum_sodium       sex   smoking      time  \n",
       "0            -0.735688   0.129475      0.085034 -1.359272 -0.687682 -1.474632  \n",
       "1             1.359272   0.651799     -1.731046  0.735688 -0.687682 -1.423009  "
      ]
     },
     "execution_count": 27,
     "metadata": {},
     "output_type": "execute_result"
    }
   ],
   "source": [
    "feat_cols = ['age', 'anaemia', 'creatinine_phosphokinase', 'diabetes', 'ejection_fraction', 'high_blood_pressure', 'platelets', 'serum_sodium', 'sex', 'smoking', 'time']\n",
    "X_inf = pd.DataFrame(sclr_inf, columns=feat_cols)\n",
    "X_inf.head()"
   ]
  },
  {
   "cell_type": "code",
   "execution_count": 28,
   "id": "c751451e",
   "metadata": {
    "ExecuteTime": {
     "end_time": "2022-12-02T00:13:35.017565Z",
     "start_time": "2022-12-02T00:13:34.982696Z"
    }
   },
   "outputs": [
    {
     "data": {
      "text/plain": [
       "array([0, 1], dtype=int64)"
      ]
     },
     "execution_count": 28,
     "metadata": {},
     "output_type": "execute_result"
    }
   ],
   "source": [
    "modelRF.predict(X_inf)"
   ]
  },
  {
   "cell_type": "code",
   "execution_count": 29,
   "id": "feb1b395",
   "metadata": {
    "ExecuteTime": {
     "end_time": "2022-12-02T00:13:35.863048Z",
     "start_time": "2022-12-02T00:13:35.843105Z"
    }
   },
   "outputs": [
    {
     "data": {
      "text/plain": [
       "array([0, 1], dtype=int64)"
      ]
     },
     "execution_count": 29,
     "metadata": {},
     "output_type": "execute_result"
    }
   ],
   "source": [
    "modelB.predict(X_inf)"
   ]
  },
  {
   "cell_type": "markdown",
   "id": "2843bb21",
   "metadata": {},
   "source": [
    "## Conclusions"
   ]
  },
  {
   "cell_type": "markdown",
   "id": "b6a3a4f3",
   "metadata": {},
   "source": [
    "Dari hasil yang telah didapatkan dari analisis di atas, diperoleh kesimpulan bahwa model Boosting memiliki tingkat error yang lebih sedikit dibandingkan dengan model Random Forest pada prediksi kematian pasien akibat gagal jantung."
   ]
  },
  {
   "cell_type": "markdown",
   "id": "a6b64baa",
   "metadata": {},
   "source": [
    "**Save Model**"
   ]
  },
  {
   "cell_type": "code",
   "execution_count": 30,
   "id": "78eb6443",
   "metadata": {
    "ExecuteTime": {
     "end_time": "2022-12-02T00:14:28.800474Z",
     "start_time": "2022-12-02T00:14:28.779497Z"
    }
   },
   "outputs": [],
   "source": [
    "pickle.dump(modelRF, open('model_ensemble.pkl', 'wb'))"
   ]
  },
  {
   "cell_type": "code",
   "execution_count": 31,
   "id": "74e56022",
   "metadata": {
    "ExecuteTime": {
     "end_time": "2022-12-02T00:14:29.617876Z",
     "start_time": "2022-12-02T00:14:29.608901Z"
    }
   },
   "outputs": [],
   "source": [
    "with open('model_scaler.pkl', 'wb') as file:\n",
    "    pickle.dump(sclr, file)"
   ]
  },
  {
   "cell_type": "code",
   "execution_count": null,
   "id": "1e89cf9c",
   "metadata": {},
   "outputs": [],
   "source": []
  }
 ],
 "metadata": {
  "kernelspec": {
   "display_name": "Python 3 (ipykernel)",
   "language": "python",
   "name": "python3"
  },
  "language_info": {
   "codemirror_mode": {
    "name": "ipython",
    "version": 3
   },
   "file_extension": ".py",
   "mimetype": "text/x-python",
   "name": "python",
   "nbconvert_exporter": "python",
   "pygments_lexer": "ipython3",
   "version": "3.9.12"
  },
  "toc": {
   "base_numbering": 1,
   "nav_menu": {},
   "number_sections": true,
   "sideBar": true,
   "skip_h1_title": false,
   "title_cell": "Table of Contents",
   "title_sidebar": "Contents",
   "toc_cell": false,
   "toc_position": {},
   "toc_section_display": true,
   "toc_window_display": false
  }
 },
 "nbformat": 4,
 "nbformat_minor": 5
}
