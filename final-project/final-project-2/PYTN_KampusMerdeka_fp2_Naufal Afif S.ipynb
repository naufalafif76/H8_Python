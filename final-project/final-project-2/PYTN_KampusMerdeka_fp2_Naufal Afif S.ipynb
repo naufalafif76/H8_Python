{
 "cells": [
  {
   "cell_type": "markdown",
   "id": "1bfa8d72",
   "metadata": {},
   "source": [
    "```\n",
    "Final Project 2 - Logistic Regression dan SVM\n",
    "\n",
    "Anggota Kelompok:\n",
    "Sephia Ummiyatil A - PYTN-KS09-005\n",
    "Naufal Afif S - PYTN-KS09-015\n",
    "Berliana Putri B - PYTN-KS09-025\n",
    "\n",
    "Link Deploy:\n",
    "https://fp2-classifier.herokuapp.com/\n",
    "```"
   ]
  },
  {
   "cell_type": "markdown",
   "id": "b21cfc39",
   "metadata": {},
   "source": [
    "### Latar Belakang"
   ]
  },
  {
   "cell_type": "markdown",
   "id": "f8dbbf27",
   "metadata": {},
   "source": [
    "**Dataset**\n",
    "\n",
    "Dataset yang digunakan dalam pembuatan model bersumber dari https://www.kaggle.com/jsphyg/weather-dataset-rattle-package\n",
    "\n",
    "Dataset ini berisikan 23 feature dari catatan curah hujan di negara Australia"
   ]
  },
  {
   "cell_type": "markdown",
   "id": "7c0d5d1d",
   "metadata": {},
   "source": [
    "**Objective yang ingin dicapai**\n",
    "\n",
    "* Melakukan klasifikasi curah hujan di Australia\n",
    "* Mengetahui akurasi yang optimal untuk memprediksi curah hujan hari ini"
   ]
  },
  {
   "cell_type": "markdown",
   "id": "860a5ab3",
   "metadata": {},
   "source": [
    "### Import Libraries"
   ]
  },
  {
   "cell_type": "code",
   "execution_count": 1,
   "id": "3b98f55b",
   "metadata": {
    "ExecuteTime": {
     "end_time": "2022-11-16T13:37:57.727706Z",
     "start_time": "2022-11-16T13:37:54.333538Z"
    }
   },
   "outputs": [],
   "source": [
    "import pandas as pd\n",
    "import numpy as np\n",
    "import seaborn as sns\n",
    "import matplotlib.pyplot as plt\n",
    "%matplotlib inline\n",
    "\n",
    "from sklearn.preprocessing import LabelEncoder\n",
    "from sklearn.preprocessing import normalize, StandardScaler\n",
    "from sklearn.model_selection import train_test_split\n",
    "from sklearn.linear_model import LogisticRegression\n",
    "from sklearn import svm\n",
    "from sklearn.metrics import accuracy_score, confusion_matrix, mean_squared_error\n",
    "\n",
    "import pickle"
   ]
  },
  {
   "cell_type": "markdown",
   "id": "5aac9ea7",
   "metadata": {},
   "source": [
    "### Data Loading"
   ]
  },
  {
   "cell_type": "code",
   "execution_count": 2,
   "id": "26d9e760",
   "metadata": {
    "ExecuteTime": {
     "end_time": "2022-11-16T13:38:03.200137Z",
     "start_time": "2022-11-16T13:38:02.760294Z"
    }
   },
   "outputs": [
    {
     "data": {
      "text/html": [
       "<div>\n",
       "<style scoped>\n",
       "    .dataframe tbody tr th:only-of-type {\n",
       "        vertical-align: middle;\n",
       "    }\n",
       "\n",
       "    .dataframe tbody tr th {\n",
       "        vertical-align: top;\n",
       "    }\n",
       "\n",
       "    .dataframe thead th {\n",
       "        text-align: right;\n",
       "    }\n",
       "</style>\n",
       "<table border=\"1\" class=\"dataframe\">\n",
       "  <thead>\n",
       "    <tr style=\"text-align: right;\">\n",
       "      <th></th>\n",
       "      <th>Date</th>\n",
       "      <th>Location</th>\n",
       "      <th>MinTemp</th>\n",
       "      <th>MaxTemp</th>\n",
       "      <th>Rainfall</th>\n",
       "      <th>Evaporation</th>\n",
       "      <th>Sunshine</th>\n",
       "      <th>WindGustDir</th>\n",
       "      <th>WindGustSpeed</th>\n",
       "      <th>WindDir9am</th>\n",
       "      <th>...</th>\n",
       "      <th>Humidity9am</th>\n",
       "      <th>Humidity3pm</th>\n",
       "      <th>Pressure9am</th>\n",
       "      <th>Pressure3pm</th>\n",
       "      <th>Cloud9am</th>\n",
       "      <th>Cloud3pm</th>\n",
       "      <th>Temp9am</th>\n",
       "      <th>Temp3pm</th>\n",
       "      <th>RainToday</th>\n",
       "      <th>RainTomorrow</th>\n",
       "    </tr>\n",
       "  </thead>\n",
       "  <tbody>\n",
       "    <tr>\n",
       "      <th>0</th>\n",
       "      <td>2008-12-01</td>\n",
       "      <td>Albury</td>\n",
       "      <td>13.4</td>\n",
       "      <td>22.9</td>\n",
       "      <td>0.6</td>\n",
       "      <td>NaN</td>\n",
       "      <td>NaN</td>\n",
       "      <td>W</td>\n",
       "      <td>44.0</td>\n",
       "      <td>W</td>\n",
       "      <td>...</td>\n",
       "      <td>71.0</td>\n",
       "      <td>22.0</td>\n",
       "      <td>1007.7</td>\n",
       "      <td>1007.1</td>\n",
       "      <td>8.0</td>\n",
       "      <td>NaN</td>\n",
       "      <td>16.9</td>\n",
       "      <td>21.8</td>\n",
       "      <td>No</td>\n",
       "      <td>No</td>\n",
       "    </tr>\n",
       "    <tr>\n",
       "      <th>1</th>\n",
       "      <td>2008-12-02</td>\n",
       "      <td>Albury</td>\n",
       "      <td>7.4</td>\n",
       "      <td>25.1</td>\n",
       "      <td>0.0</td>\n",
       "      <td>NaN</td>\n",
       "      <td>NaN</td>\n",
       "      <td>WNW</td>\n",
       "      <td>44.0</td>\n",
       "      <td>NNW</td>\n",
       "      <td>...</td>\n",
       "      <td>44.0</td>\n",
       "      <td>25.0</td>\n",
       "      <td>1010.6</td>\n",
       "      <td>1007.8</td>\n",
       "      <td>NaN</td>\n",
       "      <td>NaN</td>\n",
       "      <td>17.2</td>\n",
       "      <td>24.3</td>\n",
       "      <td>No</td>\n",
       "      <td>No</td>\n",
       "    </tr>\n",
       "    <tr>\n",
       "      <th>2</th>\n",
       "      <td>2008-12-03</td>\n",
       "      <td>Albury</td>\n",
       "      <td>12.9</td>\n",
       "      <td>25.7</td>\n",
       "      <td>0.0</td>\n",
       "      <td>NaN</td>\n",
       "      <td>NaN</td>\n",
       "      <td>WSW</td>\n",
       "      <td>46.0</td>\n",
       "      <td>W</td>\n",
       "      <td>...</td>\n",
       "      <td>38.0</td>\n",
       "      <td>30.0</td>\n",
       "      <td>1007.6</td>\n",
       "      <td>1008.7</td>\n",
       "      <td>NaN</td>\n",
       "      <td>2.0</td>\n",
       "      <td>21.0</td>\n",
       "      <td>23.2</td>\n",
       "      <td>No</td>\n",
       "      <td>No</td>\n",
       "    </tr>\n",
       "    <tr>\n",
       "      <th>3</th>\n",
       "      <td>2008-12-04</td>\n",
       "      <td>Albury</td>\n",
       "      <td>9.2</td>\n",
       "      <td>28.0</td>\n",
       "      <td>0.0</td>\n",
       "      <td>NaN</td>\n",
       "      <td>NaN</td>\n",
       "      <td>NE</td>\n",
       "      <td>24.0</td>\n",
       "      <td>SE</td>\n",
       "      <td>...</td>\n",
       "      <td>45.0</td>\n",
       "      <td>16.0</td>\n",
       "      <td>1017.6</td>\n",
       "      <td>1012.8</td>\n",
       "      <td>NaN</td>\n",
       "      <td>NaN</td>\n",
       "      <td>18.1</td>\n",
       "      <td>26.5</td>\n",
       "      <td>No</td>\n",
       "      <td>No</td>\n",
       "    </tr>\n",
       "    <tr>\n",
       "      <th>4</th>\n",
       "      <td>2008-12-05</td>\n",
       "      <td>Albury</td>\n",
       "      <td>17.5</td>\n",
       "      <td>32.3</td>\n",
       "      <td>1.0</td>\n",
       "      <td>NaN</td>\n",
       "      <td>NaN</td>\n",
       "      <td>W</td>\n",
       "      <td>41.0</td>\n",
       "      <td>ENE</td>\n",
       "      <td>...</td>\n",
       "      <td>82.0</td>\n",
       "      <td>33.0</td>\n",
       "      <td>1010.8</td>\n",
       "      <td>1006.0</td>\n",
       "      <td>7.0</td>\n",
       "      <td>8.0</td>\n",
       "      <td>17.8</td>\n",
       "      <td>29.7</td>\n",
       "      <td>No</td>\n",
       "      <td>No</td>\n",
       "    </tr>\n",
       "  </tbody>\n",
       "</table>\n",
       "<p>5 rows × 23 columns</p>\n",
       "</div>"
      ],
      "text/plain": [
       "         Date Location  MinTemp  MaxTemp  Rainfall  Evaporation  Sunshine  \\\n",
       "0  2008-12-01   Albury     13.4     22.9       0.6          NaN       NaN   \n",
       "1  2008-12-02   Albury      7.4     25.1       0.0          NaN       NaN   \n",
       "2  2008-12-03   Albury     12.9     25.7       0.0          NaN       NaN   \n",
       "3  2008-12-04   Albury      9.2     28.0       0.0          NaN       NaN   \n",
       "4  2008-12-05   Albury     17.5     32.3       1.0          NaN       NaN   \n",
       "\n",
       "  WindGustDir  WindGustSpeed WindDir9am  ... Humidity9am  Humidity3pm  \\\n",
       "0           W           44.0          W  ...        71.0         22.0   \n",
       "1         WNW           44.0        NNW  ...        44.0         25.0   \n",
       "2         WSW           46.0          W  ...        38.0         30.0   \n",
       "3          NE           24.0         SE  ...        45.0         16.0   \n",
       "4           W           41.0        ENE  ...        82.0         33.0   \n",
       "\n",
       "   Pressure9am  Pressure3pm  Cloud9am  Cloud3pm  Temp9am  Temp3pm  RainToday  \\\n",
       "0       1007.7       1007.1       8.0       NaN     16.9     21.8         No   \n",
       "1       1010.6       1007.8       NaN       NaN     17.2     24.3         No   \n",
       "2       1007.6       1008.7       NaN       2.0     21.0     23.2         No   \n",
       "3       1017.6       1012.8       NaN       NaN     18.1     26.5         No   \n",
       "4       1010.8       1006.0       7.0       8.0     17.8     29.7         No   \n",
       "\n",
       "   RainTomorrow  \n",
       "0            No  \n",
       "1            No  \n",
       "2            No  \n",
       "3            No  \n",
       "4            No  \n",
       "\n",
       "[5 rows x 23 columns]"
      ]
     },
     "execution_count": 2,
     "metadata": {},
     "output_type": "execute_result"
    }
   ],
   "source": [
    "df = pd.read_csv('dataset/weatherAUS.csv')\n",
    "df.head()"
   ]
  },
  {
   "cell_type": "code",
   "execution_count": 3,
   "id": "9ca4f64e",
   "metadata": {
    "ExecuteTime": {
     "end_time": "2022-11-16T13:38:06.412038Z",
     "start_time": "2022-11-16T13:38:06.230522Z"
    }
   },
   "outputs": [
    {
     "name": "stdout",
     "output_type": "stream",
     "text": [
      "<class 'pandas.core.frame.DataFrame'>\n",
      "RangeIndex: 145460 entries, 0 to 145459\n",
      "Data columns (total 23 columns):\n",
      " #   Column         Non-Null Count   Dtype  \n",
      "---  ------         --------------   -----  \n",
      " 0   Date           145460 non-null  object \n",
      " 1   Location       145460 non-null  object \n",
      " 2   MinTemp        143975 non-null  float64\n",
      " 3   MaxTemp        144199 non-null  float64\n",
      " 4   Rainfall       142199 non-null  float64\n",
      " 5   Evaporation    82670 non-null   float64\n",
      " 6   Sunshine       75625 non-null   float64\n",
      " 7   WindGustDir    135134 non-null  object \n",
      " 8   WindGustSpeed  135197 non-null  float64\n",
      " 9   WindDir9am     134894 non-null  object \n",
      " 10  WindDir3pm     141232 non-null  object \n",
      " 11  WindSpeed9am   143693 non-null  float64\n",
      " 12  WindSpeed3pm   142398 non-null  float64\n",
      " 13  Humidity9am    142806 non-null  float64\n",
      " 14  Humidity3pm    140953 non-null  float64\n",
      " 15  Pressure9am    130395 non-null  float64\n",
      " 16  Pressure3pm    130432 non-null  float64\n",
      " 17  Cloud9am       89572 non-null   float64\n",
      " 18  Cloud3pm       86102 non-null   float64\n",
      " 19  Temp9am        143693 non-null  float64\n",
      " 20  Temp3pm        141851 non-null  float64\n",
      " 21  RainToday      142199 non-null  object \n",
      " 22  RainTomorrow   142193 non-null  object \n",
      "dtypes: float64(16), object(7)\n",
      "memory usage: 25.5+ MB\n"
     ]
    }
   ],
   "source": [
    "df.info()"
   ]
  },
  {
   "cell_type": "markdown",
   "id": "c9820c8c",
   "metadata": {},
   "source": [
    "Dataset memiliki tipe data float dan object. Selain itu juga terdapat missing value pada dataset karena banyaknya nilai non-null pada beberapa atribut tidak sesuai dengan banyaknya data entri."
   ]
  },
  {
   "cell_type": "code",
   "execution_count": 4,
   "id": "70887427",
   "metadata": {
    "ExecuteTime": {
     "end_time": "2022-11-16T13:38:10.120057Z",
     "start_time": "2022-11-16T13:38:10.109051Z"
    }
   },
   "outputs": [
    {
     "data": {
      "text/plain": [
       "Index(['Date', 'Location', 'MinTemp', 'MaxTemp', 'Rainfall', 'Evaporation',\n",
       "       'Sunshine', 'WindGustDir', 'WindGustSpeed', 'WindDir9am', 'WindDir3pm',\n",
       "       'WindSpeed9am', 'WindSpeed3pm', 'Humidity9am', 'Humidity3pm',\n",
       "       'Pressure9am', 'Pressure3pm', 'Cloud9am', 'Cloud3pm', 'Temp9am',\n",
       "       'Temp3pm', 'RainToday', 'RainTomorrow'],\n",
       "      dtype='object')"
      ]
     },
     "execution_count": 4,
     "metadata": {},
     "output_type": "execute_result"
    }
   ],
   "source": [
    "df.columns"
   ]
  },
  {
   "cell_type": "code",
   "execution_count": 5,
   "id": "349bc49e",
   "metadata": {
    "ExecuteTime": {
     "end_time": "2022-11-16T13:38:13.223637Z",
     "start_time": "2022-11-16T13:38:13.108595Z"
    }
   },
   "outputs": [
    {
     "name": "stdout",
     "output_type": "stream",
     "text": [
      "Date : 3436\n",
      "Location : 49\n",
      "MinTemp : 389\n",
      "MaxTemp : 505\n",
      "Rainfall : 681\n",
      "Evaporation : 358\n",
      "Sunshine : 145\n",
      "WindGustDir : 16\n",
      "WindGustSpeed : 67\n",
      "WindDir9am : 16\n",
      "WindDir3pm : 16\n",
      "WindSpeed9am : 43\n",
      "WindSpeed3pm : 44\n",
      "Humidity9am : 101\n",
      "Humidity3pm : 101\n",
      "Pressure9am : 546\n",
      "Pressure3pm : 549\n",
      "Cloud9am : 10\n",
      "Cloud3pm : 10\n",
      "Temp9am : 441\n",
      "Temp3pm : 502\n",
      "RainToday : 2\n",
      "RainTomorrow : 2\n"
     ]
    }
   ],
   "source": [
    "for col in df.columns:\n",
    "    print(col, ':', df[col].nunique())"
   ]
  },
  {
   "cell_type": "code",
   "execution_count": 6,
   "id": "755d94b0",
   "metadata": {
    "ExecuteTime": {
     "end_time": "2022-11-16T13:38:15.469934Z",
     "start_time": "2022-11-16T13:38:15.310533Z"
    }
   },
   "outputs": [
    {
     "data": {
      "text/plain": [
       "Date                 0\n",
       "Location             0\n",
       "MinTemp           1485\n",
       "MaxTemp           1261\n",
       "Rainfall          3261\n",
       "Evaporation      62790\n",
       "Sunshine         69835\n",
       "WindGustDir      10326\n",
       "WindGustSpeed    10263\n",
       "WindDir9am       10566\n",
       "WindDir3pm        4228\n",
       "WindSpeed9am      1767\n",
       "WindSpeed3pm      3062\n",
       "Humidity9am       2654\n",
       "Humidity3pm       4507\n",
       "Pressure9am      15065\n",
       "Pressure3pm      15028\n",
       "Cloud9am         55888\n",
       "Cloud3pm         59358\n",
       "Temp9am           1767\n",
       "Temp3pm           3609\n",
       "RainToday         3261\n",
       "RainTomorrow      3267\n",
       "dtype: int64"
      ]
     },
     "execution_count": 6,
     "metadata": {},
     "output_type": "execute_result"
    }
   ],
   "source": [
    "df.isnull().sum()"
   ]
  },
  {
   "cell_type": "markdown",
   "id": "b3411229",
   "metadata": {},
   "source": [
    "Terdapat missing value pada setiap atribut kecuali Date dan Location. Oleh karena itu, perlu adanya penanganan terhadap missing value tersebut."
   ]
  },
  {
   "cell_type": "code",
   "execution_count": 7,
   "id": "ce4364b2",
   "metadata": {
    "ExecuteTime": {
     "end_time": "2022-11-16T13:38:26.951570Z",
     "start_time": "2022-11-16T13:38:26.876937Z"
    }
   },
   "outputs": [
    {
     "data": {
      "text/plain": [
       "Date               0.0 %\n",
       "Location           0.0 %\n",
       "MaxTemp           0.87 %\n",
       "MinTemp           1.02 %\n",
       "Temp9am           1.21 %\n",
       "WindSpeed9am      1.21 %\n",
       "Humidity9am       1.82 %\n",
       "Pressure3pm      10.33 %\n",
       "Pressure9am      10.36 %\n",
       "WindSpeed3pm      2.11 %\n",
       "Rainfall          2.24 %\n",
       "RainToday         2.24 %\n",
       "RainTomorrow      2.25 %\n",
       "Temp3pm           2.48 %\n",
       "WindDir3pm        2.91 %\n",
       "Humidity3pm        3.1 %\n",
       "Cloud9am         38.42 %\n",
       "Cloud3pm         40.81 %\n",
       "Evaporation      43.17 %\n",
       "Sunshine         48.01 %\n",
       "WindGustSpeed     7.06 %\n",
       "WindGustDir        7.1 %\n",
       "WindDir9am        7.26 %\n",
       "dtype: object"
      ]
     },
     "execution_count": 7,
     "metadata": {},
     "output_type": "execute_result"
    }
   ],
   "source": [
    "missing_value = df.apply(lambda x: f'{((x.isnull().sum()/df.shape[0])*100).round(2)} %').sort_values(ascending=True)\n",
    "missing_value"
   ]
  },
  {
   "cell_type": "markdown",
   "id": "0cb59c59",
   "metadata": {},
   "source": [
    "### Data Cleaning"
   ]
  },
  {
   "cell_type": "code",
   "execution_count": 8,
   "id": "d713e6ea",
   "metadata": {
    "ExecuteTime": {
     "end_time": "2022-11-16T13:38:34.317227Z",
     "start_time": "2022-11-16T13:38:34.109041Z"
    }
   },
   "outputs": [
    {
     "data": {
      "text/plain": [
       "0"
      ]
     },
     "execution_count": 8,
     "metadata": {},
     "output_type": "execute_result"
    }
   ],
   "source": [
    "df.duplicated().sum()"
   ]
  },
  {
   "cell_type": "markdown",
   "id": "239b854d",
   "metadata": {},
   "source": [
    "Tidak terdapat duplikasi data"
   ]
  },
  {
   "cell_type": "markdown",
   "id": "183e90fd",
   "metadata": {},
   "source": [
    "**Drop Features yang tidak digunakan dalam membuat Model**"
   ]
  },
  {
   "cell_type": "code",
   "execution_count": 9,
   "id": "0f35f42e",
   "metadata": {
    "ExecuteTime": {
     "end_time": "2022-11-16T13:38:41.890963Z",
     "start_time": "2022-11-16T13:38:41.874009Z"
    }
   },
   "outputs": [
    {
     "data": {
      "text/plain": [
       "Index(['Date', 'Location', 'MinTemp', 'MaxTemp', 'Rainfall', 'Evaporation',\n",
       "       'Sunshine', 'WindGustDir', 'WindGustSpeed', 'WindDir9am', 'WindDir3pm',\n",
       "       'WindSpeed9am', 'WindSpeed3pm', 'Humidity9am', 'Humidity3pm',\n",
       "       'Pressure9am', 'Pressure3pm', 'Cloud9am', 'Cloud3pm', 'Temp9am',\n",
       "       'Temp3pm', 'RainToday', 'RainTomorrow'],\n",
       "      dtype='object')"
      ]
     },
     "execution_count": 9,
     "metadata": {},
     "output_type": "execute_result"
    }
   ],
   "source": [
    "df.columns"
   ]
  },
  {
   "cell_type": "code",
   "execution_count": 10,
   "id": "2a383cf8",
   "metadata": {
    "ExecuteTime": {
     "end_time": "2022-11-16T13:38:44.689729Z",
     "start_time": "2022-11-16T13:38:44.669778Z"
    }
   },
   "outputs": [],
   "source": [
    "# Menghapus kolom yang tidak digunakan dalam model\n",
    "df = df.drop(df.columns[9:21], axis=1, inplace=False)"
   ]
  },
  {
   "cell_type": "markdown",
   "id": "23670305",
   "metadata": {},
   "source": [
    "**Penanganan Missing Value**"
   ]
  },
  {
   "cell_type": "code",
   "execution_count": 11,
   "id": "049fa457",
   "metadata": {
    "ExecuteTime": {
     "end_time": "2022-11-16T13:38:56.766343Z",
     "start_time": "2022-11-16T13:38:56.639404Z"
    }
   },
   "outputs": [],
   "source": [
    "# Menghapus semua baris yang miliki nilai null\n",
    "df = df.dropna(axis=0, inplace=False)"
   ]
  },
  {
   "cell_type": "code",
   "execution_count": 12,
   "id": "8733479d",
   "metadata": {
    "ExecuteTime": {
     "end_time": "2022-11-16T13:38:58.780288Z",
     "start_time": "2022-11-16T13:38:58.702308Z"
    }
   },
   "outputs": [
    {
     "data": {
      "text/plain": [
       "Date             0\n",
       "Location         0\n",
       "MinTemp          0\n",
       "MaxTemp          0\n",
       "Rainfall         0\n",
       "Evaporation      0\n",
       "Sunshine         0\n",
       "WindGustDir      0\n",
       "WindGustSpeed    0\n",
       "RainToday        0\n",
       "RainTomorrow     0\n",
       "dtype: int64"
      ]
     },
     "execution_count": 12,
     "metadata": {},
     "output_type": "execute_result"
    }
   ],
   "source": [
    "df.isnull().sum()"
   ]
  },
  {
   "cell_type": "code",
   "execution_count": 13,
   "id": "818683af",
   "metadata": {
    "ExecuteTime": {
     "end_time": "2022-11-16T13:39:01.414870Z",
     "start_time": "2022-11-16T13:39:01.393926Z"
    }
   },
   "outputs": [
    {
     "data": {
      "text/plain": [
       "(65961, 11)"
      ]
     },
     "execution_count": 13,
     "metadata": {},
     "output_type": "execute_result"
    }
   ],
   "source": [
    "df.shape"
   ]
  },
  {
   "cell_type": "markdown",
   "id": "94bcdcf7",
   "metadata": {},
   "source": [
    "Pengecekan jumlah baris dan kolom yang tersisa"
   ]
  },
  {
   "cell_type": "markdown",
   "id": "e346ec2b",
   "metadata": {},
   "source": [
    "### Data Exploration"
   ]
  },
  {
   "cell_type": "code",
   "execution_count": 14,
   "id": "c32a66d0",
   "metadata": {
    "ExecuteTime": {
     "end_time": "2022-11-16T13:39:04.842545Z",
     "start_time": "2022-11-16T13:39:04.802617Z"
    }
   },
   "outputs": [
    {
     "data": {
      "text/html": [
       "<div>\n",
       "<style scoped>\n",
       "    .dataframe tbody tr th:only-of-type {\n",
       "        vertical-align: middle;\n",
       "    }\n",
       "\n",
       "    .dataframe tbody tr th {\n",
       "        vertical-align: top;\n",
       "    }\n",
       "\n",
       "    .dataframe thead th {\n",
       "        text-align: right;\n",
       "    }\n",
       "</style>\n",
       "<table border=\"1\" class=\"dataframe\">\n",
       "  <thead>\n",
       "    <tr style=\"text-align: right;\">\n",
       "      <th></th>\n",
       "      <th>MinTemp</th>\n",
       "      <th>MaxTemp</th>\n",
       "      <th>Rainfall</th>\n",
       "      <th>Evaporation</th>\n",
       "      <th>Sunshine</th>\n",
       "      <th>WindGustSpeed</th>\n",
       "    </tr>\n",
       "  </thead>\n",
       "  <tbody>\n",
       "    <tr>\n",
       "      <th>count</th>\n",
       "      <td>65961.000000</td>\n",
       "      <td>65961.000000</td>\n",
       "      <td>65961.000000</td>\n",
       "      <td>65961.000000</td>\n",
       "      <td>65961.000000</td>\n",
       "      <td>65961.000000</td>\n",
       "    </tr>\n",
       "    <tr>\n",
       "      <th>mean</th>\n",
       "      <td>12.977949</td>\n",
       "      <td>23.783374</td>\n",
       "      <td>2.066476</td>\n",
       "      <td>5.338458</td>\n",
       "      <td>7.639407</td>\n",
       "      <td>40.574582</td>\n",
       "    </tr>\n",
       "    <tr>\n",
       "      <th>std</th>\n",
       "      <td>6.421768</td>\n",
       "      <td>7.020347</td>\n",
       "      <td>6.767103</td>\n",
       "      <td>3.716701</td>\n",
       "      <td>3.776985</td>\n",
       "      <td>13.450874</td>\n",
       "    </tr>\n",
       "    <tr>\n",
       "      <th>min</th>\n",
       "      <td>-6.900000</td>\n",
       "      <td>4.100000</td>\n",
       "      <td>0.000000</td>\n",
       "      <td>0.000000</td>\n",
       "      <td>0.000000</td>\n",
       "      <td>9.000000</td>\n",
       "    </tr>\n",
       "    <tr>\n",
       "      <th>25%</th>\n",
       "      <td>8.200000</td>\n",
       "      <td>18.200000</td>\n",
       "      <td>0.000000</td>\n",
       "      <td>2.600000</td>\n",
       "      <td>4.900000</td>\n",
       "      <td>31.000000</td>\n",
       "    </tr>\n",
       "    <tr>\n",
       "      <th>50%</th>\n",
       "      <td>12.600000</td>\n",
       "      <td>23.300000</td>\n",
       "      <td>0.000000</td>\n",
       "      <td>4.800000</td>\n",
       "      <td>8.500000</td>\n",
       "      <td>39.000000</td>\n",
       "    </tr>\n",
       "    <tr>\n",
       "      <th>75%</th>\n",
       "      <td>17.800000</td>\n",
       "      <td>29.200000</td>\n",
       "      <td>0.600000</td>\n",
       "      <td>7.200000</td>\n",
       "      <td>10.700000</td>\n",
       "      <td>48.000000</td>\n",
       "    </tr>\n",
       "    <tr>\n",
       "      <th>max</th>\n",
       "      <td>33.900000</td>\n",
       "      <td>48.100000</td>\n",
       "      <td>206.200000</td>\n",
       "      <td>81.200000</td>\n",
       "      <td>14.500000</td>\n",
       "      <td>135.000000</td>\n",
       "    </tr>\n",
       "  </tbody>\n",
       "</table>\n",
       "</div>"
      ],
      "text/plain": [
       "            MinTemp       MaxTemp      Rainfall   Evaporation      Sunshine  \\\n",
       "count  65961.000000  65961.000000  65961.000000  65961.000000  65961.000000   \n",
       "mean      12.977949     23.783374      2.066476      5.338458      7.639407   \n",
       "std        6.421768      7.020347      6.767103      3.716701      3.776985   \n",
       "min       -6.900000      4.100000      0.000000      0.000000      0.000000   \n",
       "25%        8.200000     18.200000      0.000000      2.600000      4.900000   \n",
       "50%       12.600000     23.300000      0.000000      4.800000      8.500000   \n",
       "75%       17.800000     29.200000      0.600000      7.200000     10.700000   \n",
       "max       33.900000     48.100000    206.200000     81.200000     14.500000   \n",
       "\n",
       "       WindGustSpeed  \n",
       "count   65961.000000  \n",
       "mean       40.574582  \n",
       "std        13.450874  \n",
       "min         9.000000  \n",
       "25%        31.000000  \n",
       "50%        39.000000  \n",
       "75%        48.000000  \n",
       "max       135.000000  "
      ]
     },
     "execution_count": 14,
     "metadata": {},
     "output_type": "execute_result"
    }
   ],
   "source": [
    "df.describe()"
   ]
  },
  {
   "cell_type": "code",
   "execution_count": 15,
   "id": "8de460e4",
   "metadata": {
    "ExecuteTime": {
     "end_time": "2022-11-16T13:39:07.811513Z",
     "start_time": "2022-11-16T13:39:07.777604Z"
    }
   },
   "outputs": [
    {
     "data": {
      "text/html": [
       "<div>\n",
       "<style scoped>\n",
       "    .dataframe tbody tr th:only-of-type {\n",
       "        vertical-align: middle;\n",
       "    }\n",
       "\n",
       "    .dataframe tbody tr th {\n",
       "        vertical-align: top;\n",
       "    }\n",
       "\n",
       "    .dataframe thead th {\n",
       "        text-align: right;\n",
       "    }\n",
       "</style>\n",
       "<table border=\"1\" class=\"dataframe\">\n",
       "  <thead>\n",
       "    <tr style=\"text-align: right;\">\n",
       "      <th></th>\n",
       "      <th>MinTemp</th>\n",
       "      <th>MaxTemp</th>\n",
       "      <th>Rainfall</th>\n",
       "      <th>Evaporation</th>\n",
       "      <th>Sunshine</th>\n",
       "      <th>WindGustSpeed</th>\n",
       "    </tr>\n",
       "  </thead>\n",
       "  <tbody>\n",
       "    <tr>\n",
       "      <th>MinTemp</th>\n",
       "      <td>1.000000</td>\n",
       "      <td>0.746784</td>\n",
       "      <td>0.109901</td>\n",
       "      <td>0.519689</td>\n",
       "      <td>0.082987</td>\n",
       "      <td>0.137476</td>\n",
       "    </tr>\n",
       "    <tr>\n",
       "      <th>MaxTemp</th>\n",
       "      <td>0.746784</td>\n",
       "      <td>1.000000</td>\n",
       "      <td>-0.073583</td>\n",
       "      <td>0.653639</td>\n",
       "      <td>0.470129</td>\n",
       "      <td>0.053503</td>\n",
       "    </tr>\n",
       "    <tr>\n",
       "      <th>Rainfall</th>\n",
       "      <td>0.109901</td>\n",
       "      <td>-0.073583</td>\n",
       "      <td>1.000000</td>\n",
       "      <td>-0.074668</td>\n",
       "      <td>-0.238855</td>\n",
       "      <td>0.109142</td>\n",
       "    </tr>\n",
       "    <tr>\n",
       "      <th>Evaporation</th>\n",
       "      <td>0.519689</td>\n",
       "      <td>0.653639</td>\n",
       "      <td>-0.074668</td>\n",
       "      <td>1.000000</td>\n",
       "      <td>0.370629</td>\n",
       "      <td>0.217736</td>\n",
       "    </tr>\n",
       "    <tr>\n",
       "      <th>Sunshine</th>\n",
       "      <td>0.082987</td>\n",
       "      <td>0.470129</td>\n",
       "      <td>-0.238855</td>\n",
       "      <td>0.370629</td>\n",
       "      <td>1.000000</td>\n",
       "      <td>-0.034357</td>\n",
       "    </tr>\n",
       "    <tr>\n",
       "      <th>WindGustSpeed</th>\n",
       "      <td>0.137476</td>\n",
       "      <td>0.053503</td>\n",
       "      <td>0.109142</td>\n",
       "      <td>0.217736</td>\n",
       "      <td>-0.034357</td>\n",
       "      <td>1.000000</td>\n",
       "    </tr>\n",
       "  </tbody>\n",
       "</table>\n",
       "</div>"
      ],
      "text/plain": [
       "                MinTemp   MaxTemp  Rainfall  Evaporation  Sunshine  \\\n",
       "MinTemp        1.000000  0.746784  0.109901     0.519689  0.082987   \n",
       "MaxTemp        0.746784  1.000000 -0.073583     0.653639  0.470129   \n",
       "Rainfall       0.109901 -0.073583  1.000000    -0.074668 -0.238855   \n",
       "Evaporation    0.519689  0.653639 -0.074668     1.000000  0.370629   \n",
       "Sunshine       0.082987  0.470129 -0.238855     0.370629  1.000000   \n",
       "WindGustSpeed  0.137476  0.053503  0.109142     0.217736 -0.034357   \n",
       "\n",
       "               WindGustSpeed  \n",
       "MinTemp             0.137476  \n",
       "MaxTemp             0.053503  \n",
       "Rainfall            0.109142  \n",
       "Evaporation         0.217736  \n",
       "Sunshine           -0.034357  \n",
       "WindGustSpeed       1.000000  "
      ]
     },
     "execution_count": 15,
     "metadata": {},
     "output_type": "execute_result"
    }
   ],
   "source": [
    "df.corr()"
   ]
  },
  {
   "cell_type": "code",
   "execution_count": 16,
   "id": "c0993445",
   "metadata": {
    "ExecuteTime": {
     "end_time": "2022-11-16T13:39:11.639501Z",
     "start_time": "2022-11-16T13:39:10.807643Z"
    }
   },
   "outputs": [
    {
     "data": {
      "image/png": "[encoded data removed]",
      "text/plain": [
       "<Figure size 1440x1440 with 6 Axes>"
      ]
     },
     "metadata": {
      "needs_background": "light"
     },
     "output_type": "display_data"
    }
   ],
   "source": [
    "df.hist(bins=10, figsize=(20, 20))\n",
    "plt.show()"
   ]
  },
  {
   "cell_type": "code",
   "execution_count": 17,
   "id": "34e6021c",
   "metadata": {
    "ExecuteTime": {
     "end_time": "2022-11-16T13:39:15.306438Z",
     "start_time": "2022-11-16T13:39:14.924483Z"
    }
   },
   "outputs": [
    {
     "data": {
      "image/png": "[encoded data removed]",
      "text/plain": [
       "<Figure size 1440x1080 with 2 Axes>"
      ]
     },
     "metadata": {
      "needs_background": "light"
     },
     "output_type": "display_data"
    }
   ],
   "source": [
    "fig, ax = plt.subplots(figsize=(20, 15))\n",
    "cm = sns.heatmap(df.corr(), linewidths = .5, annot=True, fmt='.2f')"
   ]
  },
  {
   "cell_type": "markdown",
   "id": "2a09b31d",
   "metadata": {},
   "source": [
    "### Data Preprocessing"
   ]
  },
  {
   "cell_type": "markdown",
   "id": "0b9f4114",
   "metadata": {},
   "source": [
    "**Label Encode**\n",
    "\n",
    "Melakukan konversi pada data feature yang bertipe object agar berubah menjadi numeric unique"
   ]
  },
  {
   "cell_type": "code",
   "execution_count": 18,
   "id": "29f6ad31",
   "metadata": {
    "ExecuteTime": {
     "end_time": "2022-11-16T13:39:28.199884Z",
     "start_time": "2022-11-16T13:39:28.181928Z"
    }
   },
   "outputs": [],
   "source": [
    "labelEncoder = LabelEncoder()"
   ]
  },
  {
   "cell_type": "code",
   "execution_count": 19,
   "id": "22d76d75",
   "metadata": {
    "ExecuteTime": {
     "end_time": "2022-11-16T13:39:34.363928Z",
     "start_time": "2022-11-16T13:39:34.315092Z"
    }
   },
   "outputs": [
    {
     "name": "stdout",
     "output_type": "stream",
     "text": [
      "Adelaide ---> 0\n",
      "AliceSprings ---> 1\n",
      "Brisbane ---> 2\n",
      "Cairns ---> 3\n",
      "Canberra ---> 4\n",
      "Cobar ---> 5\n",
      "CoffsHarbour ---> 6\n",
      "Dartmoor ---> 7\n",
      "Darwin ---> 8\n",
      "Hobart ---> 9\n",
      "Melbourne ---> 10\n",
      "MelbourneAirport ---> 11\n",
      "Mildura ---> 12\n",
      "Moree ---> 13\n",
      "MountGambier ---> 14\n",
      "NorfolkIsland ---> 15\n",
      "Nuriootpa ---> 16\n",
      "Perth ---> 17\n",
      "PerthAirport ---> 18\n",
      "Portland ---> 19\n",
      "Sale ---> 20\n",
      "Sydney ---> 21\n",
      "SydneyAirport ---> 22\n",
      "Townsville ---> 23\n",
      "WaggaWagga ---> 24\n",
      "Watsonia ---> 25\n",
      "Williamtown ---> 26\n",
      "Woomera ---> 27\n"
     ]
    }
   ],
   "source": [
    "df['Location'] = labelEncoder.fit_transform(df['Location'])\n",
    "for i, item in enumerate(labelEncoder.classes_):\n",
    "    print(item, \"--->\", i)"
   ]
  },
  {
   "cell_type": "code",
   "execution_count": 20,
   "id": "dc14da87",
   "metadata": {
    "ExecuteTime": {
     "end_time": "2022-11-16T13:39:38.083039Z",
     "start_time": "2022-11-16T13:39:38.044107Z"
    }
   },
   "outputs": [
    {
     "name": "stdout",
     "output_type": "stream",
     "text": [
      "E ---> 0\n",
      "ENE ---> 1\n",
      "ESE ---> 2\n",
      "N ---> 3\n",
      "NE ---> 4\n",
      "NNE ---> 5\n",
      "NNW ---> 6\n",
      "NW ---> 7\n",
      "S ---> 8\n",
      "SE ---> 9\n",
      "SSE ---> 10\n",
      "SSW ---> 11\n",
      "SW ---> 12\n",
      "W ---> 13\n",
      "WNW ---> 14\n",
      "WSW ---> 15\n"
     ]
    }
   ],
   "source": [
    "df['WindGustDir'] = labelEncoder.fit_transform(df['WindGustDir'])\n",
    "for i, item in enumerate(labelEncoder.classes_):\n",
    "    print(item, \"--->\", i)"
   ]
  },
  {
   "cell_type": "code",
   "execution_count": 21,
   "id": "6045f43c",
   "metadata": {
    "ExecuteTime": {
     "end_time": "2022-11-16T13:39:43.144249Z",
     "start_time": "2022-11-16T13:39:43.087371Z"
    }
   },
   "outputs": [
    {
     "name": "stdout",
     "output_type": "stream",
     "text": [
      "RainToday\n",
      "No ---> 0\n",
      "Yes ---> 1\n",
      "\n",
      "RainTomorrow\n",
      "No ---> 0\n",
      "Yes ---> 1\n"
     ]
    }
   ],
   "source": [
    "print('RainToday')\n",
    "df['RainToday'] = labelEncoder.fit_transform(df['RainToday'])\n",
    "for i, item in enumerate(labelEncoder.classes_):\n",
    "    print(item, \"--->\", i)\n",
    "\n",
    "print('\\nRainTomorrow')\n",
    "df['RainTomorrow'] = labelEncoder.fit_transform(df['RainTomorrow'])\n",
    "for i, item in enumerate(labelEncoder.classes_):\n",
    "    print(item, \"--->\", i)"
   ]
  },
  {
   "cell_type": "markdown",
   "id": "6432cc1f",
   "metadata": {
    "ExecuteTime": {
     "end_time": "2022-11-15T08:39:41.110044Z",
     "start_time": "2022-11-15T08:39:41.072180Z"
    }
   },
   "source": [
    "df['WindGustDir'] = df['WindGustDir'].map({\n",
    "    'W': 0, 'WNW': 1, 'WSW': 2, 'NE': 3, 'NNW': 4, 'N': 5, 'NNE': 6, 'SW': 7, 'ENE': 8,\n",
    "    'SSE': 9, 'S': 10, 'NW': 11, 'SE': 12, 'ESE': 13, 'E': 14, 'SSW': 15\n",
    "})"
   ]
  },
  {
   "cell_type": "code",
   "execution_count": 22,
   "id": "ee45ec33",
   "metadata": {
    "ExecuteTime": {
     "end_time": "2022-11-16T13:41:12.497737Z",
     "start_time": "2022-11-16T13:41:12.477829Z"
    }
   },
   "outputs": [],
   "source": [
    "# Memisahkan feature independent dan dependent\n",
    "X = df.drop(['Date', 'RainToday', 'RainTomorrow'], axis=1)\n",
    "y = df[['RainToday', 'RainTomorrow']]"
   ]
  },
  {
   "cell_type": "code",
   "execution_count": 23,
   "id": "bdb3bc47",
   "metadata": {
    "ExecuteTime": {
     "end_time": "2022-11-16T13:41:23.601687Z",
     "start_time": "2022-11-16T13:41:23.568774Z"
    }
   },
   "outputs": [
    {
     "data": {
      "text/html": [
       "<div>\n",
       "<style scoped>\n",
       "    .dataframe tbody tr th:only-of-type {\n",
       "        vertical-align: middle;\n",
       "    }\n",
       "\n",
       "    .dataframe tbody tr th {\n",
       "        vertical-align: top;\n",
       "    }\n",
       "\n",
       "    .dataframe thead th {\n",
       "        text-align: right;\n",
       "    }\n",
       "</style>\n",
       "<table border=\"1\" class=\"dataframe\">\n",
       "  <thead>\n",
       "    <tr style=\"text-align: right;\">\n",
       "      <th></th>\n",
       "      <th>Location</th>\n",
       "      <th>MinTemp</th>\n",
       "      <th>MaxTemp</th>\n",
       "      <th>Rainfall</th>\n",
       "      <th>Evaporation</th>\n",
       "      <th>Sunshine</th>\n",
       "      <th>WindGustDir</th>\n",
       "      <th>WindGustSpeed</th>\n",
       "    </tr>\n",
       "  </thead>\n",
       "  <tbody>\n",
       "    <tr>\n",
       "      <th>6049</th>\n",
       "      <td>5</td>\n",
       "      <td>17.9</td>\n",
       "      <td>35.2</td>\n",
       "      <td>0.0</td>\n",
       "      <td>12.0</td>\n",
       "      <td>12.3</td>\n",
       "      <td>11</td>\n",
       "      <td>48.0</td>\n",
       "    </tr>\n",
       "    <tr>\n",
       "      <th>6050</th>\n",
       "      <td>5</td>\n",
       "      <td>18.4</td>\n",
       "      <td>28.9</td>\n",
       "      <td>0.0</td>\n",
       "      <td>14.8</td>\n",
       "      <td>13.0</td>\n",
       "      <td>8</td>\n",
       "      <td>37.0</td>\n",
       "    </tr>\n",
       "    <tr>\n",
       "      <th>6051</th>\n",
       "      <td>5</td>\n",
       "      <td>15.5</td>\n",
       "      <td>34.1</td>\n",
       "      <td>0.0</td>\n",
       "      <td>12.6</td>\n",
       "      <td>13.3</td>\n",
       "      <td>9</td>\n",
       "      <td>30.0</td>\n",
       "    </tr>\n",
       "    <tr>\n",
       "      <th>6052</th>\n",
       "      <td>5</td>\n",
       "      <td>19.4</td>\n",
       "      <td>37.6</td>\n",
       "      <td>0.0</td>\n",
       "      <td>10.8</td>\n",
       "      <td>10.6</td>\n",
       "      <td>5</td>\n",
       "      <td>46.0</td>\n",
       "    </tr>\n",
       "    <tr>\n",
       "      <th>6053</th>\n",
       "      <td>5</td>\n",
       "      <td>21.9</td>\n",
       "      <td>38.4</td>\n",
       "      <td>0.0</td>\n",
       "      <td>11.4</td>\n",
       "      <td>12.2</td>\n",
       "      <td>14</td>\n",
       "      <td>31.0</td>\n",
       "    </tr>\n",
       "  </tbody>\n",
       "</table>\n",
       "</div>"
      ],
      "text/plain": [
       "      Location  MinTemp  MaxTemp  Rainfall  Evaporation  Sunshine  \\\n",
       "6049         5     17.9     35.2       0.0         12.0      12.3   \n",
       "6050         5     18.4     28.9       0.0         14.8      13.0   \n",
       "6051         5     15.5     34.1       0.0         12.6      13.3   \n",
       "6052         5     19.4     37.6       0.0         10.8      10.6   \n",
       "6053         5     21.9     38.4       0.0         11.4      12.2   \n",
       "\n",
       "      WindGustDir  WindGustSpeed  \n",
       "6049           11           48.0  \n",
       "6050            8           37.0  \n",
       "6051            9           30.0  \n",
       "6052            5           46.0  \n",
       "6053           14           31.0  "
      ]
     },
     "execution_count": 23,
     "metadata": {},
     "output_type": "execute_result"
    }
   ],
   "source": [
    "X.head()"
   ]
  },
  {
   "cell_type": "code",
   "execution_count": 24,
   "id": "10e207fa",
   "metadata": {
    "ExecuteTime": {
     "end_time": "2022-11-16T13:41:24.965424Z",
     "start_time": "2022-11-16T13:41:24.941489Z"
    },
    "scrolled": true
   },
   "outputs": [
    {
     "data": {
      "text/html": [
       "<div>\n",
       "<style scoped>\n",
       "    .dataframe tbody tr th:only-of-type {\n",
       "        vertical-align: middle;\n",
       "    }\n",
       "\n",
       "    .dataframe tbody tr th {\n",
       "        vertical-align: top;\n",
       "    }\n",
       "\n",
       "    .dataframe thead th {\n",
       "        text-align: right;\n",
       "    }\n",
       "</style>\n",
       "<table border=\"1\" class=\"dataframe\">\n",
       "  <thead>\n",
       "    <tr style=\"text-align: right;\">\n",
       "      <th></th>\n",
       "      <th>RainToday</th>\n",
       "      <th>RainTomorrow</th>\n",
       "    </tr>\n",
       "  </thead>\n",
       "  <tbody>\n",
       "    <tr>\n",
       "      <th>6049</th>\n",
       "      <td>0</td>\n",
       "      <td>0</td>\n",
       "    </tr>\n",
       "    <tr>\n",
       "      <th>6050</th>\n",
       "      <td>0</td>\n",
       "      <td>0</td>\n",
       "    </tr>\n",
       "    <tr>\n",
       "      <th>6051</th>\n",
       "      <td>0</td>\n",
       "      <td>0</td>\n",
       "    </tr>\n",
       "    <tr>\n",
       "      <th>6052</th>\n",
       "      <td>0</td>\n",
       "      <td>0</td>\n",
       "    </tr>\n",
       "    <tr>\n",
       "      <th>6053</th>\n",
       "      <td>0</td>\n",
       "      <td>0</td>\n",
       "    </tr>\n",
       "  </tbody>\n",
       "</table>\n",
       "</div>"
      ],
      "text/plain": [
       "      RainToday  RainTomorrow\n",
       "6049          0             0\n",
       "6050          0             0\n",
       "6051          0             0\n",
       "6052          0             0\n",
       "6053          0             0"
      ]
     },
     "execution_count": 24,
     "metadata": {},
     "output_type": "execute_result"
    }
   ],
   "source": [
    "y.head()"
   ]
  },
  {
   "cell_type": "markdown",
   "id": "b3280e48",
   "metadata": {},
   "source": [
    "**Normalize Data**"
   ]
  },
  {
   "cell_type": "code",
   "execution_count": 25,
   "id": "a240670e",
   "metadata": {
    "ExecuteTime": {
     "end_time": "2022-11-16T13:41:30.721656Z",
     "start_time": "2022-11-16T13:41:30.699720Z"
    }
   },
   "outputs": [],
   "source": [
    "# Melakukan penskalaan data\n",
    "# sc = StandardScaler()\n",
    "# sc_X = sc.fit_transform(X)\n",
    "\n",
    "# Melakukan normalisasi data\n",
    "norm_X = normalize(X)"
   ]
  },
  {
   "cell_type": "code",
   "execution_count": 26,
   "id": "f98d3864",
   "metadata": {
    "ExecuteTime": {
     "end_time": "2022-11-16T13:41:33.199747Z",
     "start_time": "2022-11-16T13:41:33.172819Z"
    }
   },
   "outputs": [
    {
     "data": {
      "text/html": [
       "<div>\n",
       "<style scoped>\n",
       "    .dataframe tbody tr th:only-of-type {\n",
       "        vertical-align: middle;\n",
       "    }\n",
       "\n",
       "    .dataframe tbody tr th {\n",
       "        vertical-align: top;\n",
       "    }\n",
       "\n",
       "    .dataframe thead th {\n",
       "        text-align: right;\n",
       "    }\n",
       "</style>\n",
       "<table border=\"1\" class=\"dataframe\">\n",
       "  <thead>\n",
       "    <tr style=\"text-align: right;\">\n",
       "      <th></th>\n",
       "      <th>Location</th>\n",
       "      <th>MinTemp</th>\n",
       "      <th>MaxTemp</th>\n",
       "      <th>Rainfall</th>\n",
       "      <th>Evaporation</th>\n",
       "      <th>Sunshine</th>\n",
       "      <th>WindGustDir</th>\n",
       "      <th>WindGustSpeed</th>\n",
       "    </tr>\n",
       "  </thead>\n",
       "  <tbody>\n",
       "    <tr>\n",
       "      <th>0</th>\n",
       "      <td>0.076207</td>\n",
       "      <td>0.272822</td>\n",
       "      <td>0.536499</td>\n",
       "      <td>0.0</td>\n",
       "      <td>0.182898</td>\n",
       "      <td>0.187470</td>\n",
       "      <td>0.167656</td>\n",
       "      <td>0.731590</td>\n",
       "    </tr>\n",
       "    <tr>\n",
       "      <th>1</th>\n",
       "      <td>0.090987</td>\n",
       "      <td>0.334833</td>\n",
       "      <td>0.525906</td>\n",
       "      <td>0.0</td>\n",
       "      <td>0.269322</td>\n",
       "      <td>0.236567</td>\n",
       "      <td>0.145579</td>\n",
       "      <td>0.673305</td>\n",
       "    </tr>\n",
       "    <tr>\n",
       "      <th>2</th>\n",
       "      <td>0.095438</td>\n",
       "      <td>0.295858</td>\n",
       "      <td>0.650888</td>\n",
       "      <td>0.0</td>\n",
       "      <td>0.240504</td>\n",
       "      <td>0.253865</td>\n",
       "      <td>0.171789</td>\n",
       "      <td>0.572629</td>\n",
       "    </tr>\n",
       "    <tr>\n",
       "      <th>3</th>\n",
       "      <td>0.077289</td>\n",
       "      <td>0.299880</td>\n",
       "      <td>0.581211</td>\n",
       "      <td>0.0</td>\n",
       "      <td>0.166944</td>\n",
       "      <td>0.163852</td>\n",
       "      <td>0.077289</td>\n",
       "      <td>0.711056</td>\n",
       "    </tr>\n",
       "    <tr>\n",
       "      <th>4</th>\n",
       "      <td>0.085561</td>\n",
       "      <td>0.374758</td>\n",
       "      <td>0.657110</td>\n",
       "      <td>0.0</td>\n",
       "      <td>0.195079</td>\n",
       "      <td>0.208769</td>\n",
       "      <td>0.239571</td>\n",
       "      <td>0.530479</td>\n",
       "    </tr>\n",
       "  </tbody>\n",
       "</table>\n",
       "</div>"
      ],
      "text/plain": [
       "   Location   MinTemp   MaxTemp  Rainfall  Evaporation  Sunshine  WindGustDir  \\\n",
       "0  0.076207  0.272822  0.536499       0.0     0.182898  0.187470     0.167656   \n",
       "1  0.090987  0.334833  0.525906       0.0     0.269322  0.236567     0.145579   \n",
       "2  0.095438  0.295858  0.650888       0.0     0.240504  0.253865     0.171789   \n",
       "3  0.077289  0.299880  0.581211       0.0     0.166944  0.163852     0.077289   \n",
       "4  0.085561  0.374758  0.657110       0.0     0.195079  0.208769     0.239571   \n",
       "\n",
       "   WindGustSpeed  \n",
       "0       0.731590  \n",
       "1       0.673305  \n",
       "2       0.572629  \n",
       "3       0.711056  \n",
       "4       0.530479  "
      ]
     },
     "execution_count": 26,
     "metadata": {},
     "output_type": "execute_result"
    }
   ],
   "source": [
    "feat_cols = ['Location', 'MinTemp', 'MaxTemp', 'Rainfall', 'Evaporation', 'Sunshine', 'WindGustDir', 'WindGustSpeed']\n",
    "X = pd.DataFrame(norm_X, columns=feat_cols)\n",
    "X.head()"
   ]
  },
  {
   "cell_type": "markdown",
   "id": "fa8f3627",
   "metadata": {},
   "source": [
    "**Data Split**"
   ]
  },
  {
   "cell_type": "code",
   "execution_count": 27,
   "id": "49c6a137",
   "metadata": {
    "ExecuteTime": {
     "end_time": "2022-11-16T13:43:04.364746Z",
     "start_time": "2022-11-16T13:43:04.337784Z"
    }
   },
   "outputs": [],
   "source": [
    "# Memisahkan data train dan test\n",
    "X_train, X_test, y_train, y_test = train_test_split(X, y, test_size=0.2, random_state=0)"
   ]
  },
  {
   "cell_type": "markdown",
   "id": "bff439a5",
   "metadata": {},
   "source": [
    "### Model Defining"
   ]
  },
  {
   "cell_type": "markdown",
   "id": "f9211aa5",
   "metadata": {},
   "source": [
    "**Logistic Regression**"
   ]
  },
  {
   "cell_type": "code",
   "execution_count": 28,
   "id": "6cb14c63",
   "metadata": {
    "ExecuteTime": {
     "end_time": "2022-11-16T13:43:12.723834Z",
     "start_time": "2022-11-16T13:43:12.703889Z"
    }
   },
   "outputs": [],
   "source": [
    "modelLR = LogisticRegression(solver='sag', max_iter=50)"
   ]
  },
  {
   "cell_type": "markdown",
   "id": "70c46891",
   "metadata": {},
   "source": [
    "**Support Vector Machine**"
   ]
  },
  {
   "cell_type": "code",
   "execution_count": 29,
   "id": "9c72b751",
   "metadata": {
    "ExecuteTime": {
     "end_time": "2022-11-16T13:43:15.701944Z",
     "start_time": "2022-11-16T13:43:15.694964Z"
    }
   },
   "outputs": [],
   "source": [
    "modelSVM = svm.SVC(kernel='poly')"
   ]
  },
  {
   "cell_type": "markdown",
   "id": "546184f9",
   "metadata": {},
   "source": [
    "### Model Training"
   ]
  },
  {
   "cell_type": "markdown",
   "id": "6caf5aa8",
   "metadata": {},
   "source": [
    "**Logistic Regression**"
   ]
  },
  {
   "cell_type": "code",
   "execution_count": 30,
   "id": "482356e7",
   "metadata": {
    "ExecuteTime": {
     "end_time": "2022-11-16T13:43:20.122344Z",
     "start_time": "2022-11-16T13:43:19.873558Z"
    },
    "scrolled": false
   },
   "outputs": [
    {
     "data": {
      "text/plain": [
       "LogisticRegression(max_iter=50, solver='sag')"
      ]
     },
     "execution_count": 30,
     "metadata": {},
     "output_type": "execute_result"
    }
   ],
   "source": [
    "modelLR.fit(X_train, y_train['RainToday'])"
   ]
  },
  {
   "cell_type": "markdown",
   "id": "19895074",
   "metadata": {},
   "source": [
    "**Support Vector Machine**"
   ]
  },
  {
   "cell_type": "code",
   "execution_count": 31,
   "id": "e831c575",
   "metadata": {
    "ExecuteTime": {
     "end_time": "2022-11-16T13:43:28.815336Z",
     "start_time": "2022-11-16T13:43:23.528511Z"
    }
   },
   "outputs": [
    {
     "data": {
      "text/plain": [
       "SVC(kernel='poly')"
      ]
     },
     "execution_count": 31,
     "metadata": {},
     "output_type": "execute_result"
    }
   ],
   "source": [
    "modelSVM.fit(X_train, y_train['RainToday'])"
   ]
  },
  {
   "cell_type": "markdown",
   "id": "2540d592",
   "metadata": {},
   "source": [
    "### Model Evaluation"
   ]
  },
  {
   "cell_type": "markdown",
   "id": "f9c92eb3",
   "metadata": {},
   "source": [
    "**Logistic Regression**"
   ]
  },
  {
   "cell_type": "code",
   "execution_count": 32,
   "id": "20d19526",
   "metadata": {
    "ExecuteTime": {
     "end_time": "2022-11-16T13:43:38.419717Z",
     "start_time": "2022-11-16T13:43:38.396811Z"
    },
    "scrolled": false
   },
   "outputs": [
    {
     "name": "stdout",
     "output_type": "stream",
     "text": [
      "[[10245     0]\n",
      " [  487  2461]]\n"
     ]
    }
   ],
   "source": [
    "predLR = modelLR.predict(X_test)\n",
    "accurLR = accuracy_score(y_test['RainToday'], predLR)\n",
    "mseLR = mean_squared_error(predLR, y_test['RainToday'])\n",
    "rmseLR = np.sqrt(mean_squared_error(predLR, y_test['RainToday']))\n",
    "matrixLR = confusion_matrix(y_test['RainToday'], predLR)\n",
    "\n",
    "print(matrixLR)"
   ]
  },
  {
   "cell_type": "markdown",
   "id": "c2ff63c8",
   "metadata": {},
   "source": [
    "**Support Vector Machine**"
   ]
  },
  {
   "cell_type": "code",
   "execution_count": 33,
   "id": "988fe056",
   "metadata": {
    "ExecuteTime": {
     "end_time": "2022-11-16T13:43:48.441339Z",
     "start_time": "2022-11-16T13:43:47.506871Z"
    }
   },
   "outputs": [
    {
     "name": "stdout",
     "output_type": "stream",
     "text": [
      "[[10214    31]\n",
      " [   60  2888]]\n"
     ]
    }
   ],
   "source": [
    "predSVM = modelSVM.predict(X_test)\n",
    "accurSVM = accuracy_score(y_test['RainToday'], predSVM)\n",
    "mseSVM = mean_squared_error(predSVM, y_test['RainToday'])\n",
    "rmseSVM = np.sqrt(mean_squared_error(predSVM, y_test['RainToday']))\n",
    "matrixSVM = confusion_matrix(y_test['RainToday'], predSVM)\n",
    "\n",
    "print(matrixSVM)"
   ]
  },
  {
   "cell_type": "markdown",
   "id": "7b8a669f",
   "metadata": {},
   "source": [
    "**Comparison**"
   ]
  },
  {
   "cell_type": "code",
   "execution_count": 34,
   "id": "81534bfc",
   "metadata": {
    "ExecuteTime": {
     "end_time": "2022-11-16T13:44:04.452061Z",
     "start_time": "2022-11-16T13:44:04.426130Z"
    }
   },
   "outputs": [
    {
     "data": {
      "text/html": [
       "<div>\n",
       "<style scoped>\n",
       "    .dataframe tbody tr th:only-of-type {\n",
       "        vertical-align: middle;\n",
       "    }\n",
       "\n",
       "    .dataframe tbody tr th {\n",
       "        vertical-align: top;\n",
       "    }\n",
       "\n",
       "    .dataframe thead th {\n",
       "        text-align: right;\n",
       "    }\n",
       "</style>\n",
       "<table border=\"1\" class=\"dataframe\">\n",
       "  <thead>\n",
       "    <tr style=\"text-align: right;\">\n",
       "      <th></th>\n",
       "      <th>Logistic Regression</th>\n",
       "      <th>Support Vector Machine</th>\n",
       "    </tr>\n",
       "  </thead>\n",
       "  <tbody>\n",
       "    <tr>\n",
       "      <th>Accuracy Score</th>\n",
       "      <td>0.963086</td>\n",
       "      <td>0.993102</td>\n",
       "    </tr>\n",
       "    <tr>\n",
       "      <th>MSE Score</th>\n",
       "      <td>0.036914</td>\n",
       "      <td>0.006898</td>\n",
       "    </tr>\n",
       "    <tr>\n",
       "      <th>RMSE Score</th>\n",
       "      <td>0.192129</td>\n",
       "      <td>0.083052</td>\n",
       "    </tr>\n",
       "  </tbody>\n",
       "</table>\n",
       "</div>"
      ],
      "text/plain": [
       "                Logistic Regression  Support Vector Machine\n",
       "Accuracy Score             0.963086                0.993102\n",
       "MSE Score                  0.036914                0.006898\n",
       "RMSE Score                 0.192129                0.083052"
      ]
     },
     "execution_count": 34,
     "metadata": {},
     "output_type": "execute_result"
    }
   ],
   "source": [
    "modelSlc = pd.DataFrame(data={'Logistic Regression': [accurLR, mseLR, rmseLR],\n",
    "                              'Support Vector Machine': [accurSVM, mseSVM, rmseSVM]},\n",
    "                       index=['Accuracy Score', 'MSE Score', 'RMSE Score'])\n",
    "modelSlc"
   ]
  },
  {
   "cell_type": "markdown",
   "id": "6602d529",
   "metadata": {},
   "source": [
    "### Model Inference"
   ]
  },
  {
   "cell_type": "code",
   "execution_count": 35,
   "id": "5dd01026",
   "metadata": {
    "ExecuteTime": {
     "end_time": "2022-11-16T13:44:16.958298Z",
     "start_time": "2022-11-16T13:44:16.926347Z"
    }
   },
   "outputs": [
    {
     "data": {
      "text/html": [
       "<div>\n",
       "<style scoped>\n",
       "    .dataframe tbody tr th:only-of-type {\n",
       "        vertical-align: middle;\n",
       "    }\n",
       "\n",
       "    .dataframe tbody tr th {\n",
       "        vertical-align: top;\n",
       "    }\n",
       "\n",
       "    .dataframe thead th {\n",
       "        text-align: right;\n",
       "    }\n",
       "</style>\n",
       "<table border=\"1\" class=\"dataframe\">\n",
       "  <thead>\n",
       "    <tr style=\"text-align: right;\">\n",
       "      <th></th>\n",
       "      <th>Location</th>\n",
       "      <th>MinTemp</th>\n",
       "      <th>MaxTemp</th>\n",
       "      <th>Rainfall</th>\n",
       "      <th>Evaporation</th>\n",
       "      <th>Sunshine</th>\n",
       "      <th>WindGustDir</th>\n",
       "      <th>WindGustSpeed</th>\n",
       "    </tr>\n",
       "  </thead>\n",
       "  <tbody>\n",
       "    <tr>\n",
       "      <th>0</th>\n",
       "      <td>1</td>\n",
       "      <td>13.4</td>\n",
       "      <td>22.9</td>\n",
       "      <td>0.6</td>\n",
       "      <td>8.0</td>\n",
       "      <td>8.0</td>\n",
       "      <td>13</td>\n",
       "      <td>44.0</td>\n",
       "    </tr>\n",
       "    <tr>\n",
       "      <th>1</th>\n",
       "      <td>2</td>\n",
       "      <td>23.3</td>\n",
       "      <td>39.4</td>\n",
       "      <td>4.8</td>\n",
       "      <td>12.0</td>\n",
       "      <td>10.9</td>\n",
       "      <td>13</td>\n",
       "      <td>59.0</td>\n",
       "    </tr>\n",
       "  </tbody>\n",
       "</table>\n",
       "</div>"
      ],
      "text/plain": [
       "   Location  MinTemp  MaxTemp  Rainfall  Evaporation  Sunshine  WindGustDir  \\\n",
       "0         1     13.4     22.9       0.6          8.0       8.0           13   \n",
       "1         2     23.3     39.4       4.8         12.0      10.9           13   \n",
       "\n",
       "   WindGustSpeed  \n",
       "0           44.0  \n",
       "1           59.0  "
      ]
     },
     "execution_count": 35,
     "metadata": {},
     "output_type": "execute_result"
    }
   ],
   "source": [
    "X_inf = pd.DataFrame(data={'Location': [1, 2], 'MinTemp': [13.4, 23.3],\n",
    "                           'MaxTemp': [22.9, 39.4], 'Rainfall': [0.6, 4.8], \n",
    "                           'Evaporation': [8.0, 12.0], 'Sunshine': [8.0, 10.9],\n",
    "                           'WindGustDir': [13, 13], 'WindGustSpeed': [44.0, 59.0]})\n",
    "X_inf"
   ]
  },
  {
   "cell_type": "code",
   "execution_count": 36,
   "id": "71c4885b",
   "metadata": {
    "ExecuteTime": {
     "end_time": "2022-11-16T13:44:20.013276Z",
     "start_time": "2022-11-16T13:44:19.996323Z"
    }
   },
   "outputs": [],
   "source": [
    "X_inf = normalize(X_inf)"
   ]
  },
  {
   "cell_type": "code",
   "execution_count": 37,
   "id": "0b234772",
   "metadata": {
    "ExecuteTime": {
     "end_time": "2022-11-16T13:44:21.824157Z",
     "start_time": "2022-11-16T13:44:21.802214Z"
    }
   },
   "outputs": [
    {
     "data": {
      "text/html": [
       "<div>\n",
       "<style scoped>\n",
       "    .dataframe tbody tr th:only-of-type {\n",
       "        vertical-align: middle;\n",
       "    }\n",
       "\n",
       "    .dataframe tbody tr th {\n",
       "        vertical-align: top;\n",
       "    }\n",
       "\n",
       "    .dataframe thead th {\n",
       "        text-align: right;\n",
       "    }\n",
       "</style>\n",
       "<table border=\"1\" class=\"dataframe\">\n",
       "  <thead>\n",
       "    <tr style=\"text-align: right;\">\n",
       "      <th></th>\n",
       "      <th>Location</th>\n",
       "      <th>MinTemp</th>\n",
       "      <th>MaxTemp</th>\n",
       "      <th>Rainfall</th>\n",
       "      <th>Evaporation</th>\n",
       "      <th>Sunshine</th>\n",
       "      <th>WindGustDir</th>\n",
       "      <th>WindGustSpeed</th>\n",
       "    </tr>\n",
       "  </thead>\n",
       "  <tbody>\n",
       "    <tr>\n",
       "      <th>0</th>\n",
       "      <td>0.018448</td>\n",
       "      <td>0.247203</td>\n",
       "      <td>0.422460</td>\n",
       "      <td>0.011069</td>\n",
       "      <td>0.147584</td>\n",
       "      <td>0.147584</td>\n",
       "      <td>0.239824</td>\n",
       "      <td>0.811713</td>\n",
       "    </tr>\n",
       "    <tr>\n",
       "      <th>1</th>\n",
       "      <td>0.025745</td>\n",
       "      <td>0.299926</td>\n",
       "      <td>0.507171</td>\n",
       "      <td>0.061787</td>\n",
       "      <td>0.154468</td>\n",
       "      <td>0.140309</td>\n",
       "      <td>0.167341</td>\n",
       "      <td>0.759469</td>\n",
       "    </tr>\n",
       "  </tbody>\n",
       "</table>\n",
       "</div>"
      ],
      "text/plain": [
       "   Location   MinTemp   MaxTemp  Rainfall  Evaporation  Sunshine  WindGustDir  \\\n",
       "0  0.018448  0.247203  0.422460  0.011069     0.147584  0.147584     0.239824   \n",
       "1  0.025745  0.299926  0.507171  0.061787     0.154468  0.140309     0.167341   \n",
       "\n",
       "   WindGustSpeed  \n",
       "0       0.811713  \n",
       "1       0.759469  "
      ]
     },
     "execution_count": 37,
     "metadata": {},
     "output_type": "execute_result"
    }
   ],
   "source": [
    "feat_cols = ['Location', 'MinTemp', 'MaxTemp', 'Rainfall', 'Evaporation', 'Sunshine', 'WindGustDir', 'WindGustSpeed']\n",
    "X_inf = pd.DataFrame(X_inf, columns=feat_cols)\n",
    "X_inf"
   ]
  },
  {
   "cell_type": "code",
   "execution_count": 38,
   "id": "691f5199",
   "metadata": {
    "ExecuteTime": {
     "end_time": "2022-11-16T13:44:25.503139Z",
     "start_time": "2022-11-16T13:44:25.487216Z"
    }
   },
   "outputs": [
    {
     "data": {
      "text/plain": [
       "array([0, 1])"
      ]
     },
     "execution_count": 38,
     "metadata": {},
     "output_type": "execute_result"
    }
   ],
   "source": [
    "modelLR.predict(X_inf.iloc[0:2])"
   ]
  },
  {
   "cell_type": "code",
   "execution_count": 39,
   "id": "be6e1983",
   "metadata": {
    "ExecuteTime": {
     "end_time": "2022-11-16T13:44:26.670730Z",
     "start_time": "2022-11-16T13:44:26.647793Z"
    }
   },
   "outputs": [
    {
     "data": {
      "text/plain": [
       "array([0, 1])"
      ]
     },
     "execution_count": 39,
     "metadata": {},
     "output_type": "execute_result"
    }
   ],
   "source": [
    "modelSVM.predict(X_inf)"
   ]
  },
  {
   "cell_type": "markdown",
   "id": "4831a5bd",
   "metadata": {},
   "source": [
    "### Conclusions"
   ]
  },
  {
   "cell_type": "markdown",
   "id": "433877f5",
   "metadata": {},
   "source": [
    "Dari hasil yang telah didapatkan dari analisis di atas, diperoleh kesimpulan bahwa model Support Vector Machine memiliki tingkat error yang lebih sedikit dibandingkan dengan model Logistic Regression. Namun, jika dilihat dari kecepatan komputasi model Logistic Regression lebih cepat dibandingkan dengan model Support Vector Machine dalam waktu eksekusi model train maupun test."
   ]
  },
  {
   "cell_type": "markdown",
   "id": "dc556707",
   "metadata": {},
   "source": [
    "**Save Model**"
   ]
  },
  {
   "cell_type": "code",
   "execution_count": 40,
   "id": "20659e5b",
   "metadata": {
    "ExecuteTime": {
     "end_time": "2022-11-16T13:45:43.772325Z",
     "start_time": "2022-11-16T13:45:43.756366Z"
    }
   },
   "outputs": [],
   "source": [
    "# Save trained model Logistic Regression\n",
    "pickle.dump(modelLR, open('model_classifier.pkl', 'wb'))"
   ]
  },
  {
   "cell_type": "code",
   "execution_count": null,
   "id": "ab27a65a",
   "metadata": {},
   "outputs": [],
   "source": []
  }
 ],
 "metadata": {
  "kernelspec": {
   "display_name": "Python 3 (ipykernel)",
   "language": "python",
   "name": "python3"
  },
  "language_info": {
   "codemirror_mode": {
    "name": "ipython",
    "version": 3
   },
   "file_extension": ".py",
   "mimetype": "text/x-python",
   "name": "python",
   "nbconvert_exporter": "python",
   "pygments_lexer": "ipython3",
   "version": "3.9.12"
  },
  "toc": {
   "base_numbering": 1,
   "nav_menu": {},
   "number_sections": true,
   "sideBar": true,
   "skip_h1_title": false,
   "title_cell": "Table of Contents",
   "title_sidebar": "Contents",
   "toc_cell": false,
   "toc_position": {},
   "toc_section_display": true,
   "toc_window_display": false
  }
 },
 "nbformat": 4,
 "nbformat_minor": 5
}
