{
 "cells": [
  {
   "cell_type": "markdown",
   "id": "4285a445",
   "metadata": {},
   "source": [
    "## Function, Module, dan Package"
   ]
  },
  {
   "cell_type": "code",
   "execution_count": 1,
   "id": "0eb257e3",
   "metadata": {},
   "outputs": [
    {
     "name": "stdout",
     "output_type": "stream",
     "text": [
      "hello world!\n"
     ]
    }
   ],
   "source": [
    "# Python built-in function :: bawaan\n",
    "print('hello world!')"
   ]
  },
  {
   "cell_type": "markdown",
   "id": "75fa8642",
   "metadata": {},
   "source": [
    "#### User defined function :: yang dibuat user\n",
    "\n",
    "def [nama_fungsi] ([paramater1], [paramater2], [paramater if any]): # function declaration, function signature\n",
    "\n",
    "#### retrieve docstring\n",
    "function_name.doc"
   ]
  },
  {
   "cell_type": "code",
   "execution_count": 2,
   "id": "9cbd00a2",
   "metadata": {},
   "outputs": [],
   "source": [
    "def greeting():\n",
    "    '''Fungsi ini akan menampilkan pesan default yaitu Hello World!'''\n",
    "    print('Hello World!')"
   ]
  },
  {
   "cell_type": "markdown",
   "id": "6b9ed689",
   "metadata": {},
   "source": [
    "dir(greeting)\n",
    "\n",
    "untuk melihat method"
   ]
  },
  {
   "cell_type": "code",
   "execution_count": 9,
   "id": "fac896ff",
   "metadata": {},
   "outputs": [
    {
     "name": "stdout",
     "output_type": "stream",
     "text": [
      "Hello World!\n"
     ]
    },
    {
     "data": {
      "text/plain": [
       "'Fungsi ini akan menampilkan pesan default yaitu Hello World!'"
      ]
     },
     "execution_count": 9,
     "metadata": {},
     "output_type": "execute_result"
    }
   ],
   "source": [
    "# evoke # trigger # \n",
    "greeting()\n",
    "greeting.__doc__"
   ]
  },
  {
   "cell_type": "markdown",
   "id": "d1a3bff4",
   "metadata": {},
   "source": [
    "docstring\n",
    "'''\n",
    "    Overview function\n",
    "    inputnya apa aja: (tipenya int/str/bool)\n",
    "    outputnya apa aja\n",
    "'''"
   ]
  },
  {
   "cell_type": "code",
   "execution_count": 13,
   "id": "acbd595d",
   "metadata": {},
   "outputs": [
    {
     "name": "stdout",
     "output_type": "stream",
     "text": [
      "12\n"
     ]
    }
   ],
   "source": [
    "def luasPersegi(p, l):\n",
    "    '''Function untuk menghitung luas'''\n",
    "    print(p * l)\n",
    "    # return\n",
    "\n",
    "luasPersegi(4, 3)"
   ]
  },
  {
   "cell_type": "code",
   "execution_count": 15,
   "id": "8e96d4c8",
   "metadata": {},
   "outputs": [
    {
     "name": "stdout",
     "output_type": "stream",
     "text": [
      "Nana\n"
     ]
    }
   ],
   "source": [
    "def printMe(str):\n",
    "    '''Function untuk menampilkan string'''\n",
    "    print(str)\n",
    "    \n",
    "printMe('Nana')"
   ]
  },
  {
   "cell_type": "code",
   "execution_count": 16,
   "id": "69687856",
   "metadata": {},
   "outputs": [
    {
     "name": "stdout",
     "output_type": "stream",
     "text": [
      "('Pemanggilan ke ', 0)\n",
      "('Pemanggilan ke ', 1)\n",
      "('Pemanggilan ke ', 2)\n",
      "('Pemanggilan ke ', 3)\n",
      "('Pemanggilan ke ', 4)\n"
     ]
    }
   ],
   "source": [
    "for i in range(5):\n",
    "    printMe((\"Pemanggilan ke \", i))"
   ]
  },
  {
   "cell_type": "code",
   "execution_count": 17,
   "id": "85452859",
   "metadata": {},
   "outputs": [
    {
     "name": "stdout",
     "output_type": "stream",
     "text": [
      "Values inside the function:  [0, 5, 5, [1, 2, 3, 4]]\n"
     ]
    }
   ],
   "source": [
    "def changeme(mylist):\n",
    "    mylist.append([1, 2, 3, 4])\n",
    "    print(\"Values inside the function: \", mylist)\n",
    "    return\n",
    "\n",
    "changeme([0, 5, 5])"
   ]
  },
  {
   "cell_type": "code",
   "execution_count": 20,
   "id": "9d39e53c",
   "metadata": {},
   "outputs": [
    {
     "name": "stdout",
     "output_type": "stream",
     "text": [
      "Values inside the function:  [0, 5, 5, '7', '6', '6']\n",
      "Values inside the function:  hello 766\n"
     ]
    }
   ],
   "source": [
    "def changestr(mystr):\n",
    "    mystr += '766'\n",
    "    print(\"Values inside the function: \", mystr)\n",
    "    return\n",
    "\n",
    "changestr([0, 5, 5])\n",
    "changestr(\"hello \")"
   ]
  },
  {
   "cell_type": "code",
   "execution_count": 22,
   "id": "1cd7e681",
   "metadata": {},
   "outputs": [
    {
     "name": "stdout",
     "output_type": "stream",
     "text": [
      "Values inside the function:  [1, 2, 3, 4]\n",
      "Values inside the function:  [10, 20, 30]\n"
     ]
    }
   ],
   "source": [
    "def changeme(mylist):\n",
    "    mylist = ([1, 2, 3, 4])\n",
    "    print(\"Values inside the function: \", mylist)\n",
    "    return\n",
    "\n",
    "mylist = [10, 20, 30]\n",
    "changeme(mylist) # berubah\n",
    "print(\"Values inside the function: \", mylist) # tidak berubah"
   ]
  },
  {
   "cell_type": "code",
   "execution_count": 24,
   "id": "eba39041",
   "metadata": {},
   "outputs": [
    {
     "name": "stdout",
     "output_type": "stream",
     "text": [
      "Name: 20\n",
      "Age: nana\n"
     ]
    }
   ],
   "source": [
    "def print_info(name, age):\n",
    "    print(\"Name:\", name)\n",
    "    print(\"Age:\", age)\n",
    "    return\n",
    "\n",
    "print_info(20, \"nana\")"
   ]
  },
  {
   "cell_type": "code",
   "execution_count": 29,
   "id": "2a808732",
   "metadata": {},
   "outputs": [
    {
     "name": "stdout",
     "output_type": "stream",
     "text": [
      "Name: nana\n",
      "Age: 20\n"
     ]
    }
   ],
   "source": [
    "# Keyword argument\n",
    "nana=\n",
    "print_info(age=20, name=\"nana\")"
   ]
  },
  {
   "cell_type": "code",
   "execution_count": 30,
   "id": "7cfce4eb",
   "metadata": {},
   "outputs": [
    {
     "name": "stdout",
     "output_type": "stream",
     "text": [
      "Name: nana\n",
      "Age: 17\n"
     ]
    }
   ],
   "source": [
    "def print_info(name, age=17):\n",
    "    print(\"Name:\", name)\n",
    "    print(\"Age:\", age)\n",
    "    return\n",
    "\n",
    "print_info(\"nana\")"
   ]
  },
  {
   "cell_type": "code",
   "execution_count": 33,
   "id": "e2516f9b",
   "metadata": {},
   "outputs": [
    {
     "name": "stdout",
     "output_type": "stream",
     "text": [
      "Output is: \n",
      "10\n",
      "\n",
      "\n",
      "Output is: \n",
      "1\n",
      "2\n",
      "3\n",
      "a\n",
      "b\n"
     ]
    }
   ],
   "source": [
    "def print_info(arg1, *vartuple):\n",
    "    print(\"Output is: \")\n",
    "    print(arg1)\n",
    "    \n",
    "    for var in vartuple:\n",
    "        print(var)\n",
    "    \n",
    "    return\n",
    "\n",
    "print_info(10)\n",
    "#         arg1\n",
    "print(\"\\n\")\n",
    "print_info(1, 2, 3, \"a\", \"b\")\n",
    "#         arg1, *vartuple = 2, 3, \"a\", \"b\""
   ]
  },
  {
   "cell_type": "code",
   "execution_count": 38,
   "id": "e032aebd",
   "metadata": {},
   "outputs": [
    {
     "name": "stdout",
     "output_type": "stream",
     "text": [
      "Customer name:  nana\n",
      "item ke first :  egg\n",
      "item ke second :  sugar\n",
      "item ke third :  salt\n",
      "Customer name:  fufu\n",
      "item ke stationary :  ('buku', 'pulpen')\n",
      "item ke detergent :  detergent x\n"
     ]
    }
   ],
   "source": [
    "# Function definition is here\n",
    "def buy(cust_name, **items):\n",
    "    print(\"Customer name: \", cust_name)\n",
    "    \n",
    "    for i in items:\n",
    "        print(\"item ke\", i, \": \", items[i])\n",
    "    \n",
    "    return\n",
    "\n",
    "buy(\"nana\", first=\"egg\", second=\"sugar\", third=\"salt\")\n",
    "\n",
    "buy(\"fufu\", stationary=(\"buku\", \"pulpen\"), detergent=\"detergent x\")"
   ]
  },
  {
   "cell_type": "code",
   "execution_count": 45,
   "id": "c1f78449",
   "metadata": {},
   "outputs": [
    {
     "name": "stdout",
     "output_type": "stream",
     "text": [
      "20\n"
     ]
    }
   ],
   "source": [
    "def calculate_area(p, l):\n",
    "    print(p * l)\n",
    "    return\n",
    "\n",
    "area = lambda p, l: p * l\n",
    "print(area(5, 4))\n"
   ]
  },
  {
   "cell_type": "code",
   "execution_count": 52,
   "id": "408539c4",
   "metadata": {},
   "outputs": [
    {
     "name": "stdout",
     "output_type": "stream",
     "text": [
      "30\n",
      "40\n"
     ]
    }
   ],
   "source": [
    "def suma(arg1, arg2):\n",
    "    total = arg1 + arg2\n",
    "    total2 = total + arg1\n",
    "    print(total)\n",
    "    return total2\n",
    "\n",
    "x = suma(10, 20)\n",
    "print(x)"
   ]
  },
  {
   "cell_type": "code",
   "execution_count": 54,
   "id": "e0604603",
   "metadata": {},
   "outputs": [
    {
     "name": "stdout",
     "output_type": "stream",
     "text": [
      "40\n"
     ]
    }
   ],
   "source": [
    "jumlahKucing = 20\n",
    "\n",
    "def jumlahHewan():\n",
    "    return jumlahKucing + jumlahKucing\n",
    "\n",
    "print(jumlahHewan())"
   ]
  },
  {
   "cell_type": "code",
   "execution_count": 55,
   "id": "7d01c145",
   "metadata": {},
   "outputs": [],
   "source": [
    "import mod"
   ]
  },
  {
   "cell_type": "code",
   "execution_count": 62,
   "id": "60144acf",
   "metadata": {},
   "outputs": [
    {
     "name": "stdout",
     "output_type": "stream",
     "text": [
      "Hacktiv8\n",
      "[100, 200, 300]\n",
      "arg = 12\n",
      "None\n",
      "<mod.Foo object at 0x00000171731EF280>\n"
     ]
    }
   ],
   "source": [
    "print(mod.s)\n",
    "print(mod.a)\n",
    "print(mod.foo(12))\n",
    "print(mod.Foo())"
   ]
  },
  {
   "cell_type": "code",
   "execution_count": 63,
   "id": "6b4ac01a",
   "metadata": {},
   "outputs": [],
   "source": [
    "from mod import s, a, foo\n",
    "# from mod import *"
   ]
  },
  {
   "cell_type": "code",
   "execution_count": 64,
   "id": "635f868c",
   "metadata": {},
   "outputs": [
    {
     "name": "stdout",
     "output_type": "stream",
     "text": [
      "Hacktiv8\n",
      "[100, 200, 300]\n",
      "arg = 12\n",
      "None\n"
     ]
    }
   ],
   "source": [
    "print(s)\n",
    "print(a)\n",
    "print(foo(12))"
   ]
  },
  {
   "cell_type": "code",
   "execution_count": 67,
   "id": "383ce91d",
   "metadata": {},
   "outputs": [
    {
     "data": {
      "text/plain": [
       "['C:\\\\Users\\\\death\\\\Documents\\\\Semester 7\\\\Hacktiv8\\\\Python for Data Science\\\\PYTN-KS09\\\\sesi-03',\n",
       " 'C:\\\\Users\\\\death\\\\anaconda3\\\\python39.zip',\n",
       " 'C:\\\\Users\\\\death\\\\anaconda3\\\\DLLs',\n",
       " 'C:\\\\Users\\\\death\\\\anaconda3\\\\lib',\n",
       " 'C:\\\\Users\\\\death\\\\anaconda3',\n",
       " '',\n",
       " 'C:\\\\Users\\\\death\\\\anaconda3\\\\lib\\\\site-packages',\n",
       " 'C:\\\\Users\\\\death\\\\anaconda3\\\\lib\\\\site-packages\\\\win32',\n",
       " 'C:\\\\Users\\\\death\\\\anaconda3\\\\lib\\\\site-packages\\\\win32\\\\lib',\n",
       " 'C:\\\\Users\\\\death\\\\anaconda3\\\\lib\\\\site-packages\\\\Pythonwin']"
      ]
     },
     "execution_count": 67,
     "metadata": {},
     "output_type": "execute_result"
    }
   ],
   "source": [
    "import sys\n",
    "\n",
    "sys.path\n",
    "\n",
    "# sys.path.append(r'/Users/death')"
   ]
  },
  {
   "cell_type": "code",
   "execution_count": 71,
   "id": "ce82c871",
   "metadata": {},
   "outputs": [
    {
     "name": "stdout",
     "output_type": "stream",
     "text": [
      "arg = corge\n"
     ]
    }
   ],
   "source": [
    "def bar():\n",
    "    from mod import foo\n",
    "    foo('corge')\n",
    "\n",
    "bar()"
   ]
  },
  {
   "cell_type": "code",
   "execution_count": 72,
   "id": "cf18f1ce",
   "metadata": {},
   "outputs": [
    {
     "name": "stdout",
     "output_type": "stream",
     "text": [
      "Module not found\n"
     ]
    }
   ],
   "source": [
    "# Handle Traceback\n",
    "try:\n",
    "    import baz\n",
    "except ImportError:\n",
    "    print('Module not found')"
   ]
  },
  {
   "cell_type": "code",
   "execution_count": 73,
   "id": "d935c33f",
   "metadata": {},
   "outputs": [],
   "source": [
    "# import importlib\n",
    "# importlib.reload()"
   ]
  },
  {
   "cell_type": "code",
   "execution_count": null,
   "id": "38de772c",
   "metadata": {},
   "outputs": [],
   "source": []
  }
 ],
 "metadata": {
  "kernelspec": {
   "display_name": "Python 3 (ipykernel)",
   "language": "python",
   "name": "python3"
  },
  "language_info": {
   "codemirror_mode": {
    "name": "ipython",
    "version": 3
   },
   "file_extension": ".py",
   "mimetype": "text/x-python",
   "name": "python",
   "nbconvert_exporter": "python",
   "pygments_lexer": "ipython3",
   "version": "3.9.12"
  }
 },
 "nbformat": 4,
 "nbformat_minor": 5
}
